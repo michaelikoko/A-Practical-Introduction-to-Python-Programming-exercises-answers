{
 "cells": [
  {
   "cell_type": "code",
   "execution_count": 1,
   "metadata": {},
   "outputs": [
    {
     "name": "stdout",
     "output_type": "stream",
     "text": [
      "[3, 6, 9, 12, 15, 18, 21, 24, 27, 30, 33, 36, 39, 42, 45, 48, 51, 54, 57, 60, 63, 66, 69, 72, 75, 78, 81, 84, 87, 90, 93, 96, 99]\n"
     ]
    }
   ],
   "source": [
    "#1\n",
    "'''\n",
    "Write a program that uses list and range to create the list [3,6, 9, . . . , 99].\n",
    "'''\n",
    "theList = [i for i in range(3, 100, 3)]\n",
    "print(theList)"
   ]
  },
  {
   "cell_type": "code",
   "execution_count": 9,
   "metadata": {},
   "outputs": [
    {
     "name": "stdout",
     "output_type": "stream",
     "text": [
      "789 pounds is equal to 358.2kg.\n"
     ]
    }
   ],
   "source": [
    "#2\n",
    "'''\n",
    "Write a program that asks the user for a weight in poundss. The program should convert\n",
    "the weight to kilograms, formatting the result to one decimal place.\n",
    "'''\n",
    "weight = eval(input('Enter a weight in pounds: '))\n",
    "print(f'{weight} pounds is equal to {weight*0.454:.1f}kg.')"
   ]
  },
  {
   "cell_type": "code",
   "execution_count": 10,
   "metadata": {},
   "outputs": [
    {
     "name": "stdout",
     "output_type": "stream",
     "text": [
      "['One of Hearts.', 'One of Diamonds.', 'One of Clubs.', 'One of Spades.', 'Two of Hearts.', 'Two of Diamonds.', 'Two of Clubs.', 'Two of Spades.', 'Three of Hearts.', 'Three of Diamonds.', 'Three of Clubs.', 'Three of Spades.', 'Four of Hearts.', 'Four of Diamonds.', 'Four of Clubs.', 'Four of Spades.', 'Five of Hearts.', 'Five of Diamonds.', 'Five of Clubs.', 'Five of Spades.', 'Six of Hearts.', 'Six of Diamonds.', 'Six of Clubs.', 'Six of Spades.', 'Seven of Hearts.', 'Seven of Diamonds.', 'Seven of Clubs.', 'Seven of Spades.', 'Eight of Hearts.', 'Eight of Diamonds.', 'Eight of Clubs.', 'Eight of Spades.', 'Nine of Hearts.', 'Nine of Diamonds.', 'Nine of Clubs.', 'Nine of Spades.', 'Ten of Hearts.', 'Ten of Diamonds.', 'Ten of Clubs.', 'Ten of Spades.', 'Jack of Hearts.', 'Jack of Diamonds.', 'Jack of Clubs.', 'Jack of Spades.', 'Queen of Hearts.', 'Queen of Diamonds.', 'Queen of Clubs.', 'Queen of Spades.', 'King of Hearts.', 'King of Diamonds.', 'King of Clubs.', 'King of Spades.', 'Ace of Hearts.', 'Ace of Diamonds.', 'Ace of Clubs.', 'Ace of Spades.']\n"
     ]
    }
   ],
   "source": [
    "#3\n",
    "\"\"\"\n",
    "Use the following two lists and the format method to create a list of card names in the format\n",
    "card value of suit name (for example, 'Two of Clubs').\n",
    "\n",
    "suits = ['Hearts', 'Diamonds', 'Clubs', 'Spades']\n",
    "values = ['One', 'Two', 'Three', 'Four', 'Five', 'Six', 'Seven',\n",
    "'Eight', 'Nine', 'Ten', 'Jack', 'Queen', 'King', 'Ace']\n",
    "\"\"\"\n",
    "suits = ['Hearts', 'Diamonds', 'Clubs', 'Spades']\n",
    "values = ['One', 'Two', 'Three', 'Four', 'Five', 'Six', 'Seven', 'Eight', 'Nine', 'Ten', 'Jack', 'Queen', 'King', 'Ace']\n",
    "\n",
    "cardNames = [f'{value} of {suit}.' for value in values for suit in suits]"
   ]
  },
  {
   "cell_type": "code",
   "execution_count": 23,
   "metadata": {},
   "outputs": [
    {
     "name": "stdout",
     "output_type": "stream",
     "text": [
      "Strawberries      $2.01\n",
      "Potatoes          $4.73\n",
      "Oranges           $1.26\n",
      "Celery            $1.68\n",
      "Plums             $1.77\n",
      "Broccoli          $1.32\n",
      "Avocados          $1.00\n",
      "Lettuce           $2.06\n",
      "Cauliflower       $2.47\n",
      "Peaches           $2.11\n"
     ]
    }
   ],
   "source": [
    "#4\n",
    "'''\n",
    "Write a program that takes a list of ten prices and ten products, applies an 11% discount to\n",
    "each of the prices displays the output like below, right-justified and nicely formatted.\n",
    "\n",
    "Apples     $ 2.45\n",
    "Oranges    $ 18.02\n",
    "...\n",
    "Pears      $120.03\n",
    "'''\n",
    "products = ['Strawberries', 'Potatoes', 'Oranges', 'Celery', 'Plums', 'Broccoli', 'Avocados', 'Lettuce', 'Cauliflower', \n",
    "            'Peaches']\n",
    "prices = [2.26, 5.32, 1.42, 1.89, 1.99, 1.48, 1.12, 2.32, 2.77, 2.37]\n",
    "discountPrices = [price - (0.11*price) for price in prices]\n",
    "maxProdLength = max([len(product) for product in products])\n",
    "for i in range(len(products)):\n",
    "    print(f'{products[i]:<12s}      ${discountPrices[i]:>3.2f}')\n"
   ]
  },
  {
   "cell_type": "code",
   "execution_count": null,
   "metadata": {},
   "outputs": [],
   "source": [
    "#5\n",
    "'''\n",
    "'''"
   ]
  },
  {
   "cell_type": "code",
   "execution_count": 25,
   "metadata": {},
   "outputs": [
    {
     "name": "stdout",
     "output_type": "stream",
     "text": [
      "The two lists do not have items in common.\n"
     ]
    }
   ],
   "source": [
    "#6\n",
    "'''\n",
    "Write a program that uses a boolean flag variable in determining whether two lists have any\n",
    "items in common.\n",
    "'''\n",
    "list1 = [2, 4, 8]\n",
    "list2 = [1, 6, 3]\n",
    "flag = False\n",
    "for i in list1:\n",
    "    for k in list2:\n",
    "        if i == k:\n",
    "            flag = True\n",
    "if flag:\n",
    "    print('The two list has items in common.')\n",
    "else:\n",
    "    print('The two lists do not have items in common.')"
   ]
  },
  {
   "cell_type": "code",
   "execution_count": 29,
   "metadata": {},
   "outputs": [
    {
     "name": "stdout",
     "output_type": "stream",
     "text": [
      "1111111111111111111111111111111111111111111111111111111111111111111111111111111111111111111111111111\n",
      "100\n"
     ]
    }
   ],
   "source": [
    "#7\n",
    "'''\n",
    "Write a program that creates the list [1,11,111,1111,...,111...1], where the entries\n",
    "have an ever increasing number of ones, with the last entry having 100 ones.\n",
    "'''\n",
    "theList = [1]\n",
    "a = 1\n",
    "for i in range(1, 100):\n",
    "    a = a + 10**i\n",
    "    theList.append(a)\n",
    "print(theList)"
   ]
  },
  {
   "cell_type": "code",
   "execution_count": 32,
   "metadata": {},
   "outputs": [
    {
     "name": "stdout",
     "output_type": "stream",
     "text": [
      "[56, 126, 196, 266, 336, 406, 476, 546, 616, 686, 756, 826, 896, 966]\n"
     ]
    }
   ],
   "source": [
    "#8\n",
    "'''\n",
    "Write a program to find all numbers between 1 and 1000 that are divisible by 7 and end in a 6.\n",
    "'''\n",
    "numbers = [i for i in range(1, 1000) if i%7 == 0 and str(i)[-1] == '6']\n",
    "print(numbers)"
   ]
  },
  {
   "cell_type": "code",
   "execution_count": 34,
   "metadata": {},
   "outputs": [
    {
     "name": "stdout",
     "output_type": "stream",
     "text": [
      "There are 3439 numbers between 1 and 10000 that contain the digit 3.\n"
     ]
    }
   ],
   "source": [
    "#9\n",
    "'''\n",
    "Write a program to determine how many of the numbers between 1 and 10000 contain the digit 3.\n",
    "'''\n",
    "num3 = [i for i in range(1, 10000) if '3' in str(i)]\n",
    "print(f'There are {len(num3)} numbers between 1 and 10000 that contain the digit 3.')"
   ]
  },
  {
   "cell_type": "code",
   "execution_count": 13,
   "metadata": {},
   "outputs": [
    {
     "name": "stdout",
     "output_type": "stream",
     "text": [
      "[89, 98]\n"
     ]
    }
   ],
   "source": [
    "#10\n",
    "'''\n",
    "Adding certain numbers to their reversals sometimes produces a palindromic number. For\n",
    "instance, 241 + 142 = 383. Sometimes, we have to repeat the process. For instance, 84 + 48 =\n",
    "132 and 132 + 231 = 363. Write a program that finds both two-digit numbers for which this\n",
    "process must be repeated more than 20 times to obtain a palindromic number.\n",
    "'''\n",
    "n = list()\n",
    "for i in range(11, 100):\n",
    "    c = 0\n",
    "    a = i\n",
    "    while True:     \n",
    "        c += 1\n",
    "        a = a + int(str(a)[::-1]) \n",
    "\n",
    "        if str(a) == str(a)[::-1] and c < 20:\n",
    "            break\n",
    "        elif str(a) == str(a)[::-1] and c > 20:\n",
    "            n.append(i)\n",
    "            break\n",
    "print(n)  \n",
    "    "
   ]
  },
  {
   "cell_type": "code",
   "execution_count": 9,
   "metadata": {},
   "outputs": [
    {
     "name": "stdout",
     "output_type": "stream",
     "text": [
      "[(199991, 200002), (299992, 300003), (399993, 400004), (499994, 500005), (599995, 600006), (699996, 700007), (799997, 800008), (899998, 900009)]\n"
     ]
    }
   ],
   "source": [
    "#11\n",
    "'''\n",
    "Write a program that finds all pairs of six-digit palindromic numbers that are less than 20 apart. One such \n",
    "pair is 199991 and 200002.\n",
    "'''\n",
    "pal = [i for i in range(100000, 1000000) if str(i) == str(i)[::-1]]\n",
    "pair = list()\n",
    "for i in range(len(pal) - 1):\n",
    "    if pal[i+1] - pal[i] < 20:\n",
    "        pair.append((pal[i], pal[i+1]))\n",
    "print(pair)"
   ]
  },
  {
   "cell_type": "code",
   "execution_count": null,
   "metadata": {},
   "outputs": [],
   "source": [
    "#12\n",
    "'''\n",
    "The number 1961 reads the same upside-down as right-side up. Print out all the numbers between 1 and 100000 that read the same \n",
    "upside-down as right-side up.\n",
    "'''\n"
   ]
  },
  {
   "cell_type": "code",
   "execution_count": 28,
   "metadata": {},
   "outputs": [
    {
     "name": "stdout",
     "output_type": "stream",
     "text": [
      "[19, 29, 39, 49, 59, 69, 79, 89, 99]\n",
      "9\n"
     ]
    }
   ],
   "source": [
    "#13\n",
    "'''\n",
    "The number 99 has the property that if we multiply its digits together and then add the sum\n",
    "of its digits to that, we get back to 99. That is, (9 × 9) + (9 + 9) = 99. Write a program to find\n",
    "all of the numbers less than 10000 with this property. (There are only nine of them.)\n",
    "'''\n",
    "\n",
    "prop = list()\n",
    "for num in range(1, 10000):\n",
    "    a = 1; b = 0\n",
    "    for d in str(num):\n",
    "        a *= int(d)\n",
    "        b += int(d)\n",
    "    if a + b == num:\n",
    "        prop.append(num)\n",
    "print(prop)\n",
    "#print(len(prop))\n"
   ]
  },
  {
   "cell_type": "code",
   "execution_count": 30,
   "metadata": {},
   "outputs": [
    {
     "name": "stdout",
     "output_type": "stream",
     "text": [
      "The number is 153846\n"
     ]
    }
   ],
   "source": [
    "#14\n",
    "'''\n",
    "Write a program to find the smallest positive integer that satisfies the following property: If\n",
    "you take the leftmost digit and move it all the way to the right, the number thus obtained is\n",
    "exactly 3.5 times larger than the original number. For instance, if we start with 2958 and move\n",
    "the 2 all the way to the right, we get 9582, which is roughly 3.2 times the original number.\n",
    "'''\n",
    "spi = 0\n",
    "i = 10\n",
    "while True:\n",
    "    num = int(str(i)[1:] + str(i)[0])\n",
    "    if i * 3.5 == num:\n",
    "        spi = i\n",
    "        break\n",
    "    i += 1\n",
    "print(f'The number is {spi}')"
   ]
  },
  {
   "cell_type": "code",
   "execution_count": 37,
   "metadata": {},
   "outputs": [
    {
     "name": "stdout",
     "output_type": "stream",
     "text": [
      "249\n"
     ]
    }
   ],
   "source": [
    "#15\n",
    "'''\n",
    "Write a program to determine how many zeroes 1000! ends with.\n",
    "'''\n",
    "import math\n",
    "a = str(math.factorial(1000))\n",
    "count = 1\n",
    "for i in range(len(a)):\n",
    "    if a[-2-i] == a[-1-i] == '0':\n",
    "        count += 1\n",
    "    else:\n",
    "        break\n",
    "print(count)"
   ]
  },
  {
   "cell_type": "code",
   "execution_count": 53,
   "metadata": {},
   "outputs": [
    {
     "name": "stdout",
     "output_type": "stream",
     "text": [
      "4.75 feet is equal to 4 feet, 9.0 inches.\n"
     ]
    }
   ],
   "source": [
    "#16\n",
    "'''\n",
    "Write a program that converts a decimal height in feet into feet and inches. For instance, an\n",
    "input of 4.75 feet should become 4 feet, 9 inches.\n",
    "'''\n",
    "height = 0\n",
    "while (type(height) != float):\n",
    "    height = eval(input('Input a height in feet:'))\n",
    "print(f'{height} feet is equal to {int(height)} feet, {12*(height-int(height))} inches.')"
   ]
  },
  {
   "cell_type": "code",
   "execution_count": 59,
   "metadata": {},
   "outputs": [
    {
     "name": "stdout",
     "output_type": "stream",
     "text": [
      "You entered: 3 4-footers, 1 5-footers, 2 6-footers, and 2 7-footers.\n"
     ]
    }
   ],
   "source": [
    "#17\n",
    "'''\n",
    "Write a program that repeatedly asks the user to enter a height in the format feet’inches\" (like\n",
    "5'11\" or 6'3\". The user indicates they are done entering heights by entering done. The\n",
    "program should return a count of how many 4-footers, 5-footers, 6-footers, and 7-footers\n",
    "were entered.\n",
    "'''\n",
    "heightList = list()\n",
    "while True:\n",
    "    height = input('Enter a height in the format feet\\'inches\" (like 5\\'11\" or 6\\'3\")\\nEnter \"done\" when done: ')\n",
    "    if height.lower().startswith('d'):\n",
    "        break\n",
    "    a = height.index(\"'\")\n",
    "    if height[:a].isdecimal() and height[a+1:-1].isdecimal():\n",
    "        heightList.append(int(height[:a]))\n",
    "    else:\n",
    "        print('Invalid format.')\n",
    "        continue\n",
    "print(f'You entered: {heightList.count(4)} 4-footers, {heightList.count(5)} 5-footers, {heightList.count(6)} 6-footers, and {heightList.count(7)} 7-footers.')\n",
    "    "
   ]
  },
  {
   "cell_type": "code",
   "execution_count": 2,
   "metadata": {},
   "outputs": [
    {
     "name": "stdout",
     "output_type": "stream",
     "text": [
      "HIGHEST SCORE: 42\n",
      "LOWEST SCORE: 2.\n"
     ]
    }
   ],
   "source": [
    "#18\n",
    "'''\n",
    "Write a program that repeatedly asks the user to enter a football score in the format winning\n",
    "score-losing score (like 27-13 or 21-3). The user indicates they are done entering scores by\n",
    "entering done. The program should then output the highest score and the lowest score out of\n",
    "all the scores entered.\n",
    "'''\n",
    "winningScore = list()\n",
    "losingScore = list()\n",
    "while True:\n",
    "    score = input('Enter an American football score in the format winning score-losing score (like 27-13 or 21-3): (Enter \"done\" when done) ')\n",
    "    if score.lower().startswith(\"d\"):\n",
    "        break\n",
    "    if '-' in score:\n",
    "        if score[:score.index('-')].isdecimal() and score[score.index('-')+1:].isdecimal and (len(score.split('-')) == 2):\n",
    "            score = score.strip()\n",
    "            scoreList = score.split('-')\n",
    "            if int(scoreList[0]) > int(scoreList[1]):\n",
    "                winningScore.append(int(scoreList[0]))\n",
    "                losingScore.append(int(scoreList[1]))\n",
    "            else:\n",
    "                print('Invalid format.')\n",
    "                continue\n",
    "        else:\n",
    "            print('Invalid format.')\n",
    "            continue\n",
    "    else:\n",
    "        print('Invalid format.')\n",
    "        continue\n",
    "print(f'HIGHEST SCORE: {max(winningScore)}\\nLOWEST SCORE: {min(losingScore)}.')"
   ]
  },
  {
   "cell_type": "code",
   "execution_count": 4,
   "metadata": {},
   "outputs": [
    {
     "name": "stdout",
     "output_type": "stream",
     "text": [
      "A total of 5 birthdays are in February.\n",
      "A total of 3 birthdays are on the 25th.\n"
     ]
    }
   ],
   "source": [
    "#19\n",
    "'''\n",
    "Write a program that repeatedly asks the user to enter a birthday in the format month/day\n",
    "(like 12/25 or 2/14). The user indicates they are done entering birthdays by entering done.\n",
    "The program should return a count of how many of those birthdays are in February and how\n",
    "many are on the 25th of some month (any month).\n",
    "'''\n",
    "countFeb = 0\n",
    "count25th = 0\n",
    "while True:\n",
    "    birthday = input('Enter a birthday in the format month/day (like 12/25 or 2/14): (Enter \"done\" when done) ')\n",
    "    if birthday.lower().startswith('d'):\n",
    "        break\n",
    "    if '/' in birthday:\n",
    "        if birthday[:birthday.index('/')].isdecimal() and birthday[birthday.index('/')+1:].isdecimal():\n",
    "            if int(birthday[:birthday.index('/')]) > 12 or int(birthday[birthday.index('/')+1:]) > 31:\n",
    "                print('Invalid date.')\n",
    "                continue\n",
    "            else:\n",
    "                birthday = birthday.strip()\n",
    "                monthDay = birthday.split('/') \n",
    "                if int(monthDay[0]) == 2:\n",
    "                    countFeb += 1\n",
    "                if int(monthDay[1]) == 25:\n",
    "                    count25th += 1\n",
    "        else:\n",
    "            print('Invalid format.')\n",
    "            continue\n",
    "    else:\n",
    "        print('Invalid format.')\n",
    "        continue\n",
    "print(f'A total of {countFeb} birthdays are in February.\\nA total of {count25th} birthdays are on the 25th.')"
   ]
  },
  {
   "cell_type": "code",
   "execution_count": 9,
   "metadata": {},
   "outputs": [
    {
     "name": "stdout",
     "output_type": "stream",
     "text": [
      "9/13/2021 can be written as September 13, 2021.\n"
     ]
    }
   ],
   "source": [
    "#20\n",
    "'''\n",
    "Write a program that asks the user to enter a date in the format mm/dd/yy and converts it\n",
    "to a more verbose format. For example, 02/04/77 should get converted into February 4,\n",
    "1977\n",
    "'''\n",
    "months = {1: 'January', 2: 'February', 3: 'March', 4: 'April', 5: 'May', 6: 'June', 7: 'July', 8: 'August', 9: 'September', 10: 'October', 11: 'November',\n",
    "         12: 'December'}\n",
    "while True:    \n",
    "    date = input('Enter a date in the format mm/dd/yy: ')\n",
    "    if '/' in date:\n",
    "        if (len(date.split('/')) != 3) or int(date.split('/')[0]) > 12 or int(date.split('/')[1]) > 31 or (len(date.split('/')[2]) != 4):\n",
    "            print('Invalid date.')\n",
    "            continue\n",
    "        else:\n",
    "            dateSplit = date.split('/')\n",
    "            break \n",
    "    else:\n",
    "        print('Invalid format.')\n",
    "        continue\n",
    "print(f'{date} can be written as {months[int(dateSplit[0])]} {int(dateSplit[1])}, {dateSplit[2]}.')\n"
   ]
  },
  {
   "cell_type": "code",
   "execution_count": 18,
   "metadata": {},
   "outputs": [
    {
     "name": "stdout",
     "output_type": "stream",
     "text": [
      "26/13 reduced to it's lowest term is 2/1\n"
     ]
    }
   ],
   "source": [
    "#21\n",
    "'''\n",
    "Write a program that asks the user to enter a fraction in the form of a string like '1/2' or\n",
    "'8/24'. The program should reduce the fraction to lowest terms and print out the result.\n",
    "'''\n",
    "while True:\n",
    "    fraction = input('Enter a fraction in the format (1/2 or 8/24): ')\n",
    "    if '/' in fraction:\n",
    "        if fraction[:fraction.index('/')].isdecimal() and fraction[fraction.index('/')+1:].isdecimal():\n",
    "            numerator = int(fraction.split('/')[0])\n",
    "            denominator = int(fraction.split('/')[1])\n",
    "            if numerator < denominator:\n",
    "                GCD = max([i for i in range(1, numerator+1) if numerator%i == 0 and denominator%i == 0])\n",
    "                if GCD == 1:\n",
    "                    print(f'{fraction} cannot be reduced.')\n",
    "                else:\n",
    "                    numerator = int(numerator/GCD)\n",
    "                    denominator = int(denominator/GCD)\n",
    "                    print(f'{fraction} reduced to it\\'s lowest term is {numerator}/{denominator}')\n",
    "                break\n",
    "            elif numerator == denominator:\n",
    "                print(f'{fraction} reduced to it\\'s lowest term is 1.')\n",
    "                break\n",
    "            else:\n",
    "                GCD = max([i for i in range(1, denominator+1) if numerator%i == 0 and denominator%i == 0])\n",
    "                if GCD == 1:\n",
    "                    print(f'{fraction} cannot be reduced.')\n",
    "                else:\n",
    "                    numerator = int(numerator/GCD)\n",
    "                    denominator = int(denominator/GCD)\n",
    "                    print(f'{fraction} reduced to it\\'s lowest term is {numerator}/{denominator}')\n",
    "                break\n",
    "        else:\n",
    "            print('Invalid input.')\n",
    "    else:\n",
    "        print('Invalid input.')\n",
    "        continue"
   ]
  },
  {
   "cell_type": "code",
   "execution_count": 29,
   "metadata": {},
   "outputs": [
    {
     "name": "stdout",
     "output_type": "stream",
     "text": [
      "The four solutions are: \n",
      "(1) 75 oranges, 25 mangoes, and 0 starfruits.\n",
      "(2) 78 oranges, 18 mangoes, and 4 starfruits.\n",
      "(3) 81 oranges, 11 mangoes, and 8 starfruits.\n",
      "(4) 84 oranges, 4 mangoes, and 12 starfruits.\n"
     ]
    }
   ],
   "source": [
    "#22\n",
    "'''\n",
    "Write a program to find all four solutions to the following problem: If a starfruit is worth $5,\n",
    "a mango is worth $3, and three oranges together cost $1, how many starfruits, mangoes, and\n",
    "oranges, totaling 100, can be bought for $100?\n",
    "'''\n",
    "solutions = []\n",
    "for oranges in range(3, 100, 3):\n",
    "    for mangoes in range(1, 100):\n",
    "        starfruit = 100 - (oranges + mangoes)\n",
    "        if int(oranges//3) + mangoes*3 + starfruit*5 == 100 and not starfruit < 0:\n",
    "            solutions.append((oranges, mangoes, starfruit))\n",
    "print('The four solutions are: ')\n",
    "i = 1\n",
    "for o, m, s in solutions:\n",
    "    print(f'({i}) {o} oranges, {m} mangoes, and {s} starfruits.')\n",
    "    i += 1\n",
    "#print(solutions, len(solutions))"
   ]
  },
  {
   "cell_type": "code",
   "execution_count": 1,
   "metadata": {},
   "outputs": [
    {
     "name": "stdout",
     "output_type": "stream",
     "text": [
      "76\n"
     ]
    }
   ],
   "source": [
    "#23\n",
    "'''\n",
    "The currency of a strange country has coins worth 7 cents and 11 cents. Write a program to\n",
    "determine the largest purchase price that cannot be paid using these two coins.\n",
    "'''\n"
   ]
  },
  {
   "cell_type": "code",
   "execution_count": 24,
   "metadata": {},
   "outputs": [
    {
     "name": "stdout",
     "output_type": "stream",
     "text": [
      "The answer to the puzzle 43 + 57 = 207, is: 52 + 66 = 118\n"
     ]
    }
   ],
   "source": [
    "#24(I)\n",
    "'''\n",
    "Here is an old puzzle you can solve using brute force by using a computer program to check\n",
    "all the possibilities: In the calculation 43 + 57 = 207, every digit is precisely one away from\n",
    "its true value. What is the correct calculation?\n",
    "'''\n",
    "num1 = list(range(33, 55))\n",
    "num2 = list(range(46, 69))\n",
    "num3 = list(range(106, 319))\n",
    "for n1 in num1:\n",
    "    for n2 in num2:\n",
    "        for n3 in num3:\n",
    "            if n1 + n2 == n3:\n",
    "                if abs(int(str(n1)[0])-4) == 1 and abs(int(str(n1)[1])-3) == 1:\n",
    "                    if abs(int(str(n2)[0])-5) == 1 and abs(int(str(n2)[1])-7) == 1:\n",
    "                        if abs(int(str(n3)[0])-2) == 1 and abs(int(str(n3)[1])-0) == 1 and abs(int(str(n3)[2])-7) == 1:                            \n",
    "                            ans1, ans2, ans3 = n1, n2, n3\n",
    "                            break\n",
    "print(f'The answer to the puzzle 43 + 57 = 207, is: {ans1} + {ans2} = {ans3}')      \n"
   ]
  },
  {
   "cell_type": "code",
   "execution_count": 26,
   "metadata": {},
   "outputs": [
    {
     "name": "stdout",
     "output_type": "stream",
     "text": [
      "All integer solutions to Pell's equation x^2 - 2y^2 = 1 are: \n",
      "(1) x = 3, y = 2.\n",
      "(2) x = 17, y = 12.\n",
      "(3) x = 99, y = 70.\n"
     ]
    }
   ],
   "source": [
    "#25\n",
    "'''\n",
    "Write a program that finds all integer solutions to Pell’s equation x^2 − 2y^2 = 1, where x and\n",
    "y are between 1 and 100.\n",
    "'''\n",
    "intSol = [(x, y) for x in range(1, 100) for y in range(1, 100) if (x**2) - 2*(y**2) == 1]\n",
    "print('All integer solutions to Pell\\'s equation x^2 - 2y^2 = 1 are: ')\n",
    "i = 1\n",
    "for x, y in intSol:\n",
    "    print(f'({i}) x = {x}, y = {y}.')\n",
    "    i += 1"
   ]
  },
  {
   "cell_type": "code",
   "execution_count": 36,
   "metadata": {},
   "outputs": [
    {
     "name": "stdout",
     "output_type": "stream",
     "text": [
      "The ways of printing out the number 57 as the difference of two perfect squares is: \n",
      "11^2 - 8^2 = 57\n",
      "29^2 - 28^2 = 57\n"
     ]
    }
   ],
   "source": [
    "#26\n",
    "'''\n",
    "Write a program that asks the user for a number and prints out all the ways to write the\n",
    "number as difference of two perfect squares, x^2 − y^2, where x and y are both between 1 and\n",
    "1000. Writing a number as a difference of two squares leads to clever techniques for factoring\n",
    "large numbers.\n",
    "'''\n",
    "num = int(input('Input a number: '))\n",
    "x = y =list(range(1, 1001))\n",
    "ways = [(i, k) for i in x for k in y if (i+k)*(i-k) == num]\n",
    "if len(ways) == 0:\n",
    "    print(f'The number {num} cannot be written as the difference of two perfect squares.')\n",
    "else:\n",
    "    print(f'The ways of printing out the number {num} as the difference of two perfect squares is: ')\n",
    "    for i, k in ways:\n",
    "        print(f'{i}^2 - {k}^2 = {num}')"
   ]
  },
  {
   "cell_type": "code",
   "execution_count": null,
   "metadata": {},
   "outputs": [],
   "source": [
    "#27\n",
    "'''\n",
    "Write a program that simulates all possible rolls of four dice and for each simulated roll, finds\n",
    "the sums of pairs of dice. For instance, if the roll is 5 1 2 4, the sums are 6, 8, 9, 3 ,5, and 6.\n",
    "For each of the possible sums from 2 to 12, find the total number of simulated rolls in which\n",
    "the sum appears and what percentage of the simulated rolls had those sums appear. Output\n",
    "the totals and percentages, nicely formatted, with the percentages formatted to one decimal\n",
    "place. To check your work, you should find that the sum 2 comes up in 171 rolls, which is\n",
    "13.2% of the rolls.\n",
    "'''"
   ]
  },
  {
   "cell_type": "code",
   "execution_count": 1,
   "metadata": {},
   "outputs": [
    {
     "name": "stdout",
     "output_type": "stream",
     "text": [
      "The complete magic square is: \n",
      "5  4  9  \n",
      "10 6  2  \n",
      "3  8  7  \n"
     ]
    }
   ],
   "source": [
    "#28\n",
    "'''\n",
    "In a magic square, each row, each column, and both diagonals add up to the same number.\n",
    "A partially filled magic square is shown below. Write a program to check through all the\n",
    "possibilities to fill in the magic square.\n",
    "\n",
    "5 _ _\n",
    "_ 6 2\n",
    "3 8 _\n",
    "'''\n",
    "import pprint\n",
    "magicSquare = [[5, '_', '_'], \n",
    "               ['_', 6, 2], \n",
    "               [3, 8, '_']]\n",
    "emptySpaces = [(r, c) for r in range(3) for c in range(3) if magicSquare[r][c] == '_']\n",
    "a = []\n",
    "for i in range(1, 20):\n",
    "    for j in range(1, 20):\n",
    "        for k in range(1, 20):\n",
    "            for l in range(1, 20):\n",
    "                magicSquare[0][1] = i\n",
    "                magicSquare[0][2] = j\n",
    "                magicSquare[1][0] = k\n",
    "                magicSquare[2][2] = l\n",
    "                magNum = sum([magicSquare[m][m] for m in range(3)])\n",
    "                if sum([magicSquare[m][2-m] for m in range(3)]) == magNum:\n",
    "                    row1, row2, row3 = [sum(row) for row in magicSquare]\n",
    "                    if row1 == row2 == row3 == magNum:\n",
    "                        col1,col2, col3 = [sum([magicSquare[r][c] for r in range(3)]) for c in range(3)]\n",
    "                        if col1 == col2 == col3 == magNum:\n",
    "                            a = [[i for i in r] for r in magicSquare]\n",
    "                            #print(magicSquare)\n",
    "                            break\n",
    "print('The complete magic square is: ')\n",
    "for row in a:\n",
    "    for num in row:\n",
    "        print(f'{num:<2d}', end=' ')\n",
    "    print()"
   ]
  },
  {
   "cell_type": "code",
   "execution_count": null,
   "metadata": {},
   "outputs": [],
   "source": [
    "#29\n",
    "'''\n",
    "The following is useful as part of a program to play Minesweeper. Suppose you have a 5 x 5\n",
    "list that consists of zeros and M’s. Write a program that creates a new 5×5 list that has M's in\n",
    "the same place, but the zeroes are replaced by counts of how many M’s are in adjacent cells\n",
    "(adjacent either horizontally, vertically, or diagonally). An example is shown below. [Hint:\n",
    "short-circuiting may be helpful for avoiding index-out-of-range errors.]\n",
    "\n",
    "0 M 0 M 0     1 M 3 M 1\n",
    "0 0 M 0 0     1 2 M 2 1\n",
    "0 0 0 0 0     2 3 2 1 0\n",
    "M M 0 0 0     M M 2 1 1\n",
    "0 0 0 M 0     2 2 2 M 1\n",
    "\n",
    "'''"
   ]
  },
  {
   "cell_type": "code",
   "execution_count": null,
   "metadata": {},
   "outputs": [],
   "source": [
    "#30\n",
    "'''\n",
    "Pascal’s triangle is shown below. On the outside are 1’s and each other number is the sum of\n",
    "the two numbers directly above it. Write a program to generate Pascal’s triangle. Allow the\n",
    "user to specify the number of rows. Be sure that it is nicely formatted, like below.\n",
    "           1\n",
    "        1    1\n",
    "      1    2    1\n",
    "    1   3    3    1\n",
    "  1   4    6    4   1\n",
    "1   5   10   10   5   1\n",
    "\n",
    "'''"
   ]
  },
  {
   "cell_type": "code",
   "execution_count": null,
   "metadata": {},
   "outputs": [],
   "source": [
    "#31\n",
    "'''\n",
    "Given two dates entered as strings in the form mm/dd/yyyy where the years are between\n",
    "1901 and 2099, determine how many days apart they are. Here is a bit of information that\n",
    "may be useful: Leap years between 1901 and 2099 occur exactly every four years, starting at\n",
    "1904. February has 28 days, 29 during a leap year. November, April, June, and September\n",
    "each have 30 days. The other months have 31 days.\n",
    "'''"
   ]
  },
  {
   "cell_type": "code",
   "execution_count": null,
   "metadata": {},
   "outputs": [],
   "source": [
    "#32\n",
    "'''\n",
    "Monte Carlo simulations can be used to estimate all sorts of things, including probabilities of\n",
    "coin flip and dice events. As an example, to estimate the probability of rolling a pair of sixes\n",
    "with two dice, we could use random integers to simulate the dice and run the simulation\n",
    "thousands of times, counting what percentage of the time a pair of sixes comes up.\n",
    "(a) Estimate the probability of rolling a Yahtzee in a single roll of five dice. That is estimate\n",
    "the probability that when rolling five dice they all come out to be the same number.\n",
    "(b) Estimate the probability of rolling a large straight in a single roll of five dice. A large\n",
    "straight is a roll where the dice come out 1-2-3-4-5 or 2-3-4-5-6 in any order.\n",
    "(c) Estimate the average longest run of heads or tails when flipping a coin 200 times.\n",
    "(d) Estimate the average number of coin flips it takes before five heads in a row come up.\n",
    "(e) Estimate the average number of coin flips it takes before the string s comes up, where s\n",
    "is a string of heads and tails, like HHTTH.\n",
    "'''"
   ]
  }
 ],
 "metadata": {
  "interpreter": {
   "hash": "ac59ebe37160ed0dfa835113d9b8498d9f09ceb179beaac4002f036b9467c963"
  },
  "kernelspec": {
   "display_name": "Python 3.9.6 64-bit",
   "name": "python3"
  },
  "language_info": {
   "codemirror_mode": {
    "name": "ipython",
    "version": 3
   },
   "file_extension": ".py",
   "mimetype": "text/x-python",
   "name": "python",
   "nbconvert_exporter": "python",
   "pygments_lexer": "ipython3",
   "version": "3.9.6"
  }
 },
 "nbformat": 4,
 "nbformat_minor": 5
}
