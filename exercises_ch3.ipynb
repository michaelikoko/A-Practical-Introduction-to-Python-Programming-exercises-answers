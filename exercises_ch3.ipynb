{
 "cells": [
  {
   "cell_type": "code",
   "execution_count": 8,
   "source": [
    "#1\r\n",
    "from random import randint\r\n",
    "for i in range(50):\r\n",
    "    print(randint(3,6), '', end='')"
   ],
   "outputs": [
    {
     "output_type": "stream",
     "name": "stdout",
     "text": [
      "4 6 5 6 4 4 6 4 5 4 6 6 3 3 3 3 5 4 5 4 6 6 3 6 3 3 6 4 4 3 4 4 5 3 5 5 4 5 4 4 5 5 4 6 4 5 3 4 6 3 "
     ]
    }
   ],
   "metadata": {}
  },
  {
   "cell_type": "code",
   "execution_count": 10,
   "source": [
    "#2\r\n",
    "from random import randint\r\n",
    "x = randint(1,50)\r\n",
    "y = randint(2, 5)\r\n",
    "b = x**y\r\n",
    "print(f'{x} raised to the power of {y} is {b}.')"
   ],
   "outputs": [
    {
     "output_type": "stream",
     "name": "stdout",
     "text": [
      "25 raised to the power of 3 is 15625.\n"
     ]
    }
   ],
   "metadata": {}
  },
  {
   "cell_type": "code",
   "execution_count": 12,
   "source": [
    "#3\r\n",
    "from random import randint\r\n",
    "name = input('Input your name: ')\r\n",
    "frequency = randint(1, 10)\r\n",
    "for i in range(frequency):\r\n",
    "    print(name)"
   ],
   "outputs": [
    {
     "output_type": "stream",
     "name": "stdout",
     "text": [
      "Michael Ikoko\n",
      "Michael Ikoko\n",
      "Michael Ikoko\n",
      "Michael Ikoko\n",
      "Michael Ikoko\n",
      "Michael Ikoko\n",
      "Michael Ikoko\n",
      "Michael Ikoko\n"
     ]
    }
   ],
   "metadata": {}
  },
  {
   "cell_type": "code",
   "execution_count": 24,
   "source": [
    "#4\r\n",
    "from random import uniform\r\n",
    "b = round(uniform(1.00, 10.00), 2)\r\n",
    "print(b)"
   ],
   "outputs": [
    {
     "output_type": "stream",
     "name": "stdout",
     "text": [
      "2.36\n"
     ]
    }
   ],
   "metadata": {}
  },
  {
   "cell_type": "code",
   "execution_count": 27,
   "source": [
    "#5\r\n",
    "from random import randint\r\n",
    "for i in range(1, 51):\r\n",
    "    print(randint(1, i +1), '', end='')"
   ],
   "outputs": [
    {
     "output_type": "stream",
     "name": "stdout",
     "text": [
      "2 2 4 3 1 1 2 4 6 1 6 11 6 7 11 15 4 7 15 7 8 13 5 21 8 21 16 15 30 4 21 15 27 8 33 21 27 11 34 41 30 16 11 1 37 38 19 27 45 48 "
     ]
    }
   ],
   "metadata": {}
  },
  {
   "cell_type": "code",
   "execution_count": 28,
   "source": [
    "#6\r\n",
    "x = eval(input('Input the value of x: '))\r\n",
    "y = eval(input('Input the value of y: '))\r\n",
    "print((abs(x-y))/(x + y))"
   ],
   "outputs": [
    {
     "output_type": "stream",
     "name": "stdout",
     "text": [
      "0.1111111111111111\n"
     ]
    }
   ],
   "metadata": {}
  },
  {
   "cell_type": "code",
   "execution_count": 3,
   "source": [
    "#7\r\n",
    "angle = eval(input('Input an angle between -180 and 180:'))\r\n",
    "print(f'The equivalent of {angle}\\N{DEGREE SIGN}, between 0\\N{DEGREE SIGN} and 360\\N{DEGREE SIGN} is: ', angle%360, '\\N{DEGREE SIGN}.', sep='')"
   ],
   "outputs": [
    {
     "output_type": "stream",
     "name": "stdout",
     "text": [
      "The equivalent of -140°, between 0° and 360° is: 220°.\n"
     ]
    }
   ],
   "metadata": {}
  },
  {
   "cell_type": "code",
   "execution_count": 5,
   "source": [
    "#8 I\r\n",
    "num = eval(input('Input time in seconds: '))\r\n",
    "print(f'{num} seconds is ', num//60, ' minutes and ', num%60, ' seconds.', sep='' )"
   ],
   "outputs": [
    {
     "output_type": "stream",
     "name": "stdout",
     "text": [
      "500 seconds is 8 minutes and 20 seconds.\n"
     ]
    }
   ],
   "metadata": {}
  },
  {
   "cell_type": "code",
   "execution_count": 7,
   "source": [
    "#8 II\r\n",
    "from math import floor\r\n",
    "num = eval(input('Input time in seconds: '))\r\n",
    "print(f'{num} seconds is ', floor(num/60), ' minutes and ', num%60, ' seconds.', sep='' )"
   ],
   "outputs": [
    {
     "output_type": "stream",
     "name": "stdout",
     "text": [
      "9000 seconds is 150 minutes and 0 seconds.\n"
     ]
    }
   ],
   "metadata": {}
  },
  {
   "cell_type": "code",
   "execution_count": 8,
   "source": [
    "#9\r\n",
    "hour = int(input('Enter hour: '))\r\n",
    "hours_ahead = int(input('How many hours ahead? '))\r\n",
    "print('New hour: ', (hour + hours_ahead)%12, ' o\\'clock.', sep='')"
   ],
   "outputs": [
    {
     "output_type": "stream",
     "name": "stdout",
     "text": [
      "New hour: 3 o'clock.\n"
     ]
    }
   ],
   "metadata": {}
  },
  {
   "cell_type": "code",
   "execution_count": 10,
   "source": [
    "#10 (a)\r\n",
    "power = eval(input('Input a power: '))\r\n",
    "print(f'The last digit of 2 raised to the power of {power} is ', (2**power)%10, '.', sep='')"
   ],
   "outputs": [
    {
     "output_type": "stream",
     "name": "stdout",
     "text": [
      "The last digit of 2 raised to the power of 9 is 2.\n"
     ]
    }
   ],
   "metadata": {}
  },
  {
   "cell_type": "code",
   "execution_count": 11,
   "source": [
    "#10 (b)\r\n",
    "power = eval(input('Input a power: '))\r\n",
    "print(f'The last two digits of 2 raised to the power of {power} is ', (2**power)%100, '.', sep='')"
   ],
   "outputs": [
    {
     "output_type": "stream",
     "name": "stdout",
     "text": [
      "The last two digits of 2 raised to the power of 9 is 12.\n"
     ]
    }
   ],
   "metadata": {}
  },
  {
   "cell_type": "code",
   "execution_count": 13,
   "source": [
    "#10 (c)\r\n",
    "power = eval(input('Input a power: '))\r\n",
    "num = int(input('Input the number of digits you want: '))\r\n",
    "print(f'The last {num} digits of 2 raised to the power of {power} is ', (2**power)%(10**num), '.', sep='')"
   ],
   "outputs": [
    {
     "output_type": "stream",
     "name": "stdout",
     "text": [
      "The last 7 digits of 2 raised to the power of 15 is 32768.\n"
     ]
    }
   ],
   "metadata": {}
  },
  {
   "cell_type": "code",
   "execution_count": 15,
   "source": [
    "#11\r\n",
    "weight = eval(input('Input a weight in kilograms: '))\r\n",
    "print(f'The value of {weight} kgs in pounds is ', round((weight*2.20461),1), ' lbs (to the nearest tenth.)', sep='')"
   ],
   "outputs": [
    {
     "output_type": "stream",
     "name": "stdout",
     "text": [
      "The value of 220 kgs in pounds is 485.0 lbs (to the nearest tenth.)\n"
     ]
    }
   ],
   "metadata": {}
  },
  {
   "cell_type": "code",
   "execution_count": 1,
   "source": [
    "#12\r\n",
    "from math import factorial\r\n",
    "num = int(input('Input a number: '))\r\n",
    "print(f'The value of {num}! is ', factorial(num), '.', sep='')"
   ],
   "outputs": [],
   "metadata": {}
  },
  {
   "cell_type": "code",
   "execution_count": 42,
   "source": [
    "#13\r\n",
    "from math import *\r\n",
    "ang = eval(input('Input an angle(in degrees): '))\r\n",
    "deg = (ang)*(pi/180)\r\n",
    "print(f'sine({ang}):', round((sin(deg)), 4), f'\\ncosine({ang}):', round((cos(deg)), 4), f'\\ntangent({ang}):', round((tan(deg)),4))"
   ],
   "outputs": [
    {
     "output_type": "stream",
     "name": "stdout",
     "text": [
      "sine(45): 0.7071 \n",
      "cosine(45): 0.7071 \n",
      "tangent(45): 1.0\n"
     ]
    }
   ],
   "metadata": {}
  },
  {
   "cell_type": "code",
   "execution_count": 41,
   "source": [
    "#14\r\n",
    "from math import *\r\n",
    "deg = eval(input('Input an angle(in degrees): '))\r\n",
    "print(f'The sine of {deg}\\N{DEGREE SIGN} is ', round(sin(deg*(pi/180)), 4), '.', sep='')"
   ],
   "outputs": [
    {
     "output_type": "stream",
     "name": "stdout",
     "text": [
      "The sine of 60° is 0.866.\n"
     ]
    }
   ],
   "metadata": {}
  },
  {
   "cell_type": "code",
   "execution_count": 43,
   "source": [
    "#15\r\n",
    "from math import *\r\n",
    "for i in range(0,346,15):\r\n",
    "    deg = (i * (pi/180))\r\n",
    "    print(f'{i}\\N{DEGREE SIGN} ---', round((sin(deg)), 4), round((cos(deg)),4))"
   ],
   "outputs": [
    {
     "output_type": "stream",
     "name": "stdout",
     "text": [
      "0° --- 0.0 1.0\n",
      "15° --- 0.2588 0.9659\n",
      "30° --- 0.5 0.866\n",
      "45° --- 0.7071 0.7071\n",
      "60° --- 0.866 0.5\n",
      "75° --- 0.9659 0.2588\n",
      "90° --- 1.0 0.0\n",
      "105° --- 0.9659 -0.2588\n",
      "120° --- 0.866 -0.5\n",
      "135° --- 0.7071 -0.7071\n",
      "150° --- 0.5 -0.866\n",
      "165° --- 0.2588 -0.9659\n",
      "180° --- 0.0 -1.0\n",
      "195° --- -0.2588 -0.9659\n",
      "210° --- -0.5 -0.866\n",
      "225° --- -0.7071 -0.7071\n",
      "240° --- -0.866 -0.5\n",
      "255° --- -0.9659 -0.2588\n",
      "270° --- -1.0 -0.0\n",
      "285° --- -0.9659 0.2588\n",
      "300° --- -0.866 0.5\n",
      "315° --- -0.7071 0.7071\n",
      "330° --- -0.5 0.866\n",
      "345° --- -0.2588 0.9659\n"
     ]
    }
   ],
   "metadata": {}
  },
  {
   "cell_type": "code",
   "execution_count": null,
   "source": [
    "#16\r\n",
    "from math import *\r\n",
    "year = int(input('Input a year: '))\r\n",
    "C = year//100\r\n",
    "m = (15 + C - floor(C/4)) - floor(((8*C)+13)/25) % 30\r\n",
    "n = (4 + C - floor(C/4)) % 71\r\n",
    "a = year % 4\r\n",
    "b = year % 7\r\n",
    "c = year % 19\r\n",
    "d = ((19*c) + m) % 30\r\n",
    "e = ((2 * a) + (4 * b) + (6 * d) + n) % 7\r\n",
    "m_date = 22 + d + e\r\n",
    "a_date = d + e - 9\r\n",
    "if m_date > 31 or m_date < 1:\r\n",
    "    print(f'In the year {year}, Easter falls on April {a_date}.')\r\n",
    "if a_date >30 or a_date <1:\r\n",
    "    print(f'In the year {year}, Easter falls on March {m_date}.')\r\n"
   ],
   "outputs": [
    {
     "output_type": "stream",
     "name": "stdout",
     "text": [
      "In the year 2068, Easter is on April 22.\n"
     ]
    }
   ],
   "metadata": {}
  },
  {
   "cell_type": "code",
   "execution_count": 3,
   "source": [
    "#17\r\n",
    "year = int(input('Input a year: '))\r\n",
    "for i in range(1600, year+1, 4):\r\n",
    "    n_4 = ((i//4)-399)\r\n",
    "for j in range(1600, year+1, 100):\r\n",
    "    n_100 = ((j//100)-15)\r\n",
    "for k in range(1600, year+1, 400):\r\n",
    "    n_400 = ((k//400)-3)\r\n",
    "n_leapyears = n_4 - n_100 + n_400\r\n",
    "print(f'There are {n_leapyears} leap years between 1600 and {year}.')"
   ],
   "outputs": [
    {
     "output_type": "stream",
     "name": "stdout",
     "text": [
      "There are 103 leap years between 1600 and 2021.\n"
     ]
    }
   ],
   "metadata": {}
  },
  {
   "cell_type": "code",
   "execution_count": 1,
   "source": [
    "#18\r\n",
    "change = eval(input('Input change(less than $1.00): '))\r\n",
    "\r\n",
    "quarter = change//0.25\r\n",
    "quarter_rem = (25/100) * ((change/0.25) - quarter)\r\n",
    "\r\n",
    "dime = quarter_rem//0.10\r\n",
    "dime_rem = (10/100) * ((quarter_rem/0.10) - dime)\r\n",
    "\r\n",
    "nickel = dime_rem//0.05\r\n",
    "nickel_rem = (5/100) * ((dime_rem/0.05) - nickel)\r\n",
    "\r\n",
    "penny = nickel_rem/0.01\r\n",
    "\r\n",
    "print(f'${change} is equal to {round(quarter)} quarter(s), {round(dime)} dime(s), {round(nickel)} nickel(s) and {round(penny)} penny(ies).')\r\n"
   ],
   "outputs": [
    {
     "output_type": "stream",
     "name": "stdout",
     "text": [
      "$0.78 is equal to 3 quarter(s), 0 dime(s), 0 nickel(s) and 3 penny(ies).\n"
     ]
    }
   ],
   "metadata": {}
  },
  {
   "cell_type": "code",
   "execution_count": 4,
   "source": [
    "#19\r\n",
    "width = int(input('Input width: '))\r\n",
    "height = int(input('Input height: '))\r\n",
    "for i in range(height):\r\n",
    "    for j in range(width):\r\n",
    "        a = (width*i)+j \r\n",
    "        print(f'{a%10} ', end='')\r\n",
    "    print()"
   ],
   "outputs": [
    {
     "output_type": "stream",
     "name": "stdout",
     "text": [
      "0 1 2 3 \n",
      "4 5 6 7 \n",
      "8 9 0 1 \n"
     ]
    }
   ],
   "metadata": {}
  }
 ],
 "metadata": {
  "language_info": {
   "name": "python",
   "version": "3.8.8",
   "mimetype": "text/x-python",
   "codemirror_mode": {
    "name": "ipython",
    "version": 3
   },
   "pygments_lexer": "ipython3",
   "nbconvert_exporter": "python",
   "file_extension": ".py"
  },
  "kernelspec": {
   "name": "python3",
   "display_name": "Python 3.8.8 64-bit ('base': conda)"
  },
  "interpreter": {
   "hash": "b3ba2566441a7c06988d0923437866b63cedc61552a5af99d1f4fb67d367b25f"
  }
 },
 "nbformat": 4,
 "nbformat_minor": 5
}