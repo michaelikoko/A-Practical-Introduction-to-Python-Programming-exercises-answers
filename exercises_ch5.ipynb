{
 "cells": [
  {
   "cell_type": "code",
   "execution_count": 1,
   "source": [
    "#1\r\n",
    "\"\"\"\r\n",
    "Write a program that counts how many of the squares of the numbers from 1 to 100 end in a 1.\r\n",
    "\"\"\"\r\n",
    "count = 0 \r\n",
    "for i in range(1, 101):\r\n",
    "    if (i**2)%10 == 1:\r\n",
    "        count = count + 1\r\n",
    "print(count)"
   ],
   "outputs": [
    {
     "output_type": "stream",
     "name": "stdout",
     "text": [
      "20\n"
     ]
    }
   ],
   "metadata": {}
  },
  {
   "cell_type": "code",
   "execution_count": 2,
   "source": [
    "#2\r\n",
    "\"\"\"\r\n",
    "Write a program that counts how many of the squares of the numbers from 1 to 100 end in a 4 and how many end in a 9.\r\n",
    "\"\"\"\r\n",
    "count_4 = 0\r\n",
    "count_9 = 0 \r\n",
    "n1 = 0\r\n",
    "for i in range(1, 100):\r\n",
    "    if (i**2)%10 == 4:\r\n",
    "        count_4 = count_4 + 1\r\n",
    "    if (i**2)%10 == 9:\r\n",
    "        count_9 = count_9 + 1\r\n",
    "\r\n",
    "print(f'{count_4} numbers of the squares of the numbers from 1 to 100 end in a 4, and {count_9} end in a 9.')"
   ],
   "outputs": [
    {
     "output_type": "stream",
     "name": "stdout",
     "text": [
      "20 numbers of the squares of the numbers from 1 to 100 end in a 4, and 20 end in a 9.\n"
     ]
    }
   ],
   "metadata": {}
  },
  {
   "cell_type": "code",
   "execution_count": 1,
   "source": [
    "#3\r\n",
    "\"\"\"\r\n",
    "Write a program that asks the user to enter a value n, and then computes (1+1/2 +1/3 +···+1/n)−ln(n). The ln function is log in the math module.\r\n",
    "\"\"\"\r\n",
    "from math import log\r\n",
    "n = eval(input('Input a number: '))\r\n",
    "a = 0\r\n",
    "for i in range(n):\r\n",
    "    a = a + (1/(i + 1))\r\n",
    "x = a - log(n)\r\n",
    "print(x)"
   ],
   "outputs": [
    {
     "output_type": "stream",
     "name": "stdout",
     "text": [
      "Input a number: 4\n",
      "0.6970389722134425\n"
     ]
    }
   ],
   "metadata": {}
  },
  {
   "cell_type": "code",
   "execution_count": 25,
   "source": [
    "#4\n",
    "\"\"\"\n",
    "Write a program to compute the sum 1 − 2 + 3 − 4 + ··· + 1999 − 2000.\n",
    "\"\"\"\n",
    "a = 0\n",
    "for i in range(2001):\n",
    "    if i % 2 == 0:\n",
    "        a = a - i\n",
    "    else:\n",
    "        a = a + i\n",
    "print(a)"
   ],
   "outputs": [
    {
     "output_type": "stream",
     "name": "stdout",
     "text": [
      "-1000\n"
     ]
    }
   ],
   "metadata": {}
  },
  {
   "cell_type": "code",
   "execution_count": 25,
   "source": [
    "#5\n",
    "\"\"\"\n",
    "Write a program that asks the user to enter a number and prints the sum of the divisors of\n",
    "that number. The sum of the divisors of a number is an important function in number theory.\n",
    "\"\"\"\n",
    "num = eval(input('Input a number: '))\n",
    "sum = 0\n",
    "for i in range(1, num+1):\n",
    "    if num % i == 0:\n",
    "        sum = sum + i\n",
    "print(f'The sum of the divisors of {num} is {sum}.')"
   ],
   "outputs": [
    {
     "output_type": "stream",
     "name": "stdout",
     "text": [
      "The sum of the divisors of 6 is 12.\n"
     ]
    }
   ],
   "metadata": {}
  },
  {
   "cell_type": "code",
   "execution_count": 22,
   "source": [
    "#6\n",
    "\"\"\"\n",
    "A number is called a perfect number if it is equal to the sum of all of its divisors, not including\n",
    "the number itself. For instance, 6 is a perfect number because the divisors of 6 are 1, 2, 3, 6\n",
    "and 6 = 1 + 2 + 3. As another example, 28 is a perfect number because its divisors are 1, 2, 4,\n",
    "7, 14, 28 and 28 = 1 + 2 + 4 + 7 + 14. However, 15 is not a perfect number because its divisors\n",
    "are 1, 3, 5, 15 and 15 6= 1 + 3 + 5. Write a program that finds all four of the perfect numbers\n",
    "that are less than 10000.\n",
    "\"\"\"\n",
    "for number in range(1, 10000):\n",
    "    sum = 0\n",
    "    for n in range(1, number):\n",
    "        if number % n == 0:\n",
    "            sum = sum + n\n",
    "    if sum == number:\n",
    "        print(number)"
   ],
   "outputs": [
    {
     "output_type": "stream",
     "name": "stdout",
     "text": [
      "6\n",
      "24\n",
      "28\n",
      "496\n",
      "2016\n",
      "8128\n",
      "8190\n"
     ]
    }
   ],
   "metadata": {}
  },
  {
   "cell_type": "code",
   "execution_count": 47,
   "source": [
    "#7\n",
    "\"\"\"\n",
    "An integer is called squarefree if it is not divisible by any perfect squares other than 1. For\n",
    "instance, 42 is squarefree because its divisors are 1, 2, 3, 6, 7, 21, and 42, and none of those\n",
    "numbers (except 1) is a perfect square. On the other hand, 45 is not squarefree because it is\n",
    "divisible by 9, which is a perfect square. Write a program that asks the user for an integer and\n",
    "tells them if it is squarefree or not.\n",
    "\"\"\"\n",
    "from math import sqrt\n",
    "print('CHECK IF A NUMBER IF SQUARE FREE.')\n",
    "num = int(input('Input a number: '))\n",
    "flag = 0\n",
    "for i in range(1, num+1):\n",
    "    if num % i == 0:\n",
    "        if sqrt(i) % 1 == 0 and i != 1:\n",
    "            flag = 1\n",
    "if flag == 1:\n",
    "    print(f'{num} is not a square free number.')\n",
    "else:\n",
    "    print(f'{num} is a square free number.')"
   ],
   "outputs": [
    {
     "output_type": "stream",
     "name": "stdout",
     "text": [
      "CHECK IF A NUMBER IF SQUARE FREE.\n",
      "42 is a square free number.\n"
     ]
    }
   ],
   "metadata": {}
  },
  {
   "cell_type": "code",
   "execution_count": 59,
   "source": [
    "#8\n",
    "\"\"\"\n",
    "Write a program that swaps the values of three variables x, y, and z, so that x gets the value\n",
    "of y, y gets the value of z, and z gets the value of x.\n",
    "\"\"\"\n",
    "x = 1\n",
    "y = 2\n",
    "z = 3\n",
    "hold_x = x\n",
    "hold_y = y\n",
    "hold_z = z\n",
    "x = hold_y\n",
    "y = hold_z\n",
    "z = hold_x\n",
    "print(f'x = {x}\\ny = {y}\\nz = {z}')"
   ],
   "outputs": [
    {
     "output_type": "stream",
     "name": "stdout",
     "text": [
      "x = 2\n",
      "y = 3\n",
      "z = 1\n"
     ]
    }
   ],
   "metadata": {}
  },
  {
   "cell_type": "code",
   "execution_count": 68,
   "source": [
    "#9\n",
    "\"\"\"\n",
    "Write a program to count how many integers from 1 to 1000 are not perfect squares, perfect\n",
    "cubes, or perfect fifth powers.\n",
    "\"\"\"\n",
    "from math import sqrt\n",
    "count = 0\n",
    "for i in range(1, 1000):\n",
    "    if not sqrt(i) % 1 == 0 and not (i**(1/3)) % 1 == 0 and not (i**(1/5)) % 1 == 0:\n",
    "        count = count + 1\n",
    "print(f'There are {count} numbers between 1 and 1000 that are not perfect squares, perfect cubes, or perfect fifth powers.')\n",
    "\n"
   ],
   "outputs": [
    {
     "output_type": "stream",
     "name": "stdout",
     "text": [
      "There are 963 numbers between 1 and 1000 that are not perfect squares, perfect cubes, or perfect fifth powers.\n"
     ]
    }
   ],
   "metadata": {}
  },
  {
   "cell_type": "code",
   "execution_count": 4,
   "source": [
    "#10\n",
    "\"\"\"\n",
    "Ask the user to enter 10 test scores. Write a program to do the following:\n",
    "(a) Print out the highest and lowest scores.\n",
    "(b) Print out the average of the scores.\n",
    "(c) Print out the second largest score.\n",
    "(d) If any of the scores is greater than 100, then after all the scores have been entered, print\n",
    "a message warning the user that a value over 100 has been entered.\n",
    "(e) Drop the two lowest scores and print out the average of the rest of them.\n",
    "\"\"\"\n",
    "print('THE TEST SCORE ANALYSER')\n",
    "compScore = eval(input('Input score 1: '))\n",
    "sum = compScore\n",
    "highestScore = compScore\n",
    "lowestScore = compScore\n",
    "secondHighestScore = compScore\n",
    "#secondLowestScore = compScore\n",
    "flag = 0\n",
    "\n",
    "for i in range(9):\n",
    "    score = eval(input(f'Input score {i + 2}: '))\n",
    "    if score > highestScore:\n",
    "        highestScore = score\n",
    "\n",
    "    if score < lowestScore:\n",
    "        lowestScore = score\n",
    "    \n",
    "\n",
    "    if score > 100 or compScore > 100:\n",
    "        flag = 1\n",
    "    \n",
    "    sum = sum + score\n",
    "\n",
    "\n",
    "print(f'The highest score is {highestScore}\\nThe lowest score is {lowestScore}.')\n",
    "average = round((sum/10), 4)\n",
    "print(f'The average of the scores is {average}.')\n",
    "#print(f'The second lowest score is {secondLowestScore}')\n",
    "print(f'The second largest score is {secondHighestScore}.')\n",
    "if flag == 1:\n",
    "    print('You entered a test score greater than 100.')\n",
    "    \n"
   ],
   "outputs": [
    {
     "output_type": "stream",
     "name": "stdout",
     "text": [
      "THE TEST SCORE ANALYSER\n",
      "The highest score is 10\n",
      "The lowest score is 1.\n",
      "The average of the scores is 5.4.\n",
      "The second lowest score is 1\n",
      "The second largest score is 1.\n"
     ]
    }
   ],
   "metadata": {}
  },
  {
   "cell_type": "code",
   "execution_count": 86,
   "source": [
    "#11\r\n",
    "\"\"\"\r\n",
    "Write a program that computes the factorial of a number. The factorial, n!, of a number n is the\r\n",
    "product of all the integers between 1 and n, including n. For instance, 5! = 1 · 2 · 3 · 4 · 5 = 120.\r\n",
    "[Hint: Try using a multiplicative equivalent of the summing technique.]\r\n",
    "\"\"\"\r\n",
    "num = int(input('Input a number: '))\r\n",
    "fact_num = 1\r\n",
    "for i in range(1, num + 1):\r\n",
    "    fact_num = fact_num * i\r\n",
    "print(f'The factorial of the number {num} is {fact_num}.') "
   ],
   "outputs": [
    {
     "output_type": "stream",
     "name": "stdout",
     "text": [
      "The factorial of the number 4 is 24.\n"
     ]
    }
   ],
   "metadata": {}
  },
  {
   "cell_type": "code",
   "execution_count": 5,
   "source": [
    "#12\r\n",
    "\"\"\"\r\n",
    "Write a program that asks the user to guess a random number between 1 and 10. If they guess\r\n",
    "right, they get 10 points added to their score, and they lose 1 point for an incorrect guess. Give\r\n",
    "the user five numbers to guess and print their score after all the guessing is done.\r\n",
    "\"\"\"\r\n",
    "from random import randint\r\n",
    "score = 0\r\n",
    "for i in range(5):\r\n",
    "    computerNumber = randint(1, 10)\r\n",
    "    userNumber = int(input('Input your guess: '))\r\n",
    "    if computerNumber == userNumber:\r\n",
    "        score = score + 10\r\n",
    "        print(f'You guess right! The number is {computerNumber}.')\r\n",
    "    else:\r\n",
    "        score = score - 1\r\n",
    "        print(f'You guessed wrong the number is {computerNumber}.')\r\n",
    "\r\n",
    "print(f'You scored a total of {score} points at the end of the game.')"
   ],
   "outputs": [
    {
     "output_type": "stream",
     "name": "stdout",
     "text": [
      "You guessed wrong the number is 1.\n",
      "You guess right! The number is 3.\n",
      "You guessed wrong the number is 2.\n",
      "You guessed wrong the number is 9.\n",
      "You guessed wrong the number is 9.\n",
      "You scored a total of 6 points at the end of the game.\n"
     ]
    }
   ],
   "metadata": {}
  },
  {
   "cell_type": "code",
   "execution_count": 89,
   "source": [
    "#13\r\n",
    "\"\"\"\r\n",
    "In the last chapter there was an exercise that asked you to create a multiplication game for\r\n",
    "kids. Improve your program from that exercise to keep track of the number of right and\r\n",
    "wrong answers. At the end of the program, print a message that varies depending on how\r\n",
    "many questions the player got right.\r\n",
    "\"\"\"\r\n",
    "from random import randint\r\n",
    "correct = 0\r\n",
    "wrong = 0\r\n",
    "for i in range(1,11):\r\n",
    "    num1 = randint(1, 10)\r\n",
    "    num2 = randint(1, 10)\r\n",
    "    product = num1 * num2\r\n",
    "    ans = eval(input(f'Question {i}: {num1} * {num2}: '))\r\n",
    "    if ans == product:\r\n",
    "        print(f'{i}. Right! The product of {num1} and {num2} is {product}.')\r\n",
    "        correct = correct + 1\r\n",
    "    else:\r\n",
    "        print(f'{i}. Wrong! The product of {num1} and {num2} is {product}.')\r\n",
    "        wrong = wrong + 1\r\n",
    "print(f'\\nYou got {correct} answers correct, and {wrong} answer wrong.')"
   ],
   "outputs": [
    {
     "output_type": "stream",
     "name": "stdout",
     "text": [
      "1. Right! The product of 5 and 9 is 45.\n",
      "2. Right! The product of 1 and 9 is 9.\n",
      "3. Right! The product of 6 and 4 is 24.\n",
      "4. Right! The product of 2 and 7 is 14.\n",
      "5. Wrong! The product of 7 and 10 is 70.\n",
      "6. Right! The product of 5 and 7 is 35.\n",
      "7. Right! The product of 4 and 4 is 16.\n",
      "8. Right! The product of 2 and 4 is 8.\n",
      "9. Wrong! The product of 10 and 8 is 80.\n",
      "10. Right! The product of 6 and 7 is 42.\n",
      "\n",
      "You got 8 answers correct, and 2 answer wrong.\n"
     ]
    }
   ],
   "metadata": {}
  },
  {
   "cell_type": "code",
   "execution_count": 22,
   "source": [
    "#14\r\n",
    "\"\"\"\r\n",
    "This exercise is about the well-known Monty Hall problem. In the problem, you are a contestant on a game show. The host, Monty\r\n",
    "Hall, shows you three doors. Behind one of those doors is a prize, and behind the other two doors are goats. You pick a door. \r\n",
    "Monty Hall, who knows behind which door the prize lies, then opens up one of the doors that doesn’t contain the prize. There\r\n",
    "are now two doors left, and Monty gives you the opportunity to change your choice. Should you keep the same door, change doors,\r\n",
    "or does it not matter?\r\n",
    "(a) Write a program that simulates playing this game 10000 times and calculates what percentage of the time you would win if \r\n",
    "you switch and what percentage of the time you would win by not switching.\r\n",
    "(b) Try the above but with four doors instead of three. There is still only one prize, and\r\n",
    "Monty still opens up one door and then gives you the opportunity to switch.\r\n",
    "\"\"\"\r\n",
    "from random import *\r\n",
    "#(a)\r\n",
    "\"\"\"\r\n",
    "In order to keep things simple, I'll assume a situation where the prize is in the third door, and the goats are in the first \r\n",
    "and second door.\r\n",
    "\"\"\"\r\n",
    "door_1 = 1\r\n",
    "door_2 = 2\r\n",
    "door_3 = 3\r\n",
    "win_switch= 0\r\n",
    "win_noswitch = 0\r\n",
    "#If the contestant switches\r\n",
    "for i in range(10000): \r\n",
    "    contestant_pick = randint(1,3)\r\n",
    "    if contestant_pick == 1:       #door_2 is shown as the door with a goat\r\n",
    "        contestant_pick = 3        #because the contestant switches\r\n",
    "        win_switch = win_switch + 1\r\n",
    "    if contestant_pick == 2:       #door_1 is shown as the door with a goat\r\n",
    "        contestant_pick = 3        #because the contestant switches\r\n",
    "        win_switch = win_switch + 1\r\n",
    "    if contestant_pick == 3:       #either door_1 or door_2 is shown as the door with a goat\r\n",
    "        contestant_pick = 1        #it could also be 2, either way the contestant loses\r\n",
    "\r\n",
    "#If the contestant doesn't switch\r\n",
    "for i in range(10000):\r\n",
    "    contestant_pick = randint(1,3)\r\n",
    "    #if contestant_pick == 1:  the contestant loses\r\n",
    "    #if contestant_pick == 2:  the contestant loses\r\n",
    "    if contestant_pick == 3:\r\n",
    "        win_noswitch = win_noswitch + 1\r\n",
    "\r\n",
    "print(f'(a) Three doors.\\nThe contestant has a percentage win of {round(((win_switch/10000)*100), 4)}%, if the contestant switches.')\r\n",
    "print(f'The contestant has a percentage win of {round(((win_noswitch/10000)*100), 4)}%, if the contestant does not switch.')\r\n",
    "\r\n",
    "#(b)\r\n",
    "\"\"\"\r\n",
    "Like in the previous exercise, I'll assume a situation where te prize is in the fourth door, and the goats are in the first, \r\n",
    "second, and third door.\r\n",
    "\"\"\"\r\n",
    "door_1b = 0\r\n",
    "door_2b = 0\r\n",
    "door_3b = 0\r\n",
    "door_4b = 0\r\n",
    "win_switchb = 0\r\n",
    "win_noswitchb = 0\r\n",
    "\r\n",
    "#If the contestant switches\r\n",
    "for i in range(10000):\r\n",
    "    contestant_pickb = randint(1,4)\r\n",
    "    if contestant_pickb == 1:    #either door_2b or door_3b is shown as the door with a goat\r\n",
    "        contestant_pickb = randint(3, 4)    #assuming that door_2b is shown as the door with a goat\r\n",
    "        if contestant_pickb == 4:\r\n",
    "            win_switchb = win_switchb + 1\r\n",
    "    if contestant_pickb == 2:   #either door_1b or door_3b is shown as the door with a goat\r\n",
    "        contestant_pickb = randint(3, 4)    #assuming door_1b is shown as the door with a goat\r\n",
    "        if contestant_pickb == 4:\r\n",
    "            win_switchb = win_switchb + 1\r\n",
    "    if contestant_pickb == 3:   #either door_1b of door_2b isshown as the door with a goat\r\n",
    "        contestant_pickb = randrange(2, 4, 2)   #assuming door_1b is shown as the door with a goat\r\n",
    "        if contestant_pickb == 4:\r\n",
    "            win_switchb = win_switchb + 1\r\n",
    "    if contestant_pickb == 4:   #either door_1b or door_2b or door_3b is shown as the door with a goat\r\n",
    "        contestant_pickb = randint(1,2)     #either way the contestant loses\r\n",
    "\r\n",
    "#If the contestant does not switch\r\n",
    "for i in range(10000):\r\n",
    "    contestant_pickb = randint(1, 4)\r\n",
    "    #if contestant_pickb == 1: the contestant loses\r\n",
    "    #if contestant_pickb == 2: the contestant loses \r\n",
    "    #if contestant_pickb == 3: the contestant loses\r\n",
    "    if contestant_pickb == 4:\r\n",
    "        win_noswitchb = win_noswitchb + 1\r\n",
    "\r\n",
    "print(f'(b) Four doors\\nThe contestant has a percentage win of {round(((win_switchb/10000)*100), 4)}, if the contestant switches.')\r\n",
    "print(f'The contestant has a percentage win of {round(((win_noswitchb/10000)*100), 4)}, if the  does not contestant switches.')       \r\n"
   ],
   "outputs": [
    {
     "output_type": "stream",
     "name": "stdout",
     "text": [
      "(a) Three doors.\n",
      "The contestant has a percentage win of 67.23%, if the contestant switches.\n",
      "The contestant has a percentage win of 33.55%, if the contestant does not switch.\n",
      "(b) Four doors\n",
      "The contestant has a percentage win of 24.93, if the contestant switches.\n",
      "The contestant has a percentage win of 25.16, if the  does not contestant switches.\n"
     ]
    }
   ],
   "metadata": {}
  }
 ],
 "metadata": {
  "interpreter": {
   "hash": "ac59ebe37160ed0dfa835113d9b8498d9f09ceb179beaac4002f036b9467c963"
  },
  "kernelspec": {
   "name": "python3",
   "display_name": "Python 3.9.6 64-bit"
  },
  "language_info": {
   "codemirror_mode": {
    "name": "ipython",
    "version": 3
   },
   "file_extension": ".py",
   "mimetype": "text/x-python",
   "name": "python",
   "nbconvert_exporter": "python",
   "pygments_lexer": "ipython3",
   "version": "3.9.6"
  }
 },
 "nbformat": 4,
 "nbformat_minor": 5
}