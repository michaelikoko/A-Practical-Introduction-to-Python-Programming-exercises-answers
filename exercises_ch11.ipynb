{
 "cells": [
  {
   "cell_type": "code",
   "execution_count": 2,
   "source": [
    "#1\r\n",
    "'''\r\n",
    "Write a program that repeatedly asks the user to enter product names and prices. Store all\r\n",
    "of these in a dictionary whose keys are the product names and whose values are the prices.\r\n",
    "When the user is done entering products and prices, allow them to repeatedly enter a product\r\n",
    "name and print the corresponding price or a message if the product is not in the dictionary.\r\n",
    "'''\r\n",
    "n = int(input('Input the number of products you want to enter: '))\r\n",
    "pDict = {input(f'Input product {i+1} name: ').lower():eval(input(f'Input {i+1} price: ')) for i in range(n)}\r\n",
    "while True:\r\n",
    "    prod = input('Input a product you\\'ve entered(press \"1\" to stop): ')\r\n",
    "    if prod == '1':\r\n",
    "        break\r\n",
    "    if prod.lower() in pDict:\r\n",
    "        print(f'The price of {prod.title()} is {pDict[prod.lower()]}')\r\n",
    "    else:\r\n",
    "        print('Product is not in the dictionary.')"
   ],
   "outputs": [
    {
     "output_type": "stream",
     "name": "stdout",
     "text": [
      "The price of Mango is 10\n",
      "Product is not in the dictionary.\n",
      "The price of Banana is 20\n",
      "The price of Apple is 30\n",
      "The price of Orange is 40\n",
      "Product is not in the dictionary.\n"
     ]
    }
   ],
   "metadata": {}
  },
  {
   "cell_type": "code",
   "execution_count": 1,
   "source": [
    "#2\r\n",
    "'''\r\n",
    "Using the dictionary created in the previous problem, allow the user to enter a dollar amount\r\n",
    "and print out all the products whose price is less than that amount.\r\n",
    "'''\r\n",
    "n = int(input('Input the number of products you want to enter: '))\r\n",
    "pDict = {input(f'Input product {i+1} name: ').lower():eval(input(f'Input {i+1} price: ')) for i in range(n)}\r\n",
    "amount = eval(input('Input a dollar amount: '))\r\n",
    "for prod in pDict:\r\n",
    "    if pDict[prod] < amount:\r\n",
    "        print(f'{prod:<10s}  ${pDict[prod]:>4.2f}')"
   ],
   "outputs": [
    {
     "output_type": "stream",
     "name": "stdout",
     "text": [
      "cornflakes  2.99\n",
      "milk        2.50\n"
     ]
    }
   ],
   "metadata": {}
  },
  {
   "cell_type": "code",
   "execution_count": null,
   "source": [
    "#3\r\n",
    "'''\r\n",
    "For this problem, use the dictionary from the beginning of this chapter whose keys are month\r\n",
    "names and whose values are the number of days in the corresponding months.\r\n",
    "(a) Ask the user to enter a month name and use the dictionary to tell them how many days\r\n",
    "are in the month.\r\n",
    "(b) Print out all of the keys in alphabetical order.\r\n",
    "(c) Print out all of the months with 31 days.\r\n",
    "(d) Print out the (key-value) pairs sorted by the number of days in each month\r\n",
    "(e) Modify the program from part (a) and the dictionary so that the user does not have to\r\n",
    "know how to spell the month name exactly. That is, all they have to do is spell the first\r\n",
    "three letters of the month name correctly.\r\n",
    "'''\r\n",
    "days = {'January':31, 'February':28, 'March':31, 'April':30, 'May':31, 'June':30, 'July':31, 'August':31,\r\n",
    "        'September':30, 'October':31, 'November':30, 'December':31}\r\n",
    "#(a)\r\n",
    "while True:\r\n",
    "    month = input('Input a month name: ')\r\n",
    "    if month.title() in days:\r\n",
    "        print(f'(a) There are {days[month.title()]} days in the month of {month.title()}.')\r\n",
    "        break\r\n",
    "#(b)\r\n",
    "months = list(days)\r\n",
    "months.sort()\r\n",
    "print(f\"(b) {', '.join(months)}.\")\r\n",
    "#(c)\r\n",
    "months31 = [month for month in days if days[month] == 31]\r\n",
    "print(f\"(c) {', '.join(months31)}.\")\r\n",
    "#(d)\r\n",
    "print('(d)')\r\n",
    "valueKey = [(v, k) for k, v in days.items()]\r\n",
    "valueKey.sort()\r\n",
    "for v, k in valueKey:\r\n",
    "    print(f'{k}: {v}.')\r\n",
    "#(e)\r\n",
    "flag = True\r\n",
    "while flag:\r\n",
    "    userMonth = input('Input a month: ')\r\n",
    "    for month in days:\r\n",
    "        if userMonth[:3].title() == month[:3]:\r\n",
    "            print(f'(e) There are {days[month]} days in the month of {month}.')\r\n",
    "            flag = False"
   ],
   "outputs": [],
   "metadata": {}
  },
  {
   "cell_type": "code",
   "execution_count": 1,
   "source": [
    "#(3e)\r\n",
    "'''\r\n",
    " Modify the program from part (a) and the dictionary so that the user does not have to\r\n",
    "know how to spell the month name exactly. That is, all they have to do is spell the first\r\n",
    "three letters of the month name correctly.\r\n",
    "'''\r\n",
    "days = {'January':31, 'February':28, 'March':31, 'April':30, 'May':31, 'June':30, 'July':31, 'August':31,\r\n",
    "        'September':30, 'October':31, 'November':30, 'December':31}\r\n",
    "flag = True\r\n",
    "while flag:\r\n",
    "    userMonth = input('Input a month: ')\r\n",
    "    for month in days:\r\n",
    "        if userMonth[:3].title() == month[:3]:\r\n",
    "            print(f'There are {days[month]} days in the month of {month}.')\r\n",
    "            flag = False"
   ],
   "outputs": [
    {
     "output_type": "stream",
     "name": "stdout",
     "text": [
      "There are 31 days in the month of October.\n"
     ]
    }
   ],
   "metadata": {}
  },
  {
   "cell_type": "code",
   "execution_count": 6,
   "source": [
    "#4\r\n",
    "'''\r\n",
    "Write a program that uses a dictionary that contains ten user names and passwords. The\r\n",
    "program should ask the user to enter their username and password. If the username is not in\r\n",
    "the dictionary, the program should indicate that the person is not a valid user of the system. If\r\n",
    "the username is in the dictionary, but the user does not enter the right password, the program\r\n",
    "should say that the password is invalid. If the password is correct, then the program should\r\n",
    "tell the user that they are now logged in to the system\r\n",
    "'''\r\n",
    "login = {'michael_Ikoko': 'mIkoko123', 'olise_Ikoko': 'oIkoko123', 'chucks_Ikoko': 'cIkoko123', 'emeke_Ikoko': 'eIkoko123',\r\n",
    "         'stan_Ikoko': 'sIkoko123', 'deb_Ikoko': 'dIkoko123', 'uju_Ikoko123': 'uIkoko123', 'mikeru_Ikoko': 'miIkoko123',\r\n",
    "         'austin_Ikoko': 'aIkoko123', 'cece_Sunday': 'cSunday123'}\r\n",
    "userName = input('Input username: ')\r\n",
    "password = input('Input password: ')\r\n",
    "if userName not in login:\r\n",
    "    print('Username is invalid.')\r\n",
    "else:\r\n",
    "    for uName in login:\r\n",
    "        if password == login[uName]:\r\n",
    "            print('Successful login.')\r\n",
    "            break\r\n",
    "    else:\r\n",
    "        print('Password is invalid.')"
   ],
   "outputs": [
    {
     "output_type": "stream",
     "name": "stdout",
     "text": [
      "Successful login.\n"
     ]
    }
   ],
   "metadata": {}
  },
  {
   "cell_type": "code",
   "execution_count": 17,
   "source": [
    "#5\r\n",
    "'''\r\n",
    "Repeatedly ask the user to enter a team name and the how many games the team won and\r\n",
    "how many they lost. Store this information in a dictionary where the keys are the team names\r\n",
    "and the values are lists of the form [wins, losses].\r\n",
    "(a) Using the dictionary created above, allow the user to enter a team name and print out\r\n",
    "the team’s winning percentage.\r\n",
    "(b) Using the dictionary, create a list whose entries are the number of wins of each team.\r\n",
    "(c) Using the dictionary, create a list of all those teams that have winning records.\r\n",
    "'''\r\n",
    "teamRecords = dict()\r\n",
    "while True:\r\n",
    "    teamName = input('Enter a team name (Input the letter \"s\" to stop ): ')\r\n",
    "    if teamName.lower() == 's':\r\n",
    "        break\r\n",
    "    rec = [eval(input(f\"Input {teamName.title()}\\'s number of wins: \")), eval(input(f'Input {teamName.title()}\\'s number of loses: '))]\r\n",
    "    teamRecords[teamName.lower()] = rec\r\n",
    "#(a)\r\n",
    "name = input('Check the winning percent of a team.\\nInput the team\\'s name: ')\r\n",
    "if name.lower() not in teamRecords:\r\n",
    "    print('Team cannot be found.')\r\n",
    "else:\r\n",
    "    winPercentage = (teamRecords[name.lower()][0]/sum(teamRecords[name.lower()]))*100\r\n",
    "    print(f'{name.title()} has a win percentage of {winPercentage:.2f}%')\r\n",
    "#(b)\r\n",
    "winsList = [teamRecords[team][0] for team in teamRecords]\r\n",
    "#print(winsList)\r\n",
    "#(c)\r\n",
    "winsRecs = [team.title() for team in teamRecords if teamRecords[team][0] > 0]\r\n",
    "#print(winsRecs)"
   ],
   "outputs": [
    {
     "output_type": "stream",
     "name": "stdout",
     "text": [
      "Man City has a win percentage of 92.11%\n",
      "[30, 35, 37, 0, 0]\n",
      "['Chelsea', 'Man City', 'Liverpool']\n"
     ]
    }
   ],
   "metadata": {}
  },
  {
   "cell_type": "code",
   "execution_count": null,
   "source": [
    "#6\r\n",
    "'''\r\n",
    "Repeatedly ask the user to enter game scores in a format like team1 score1 - team2 score2. Store\r\n",
    "this information in a dictionary where the keys are the team names and the values are lists of\r\n",
    "the form [wins, losses].\r\n",
    "'''"
   ],
   "outputs": [],
   "metadata": {}
  },
  {
   "cell_type": "code",
   "execution_count": 39,
   "source": [
    "#7\r\n",
    "'''\r\n",
    "Create a 5 × 5 list of numbers. Then write a program that creates a dictionary whose keys are\r\n",
    "the numbers and whose values are the how many times the number occurs. Then print the\r\n",
    "three most common numbers.\r\n",
    "'''\r\n",
    "from random import randint\r\n",
    "from pprint import pprint\r\n",
    "freq = dict()\r\n",
    "fSum = 0\r\n",
    "numList = [[randint(1,10) for c in range(5)]for r in range(5)]\r\n",
    "pprint(numList)\r\n",
    "flatNumList = [numList[r][c] for r in range(5) for c in range(5)]\r\n",
    "flatNumList.sort()\r\n",
    "while fSum != sum(flatNumList):\r\n",
    "    for num in flatNumList:\r\n",
    "        freq[num] = freq.get(num, 0) + 1\r\n",
    "    for n in freq:\r\n",
    "        fSum += n * freq[n]\r\n",
    "print(freq)\r\n",
    "sortFreq = [(f, num) for num, f in freq.items()]\r\n",
    "sortFreq.sort(reverse=True)\r\n",
    "#print(sortFreq)\r\n",
    "mcn = [sortFreq[i][1] for i in range(3)]\r\n",
    "print(f'The three most common numbers are {mcn[0]}, {mcn[1]} and {mcn[2]}.')"
   ],
   "outputs": [
    {
     "output_type": "stream",
     "name": "stdout",
     "text": [
      "[[5, 3, 8, 7, 8],\n",
      " [8, 1, 5, 3, 4],\n",
      " [7, 4, 6, 4, 1],\n",
      " [4, 2, 6, 10, 4],\n",
      " [2, 7, 1, 4, 5]]\n",
      "{1: 3, 2: 2, 3: 2, 4: 6, 5: 3, 6: 2, 7: 3, 8: 3, 10: 1}\n",
      "The three most common numbers are 4, 8 and 7.\n"
     ]
    }
   ],
   "metadata": {}
  },
  {
   "cell_type": "code",
   "execution_count": 57,
   "source": [
    "#8\r\n",
    "'''\r\n",
    "Using the card dictionary from earlier in this chapter, create a simple card game that deals\r\n",
    "two players three cards each. The player with the highest card wins. If there is a tie, then\r\n",
    "compare the second highest card and, if necessary, the third highest. If all three cards have\r\n",
    "the same value, then the game is a draw\r\n",
    "'''\r\n",
    "from random import sample\r\n",
    "deck = [{'value':i, 'suit':c} for c in ['spades', 'clubs', 'hearts', 'diamonds'] for i in range(2,15)]\r\n",
    "playerOne = sample(deck, 3);  playerTwo = sample(deck, 3)\r\n",
    "playerOneCards = [f'{card[\"value\"]} of {card[\"suit\"]}' for card in playerOne]\r\n",
    "playerTwoCards = [f'{card[\"value\"]} of {card[\"suit\"]}' for card in playerTwo]\r\n",
    "print(f'Player one cards: {\", \".join(playerOneCards)}.\\nPlayer two cards: {\", \".join(playerTwoCards)}.')\r\n",
    "playerOneCardValues = [card['value'] for card in playerOne]\r\n",
    "playerTwoCardValues = [card['value'] for card in playerTwo]\r\n",
    "playerOneCardValues.sort(reverse=True); playerTwoCardValues.sort(reverse=True)\r\n",
    "#print(playerOneCardValues, playerTwoCardValues)\r\n",
    "\r\n",
    "for i in range(3):\r\n",
    "    if playerOneCardValues[i] > playerTwoCardValues[i]:\r\n",
    "        print('Player one wins.')\r\n",
    "        break\r\n",
    "    elif playerTwoCardValues[i] > playerOneCardValues[i]:\r\n",
    "        print('Player two wins.')\r\n",
    "        break\r\n",
    "else:\r\n",
    "    print('The game ends in a draw')\r\n"
   ],
   "outputs": [
    {
     "output_type": "stream",
     "name": "stdout",
     "text": [
      "Player one cards: 6 of clubs, 10 of diamonds, 5 of clubs.\n",
      "Player two cards: 6 of hearts, 3 of diamonds, 5 of hearts.\n",
      "Player one wins.\n"
     ]
    }
   ],
   "metadata": {}
  },
  {
   "cell_type": "code",
   "execution_count": 87,
   "source": [
    "#9\r\n",
    "'''\r\n",
    "Using the card dictionary from earlier in the chapter, deal out three cards. Determine the\r\n",
    "following:\r\n",
    "(a) If the three cards form a flush (all of the same suit)\r\n",
    "(b) If there is a three-of-a-kind (all of the same value)\r\n",
    "(c) If there is a pair, but not three-of-a-kind\r\n",
    "(d) If the three cards form a straight (all in a row, like (2, 3, 4) or (10, Jack, Queen))\r\n",
    "'''\r\n",
    "from random import sample\r\n",
    "deck = [{'value':i, 'suit':c} for c in ['spades', 'clubs', 'hearts', 'diamonds'] for i in range(2,15)]\r\n",
    "cards = sample(deck, 3)\r\n",
    "cardsDelt = [f'{card[\"value\"]} of {card[\"suit\"]}' for card in cards]\r\n",
    "print(f'Cards: {\", \".join(cardsDelt)}.')\r\n",
    "if cards[0]['suit'] == cards[1]['suit'] == cards[2]['suit']:\r\n",
    "    print('All three cards form a flush.')\r\n",
    "elif cards[0]['value'] == cards[1]['value'] == cards[2]['value']:\r\n",
    "    print('The cards form a three-of-a-kind.')\r\n",
    "elif (cards[0]['value']==cards[1]['value'])or(cards[0]['value']==cards[2]['value'])or(cards[1]['value']==cards[2]['value']):\r\n",
    "    print('The cards form a pair.')\r\n",
    "elif (cards[1]['value'] == cards[0]['value'] + 1) and (cards[2]['value'] == cards[1]['value']):\r\n",
    "    print('The three cards form a straight.')\r\n"
   ],
   "outputs": [
    {
     "output_type": "stream",
     "name": "stdout",
     "text": [
      "Cards: 5 of clubs, 11 of clubs, 7 of clubs.\n",
      "All three cards form a flush.\n"
     ]
    }
   ],
   "metadata": {}
  },
  {
   "cell_type": "code",
   "execution_count": null,
   "source": [
    "#10\r\n",
    "'''\r\n",
    "Using the card dictionary from earlier in the chapter run a Monte Carlo simulation to estimate\r\n",
    "the probability of being dealt a flush in a five card hand. See Exercise 32 of Chapter 10 for\r\n",
    "more about Monte Carlo simulations.\r\n",
    "'''"
   ],
   "outputs": [],
   "metadata": {}
  },
  {
   "cell_type": "code",
   "execution_count": null,
   "source": [
    "#11\r\n",
    "'''\r\n",
    "In Section 6.10 we met the substitution cipher. This cipher replaces every letter with a different\r\n",
    "letter. For instance every a might be replaced with an e, every b might be replaced with an\r\n",
    "a, etc. Write a program that asks the user to enter two strings. Then determine if the second\r\n",
    "string could be an encoded version of the first one with a substitution cipher. For instance,\r\n",
    "CXYZ is not an encoded version of BOOK because O got mapped to two separate letters.\r\n",
    "Also, CXXK is not an encoded version of BOOK, because K got mapped to itself. On the other\r\n",
    "hand, CXXZ would be an encoding of BOOK. This problem can be done with or without a\r\n",
    "dictionary.\r\n",
    "'''"
   ],
   "outputs": [],
   "metadata": {}
  },
  {
   "cell_type": "code",
   "execution_count": null,
   "source": [
    "#12\r\n",
    "'''\r\n",
    "Below are the notes used in music:\r\n",
    "C C# D D# E F F# G G# A A# B\r\n",
    "The notes for the C major chord are C, E, G. A mathematical way to get this is that E is 4 steps\r\n",
    "past C and G is 7 steps past C. This works for any base. For example, the notes for D major\r\n",
    "are D, F#, A. We can represent the major chord steps as a list with two elements: [4,7]. The\r\n",
    "corresponding lists for some other chord types are shown below:\r\n",
    "Minor             [3,7]       Dominant seventh     [4,7,10]\r\n",
    "Augmented fifth   [4,8]       Minor seventh        [3,7,10]\r\n",
    "Minor fifth       [4,6]       Major seventh        [4,7,11]\r\n",
    "Major sixth       [4,7,9]     Diminished seventh   [3,6,10]\r\n",
    "Minor sixth       [3,7,9]\r\n",
    "Write a program that asks the user for the key and the chord type and prints out the notes of\r\n",
    "the chord. Use a dictionary whose keys are the (musical) keys and whose values are the lists\r\n",
    "of steps.\r\n",
    "'''"
   ],
   "outputs": [],
   "metadata": {}
  },
  {
   "cell_type": "code",
   "execution_count": null,
   "source": [
    "#13\r\n",
    "'''\r\n",
    "Suppose you are given the following list of strings: L = ['aabaabac', 'cabaabca', 'aaabbcba', 'aabacbab', 'acababba']\r\n",
    "Patterns like this show up in many places, including DNA sequencing. The user has a string of their own with only some letters \r\n",
    "filled in and the rest as asterisks. An example is a**a****. The user would like to know which of the strings in the list fit \r\n",
    "with their pattern. In the example just given, the matching strings are the first and fourth. One way to solve this problem is \r\n",
    "to create a dictionary whose keys are the indices in the user’s string of the non-asterisk characters and whose values are \r\n",
    "those characters. Write a program implementing this approach (or some other approach) to find the strings that match a \r\n",
    "user-entered string.\r\n",
    "'''"
   ],
   "outputs": [],
   "metadata": {}
  },
  {
   "cell_type": "code",
   "execution_count": 92,
   "source": [
    "#14\r\n",
    "'''\r\n",
    "Dictionaries provide a convenient way to store structured data. Here is an example dictionary:\r\n",
    "d=[{'name':'Todd', 'phone':'555-1414', 'email':'todd@mail.net'},\r\n",
    "{'name':'Helga', 'phone':'555-1618', 'email':'helga@mail.net'},\r\n",
    "{'name':'Princess', 'phone':'555-3141', 'email':''},\r\n",
    "{'name':'LJ', 'phone':'555-2718', 'email':'lj@mail.net'}]\r\n",
    "Write a program that reads through any dictionary like this and prints the following:\r\n",
    "(a) All the users whose phone number ends in an 8\r\n",
    "(b) All the users that don’t have an email address listed\r\n",
    "'''\r\n",
    "d = [{'name':'Todd', 'phone':'555-1414', 'email':'todd@mail.net'},\r\n",
    "{'name':'Helga', 'phone':'555-1618', 'email':'helga@mail.net'},\r\n",
    "{'name':'Princess', 'phone':'555-3141', 'email':''},\r\n",
    "{'name':'LJ', 'phone':'555-2718', 'email':'lj@mail.net'}]\r\n",
    "\r\n",
    "a = [info['name'] for info in d if info['phone'][-1] == '8']\r\n",
    "b = [info['name'] for info in d if info['email'] == '']\r\n",
    "print(f\"(a) Users whose phone numbers ends in an 8: {', '.join(a)}.\")\r\n",
    "print(f\"(b) Users that don't have an email address: {', '.join(b)}.\")"
   ],
   "outputs": [
    {
     "output_type": "stream",
     "name": "stdout",
     "text": [
      "(a) Users whose phone numbers ends in an 8: Helga, LJ.\n",
      "(b) Users that don't have an email address: Princess.\n"
     ]
    }
   ],
   "metadata": {}
  },
  {
   "cell_type": "code",
   "execution_count": 5,
   "source": [
    "#15\r\n",
    "'''\r\n",
    "The following problem is from Chapter 6. Try it again, this time using a dictionary whose\r\n",
    "keys are the names of the time zones and whose values are offsets from the Eastern time\r\n",
    "zone.\r\n",
    "Write a program that converts a time from one time zone to another. The user enters the time\r\n",
    "in the usual American way, such as 3:48pm or 11:26am. The first time zone the user enters\r\n",
    "is that of the original time and the second is the desired time zone. The possible time zones\r\n",
    "are Eastern, Central, Mountain, or Pacific.\r\n",
    "Time: 11:48pm\r\n",
    "Starting zone: Pacific\r\n",
    "Ending zone: Eastern\r\n",
    "2:48am\r\n",
    "'''\r\n",
    "print('TIME ZONE CONVERTER.')\r\n",
    "zones = ['Eastern', 'Central', 'Mountain', 'Pacific']\r\n",
    "while True:\r\n",
    "    timeInput = input('Input time (such as 3:48pm or 11:26am): ')\r\n",
    "    if ':' in timeInput:\r\n",
    "        if timeInput[-2:].lower() == 'am' or timeInput[-2:].lower() == 'pm':\r\n",
    "            if timeInput[:timeInput.index(':')].isdecimal() and timeInput[timeInput.index(':')+1:-2].isdecimal():\r\n",
    "                break\r\n",
    "while True:\r\n",
    "    timeZone = input('Enter time zone (Eastern, Central, Mountain, Pacific): ')\r\n",
    "    if timeZone.title() in zones:\r\n",
    "        desiredZone = input('Enter desired time zone (Eastern, Central, Mountain, Pacific): ')\r\n",
    "        if desiredZone.title() in zones:\r\n",
    "            break\r\n",
    "        else:\r\n",
    "            print('Invalid input.')\r\n",
    "    else:\r\n",
    "        print('Invalid input.')\r\n",
    "if timeInput[-2:].lower() == 'am':\r\n",
    "    frac = timeInput.split(':')\r\n",
    "    if int(frac[0]) == 12:\r\n",
    "        hour = 0\r\n",
    "    else:\r\n",
    "        hour = int(frac[0])\r\n",
    "elif timeInput[-2:].lower() == 'pm':\r\n",
    "    frac = timeInput.split(':')\r\n",
    "    if int(frac[0]) == 12:\r\n",
    "        hour = 12\r\n",
    "    else:\r\n",
    "        hour = int(frac[0]) + 12\r\n",
    "conversion = {'Eastern': {'Eastern': hour, 'Central': hour-1, 'Mountain': hour-2, 'Pacific': hour-3},\r\n",
    "              'Central': {'Eastern': hour+1, 'Central': hour, 'Mountain': hour-1, 'Pacific': hour-2},\r\n",
    "              'Mountain': {'Eastern': hour+2, 'Central': hour+1, 'Mountain': hour, 'Pacific': hour-1},\r\n",
    "              'Pacific': {'Eastern': hour+3, 'Central': hour+2, 'Mountain': hour+1, 'Pacific': hour}\r\n",
    "              }\r\n",
    "time = conversion[timeZone.title()][desiredZone.title()]\r\n",
    "if time%24 == 0:\r\n",
    "    print(f'{timeZone.title()}: {timeInput}, {desiredZone.title()}: {time%24+12}:{frac[1][:-2]}am.')\r\n",
    "elif time%24 < 12:\r\n",
    "    print(f'{timeZone.title()}: {timeInput}, {desiredZone.title()}: {time%24}:{frac[1][:-2]}am.')\r\n",
    "elif time%24 >= 12:\r\n",
    "    print(f'{timeZone.title()}: {timeInput}, {desiredZone.title()}: {time%24-12}:{frac[1][:-2]}pm.')"
   ],
   "outputs": [
    {
     "output_type": "stream",
     "name": "stdout",
     "text": [
      "TIME ZONE CONVERTER.\n",
      "Invalid input.\n",
      "Eastern: 02:11pm, Pacific: 11:11am.\n"
     ]
    }
   ],
   "metadata": {}
  },
  {
   "cell_type": "code",
   "execution_count": 4,
   "source": [
    "#20\r\n",
    "\"\"\"\r\n",
    "Write a program that converts a time from one time zone to another. The user enters the time in the usual American way, such as \r\n",
    "3:48pm or 11:26am. The first time zone the user enters is that of the original time and the second is the desired time zone. \r\n",
    "The possible time zones are Eastern, Central, Mountain, or Pacific.\r\n",
    "\r\n",
    "Time: 11:48pm\r\n",
    "Starting zone: Pacific\r\n",
    "Ending zone: Eastern\r\n",
    "2:48am\r\n",
    "\"\"\"\r\n",
    "print('TIME ZONE CONVERTER.')\r\n",
    "zones = ['Eastern', 'Central', 'Mountain', 'Pacific']\r\n",
    "while True:\r\n",
    "    timeInput = input('Input time (such as 3:48pm or 11:26am): ')\r\n",
    "    if ':' in timeInput:\r\n",
    "        if timeInput[-2:].lower() == 'am' or timeInput[-2:].lower() == 'pm':\r\n",
    "            if timeInput[:timeInput.index(':')].isdecimal() and timeInput[timeInput.index(':')+1:-2].isdecimal():\r\n",
    "                break\r\n",
    "timeZone = int(input('1. Eastern\\n2. Central\\n3. Mountain\\n4. Pacific\\nEnter time zone: '))\r\n",
    "desiredZone = int(input('1. Eastern\\n2. Central\\n3. Mountain\\n4. Pacific\\nEnter desired time zone: '))\r\n",
    "#covert to 24-hour format\r\n",
    "if timeInput[-2:].lower() == 'am':\r\n",
    "    frac = timeInput.split(':')\r\n",
    "    if int(frac[0]) == 12:\r\n",
    "        hour = 0\r\n",
    "    else:\r\n",
    "        hour = int(frac[0])\r\n",
    "elif timeInput[-2:].lower() == 'pm':\r\n",
    "    frac = timeInput.split(':')\r\n",
    "    if int(frac[0]) == 12:\r\n",
    "        hour = 12\r\n",
    "    else:\r\n",
    "        hour = int(frac[0]) + 12\r\n",
    "conversion = [[hour, hour-1, hour-2, hour-3],\r\n",
    "              [hour+1, hour, hour-1, hour-2],\r\n",
    "              [hour+2, hour+1, hour, hour-1],\r\n",
    "              [hour+3, hour+2, hour+1, hour]]\r\n",
    "time = conversion[timeZone-1][desiredZone-1]\r\n",
    "if time%24 == 0:\r\n",
    "    print(f'{zones[timeZone-1]}: {timeInput}, {zones[desiredZone-1]}: {time%24+12}:{frac[1][:-2]}am.')\r\n",
    "elif time%24 < 12:\r\n",
    "    print(f'{zones[timeZone-1]}: {timeInput}, {zones[desiredZone-1]}: {time%24}:{frac[1][:-2]}am.')\r\n",
    "elif time%24 >= 12:\r\n",
    "    print(f'{zones[timeZone-1]}: {timeInput}, {zones[desiredZone-1]}: {time%24-12}:{frac[1][:-2]}pm.')"
   ],
   "outputs": [
    {
     "output_type": "stream",
     "name": "stdout",
     "text": [
      "TIME ZONE CONVERTER.\n",
      "Eastern: 2:02pm, Pacific: 11:02am.\n"
     ]
    }
   ],
   "metadata": {}
  },
  {
   "cell_type": "code",
   "execution_count": null,
   "source": [
    "#16\r\n",
    "'''\r\n",
    "(a) Write a program that converts Roman numerals into ordinary numbers. Here are the\r\n",
    "conversions: M=1000, D=500, C=100, L=50, X=10, V=5 I=1. Don’t forget about things\r\n",
    "like IV being 4 and XL being 40.\r\n",
    "(b) Write a program that converts ordinary numbers into Roman numerals\r\n",
    "'''"
   ],
   "outputs": [],
   "metadata": {}
  }
 ],
 "metadata": {
  "kernelspec": {
   "name": "python3",
   "display_name": "Python 3.9.6 64-bit"
  },
  "language_info": {
   "codemirror_mode": {
    "name": "ipython",
    "version": 3
   },
   "file_extension": ".py",
   "mimetype": "text/x-python",
   "name": "python",
   "nbconvert_exporter": "python",
   "pygments_lexer": "ipython3",
   "version": "3.9.6"
  },
  "interpreter": {
   "hash": "ac59ebe37160ed0dfa835113d9b8498d9f09ceb179beaac4002f036b9467c963"
  }
 },
 "nbformat": 4,
 "nbformat_minor": 5
}