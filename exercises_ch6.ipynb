{
 "cells": [
  {
   "cell_type": "code",
   "execution_count": 23,
   "source": [
    "#1\r\n",
    "\"\"\"\r\n",
    "Write a program that asks the user to enter a string. The program should then print the following:\r\n",
    "(a) The total number of characters in the string\r\n",
    "(b) The string repeated 10 times\r\n",
    "(c) The first character of the string (remember that string indices start at 0)\r\n",
    "(d) The first three characters of the string\r\n",
    "(e) The last three characters of the string\r\n",
    "(f) The string backwards\r\n",
    "(g) The seventh character of the string if the string is long enough and a message otherwise\r\n",
    "(h) The string with its first and last characters removed\r\n",
    "(i) The string in all caps\r\n",
    "(j) The string with every a replaced with an e\r\n",
    "(k) The string with every letter replaced by a space\r\n",
    "\"\"\"\r\n",
    "string = input('Input a string: ')\r\n",
    "print(f'''a. The total number of characters in the string is {len(string)}\r\n",
    "b. The string repeated 10 times: {string*10}\r\n",
    "c. The first character of the string is {string[0]}\r\n",
    "d. The first three characters of the string are {string[:3]}\r\n",
    "e. The last three characters of the string are {string[-3:]}\r\n",
    "f. The string backwards is {string[::-1]}\r\n",
    "''', end='')\r\n",
    "if len(string) >= 7:\r\n",
    "    print(f'g. The seventh character of the string is {string[6]}')\r\n",
    "else:\r\n",
    "    print('g. The number of characters of the string is less than seven.')\r\n",
    "print(f'''h. The string with it's first and last characters removed is {string[1:-1]}\r\n",
    "i. The string in all caps is {string.upper()}\r\n",
    "j. The string with every \"a\" replaced with an \"e\" is {string.replace('a', 'e')}\r\n",
    "k. The string with every letter replaced by a string is '{' '*len(string)}'\r\n",
    "''')"
   ],
   "outputs": [
    {
     "output_type": "stream",
     "name": "stdout",
     "text": [
      "a. The total number of characters in the string is 8\n",
      "b. The string repeated 10 times: ComputerComputerComputerComputerComputerComputerComputerComputerComputerComputer\n",
      "c. The first character of the string is C\n",
      "d. The first three characters of the string are Com\n",
      "e. The last three characters of the string are ter\n",
      "f. The string backwards is retupmoC\n",
      "g. The seventh character of the string is e\n",
      "h. The string with it's first and last characters removed is ompute\n",
      "i. The string in all caps is COMPUTER\n",
      "j. The string with every \"a\" replaced with an \"e\" is Computer\n",
      "k. The string with every letter replaced by a string is '        '\n",
      "\n"
     ]
    }
   ],
   "metadata": {}
  },
  {
   "cell_type": "code",
   "execution_count": 3,
   "source": [
    "#2\r\n",
    "\"\"\"\r\n",
    "A simple way to estimate the number of words in a string is to count the number of spaces in the string. Write a program that \r\n",
    "asks the user for a string and returns an estimate of how many words are in the string.\r\n",
    "\"\"\"\r\n",
    "string = input('Input a sentence: ')\r\n",
    "num_words = string.count(' ') + 1\r\n",
    "print(f'\"{string}\"\\nThe estimated number of words in the string above is: {num_words} words.')"
   ],
   "outputs": [
    {
     "output_type": "stream",
     "name": "stdout",
     "text": [
      "\"See no evil, hear no evil, and speak no evil.\"\n",
      "The estimated number of words of the string above is: 10 words.\n"
     ]
    }
   ],
   "metadata": {}
  },
  {
   "cell_type": "code",
   "execution_count": 6,
   "source": [
    "#3\r\n",
    "\"\"\"\r\n",
    "People often forget closing parentheses when entering formulas. Write a program that asks the user to enter a formula and \r\n",
    "prints out whether the formula has the same number of opening and closing parentheses.\r\n",
    "\"\"\"\r\n",
    "formula = input('Input a formula: ')\r\n",
    "opening_p = 0\r\n",
    "closing_p = 0\r\n",
    "for c in formula:\r\n",
    "    if c == '(':\r\n",
    "        opening_p += 1\r\n",
    "    if c == ')':\r\n",
    "        closing_p += 1\r\n",
    "if opening_p == closing_p:\r\n",
    "    print('The formula has the same number of opening and closing parentheses.')\r\n",
    "elif opening_p > closing_p:\r\n",
    "    print(f'The formula has {opening_p - closing_p} more opening parentheses than closing parentheses.')\r\n",
    "else:\r\n",
    "    print(f'The formula has {closing_p - opening_p} more closing parentheses than opening parentheses.')"
   ],
   "outputs": [
    {
     "output_type": "stream",
     "name": "stdout",
     "text": [
      "The formula has the same number of opening and closing parentheses.\n"
     ]
    }
   ],
   "metadata": {}
  },
  {
   "cell_type": "code",
   "execution_count": 9,
   "source": [
    "#4\r\n",
    "\"\"\"\r\n",
    "Write a program that asks the user to enter a word and prints out whether that word contains any vowels.\r\n",
    "\"\"\"\r\n",
    "word = input('Input a word: ')\r\n",
    "flag = 0\r\n",
    "for c in word:\r\n",
    "    if c in 'aeiou':\r\n",
    "        flag = 1\r\n",
    "if flag == 1:\r\n",
    "    print(f'The word \"{word}\" contains a vowel.')\r\n",
    "else:\r\n",
    "    print(f'The word \"{word}\" does not contain a vowel.')\r\n"
   ],
   "outputs": [
    {
     "output_type": "stream",
     "name": "stdout",
     "text": [
      "The word \"snake\" contains a vowel.\n"
     ]
    }
   ],
   "metadata": {}
  },
  {
   "cell_type": "code",
   "execution_count": 12,
   "source": [
    "#5\r\n",
    "\"\"\"\r\n",
    "Write a program that asks the user to enter a string. The program should create a new string called new_string from the user’s \r\n",
    "string such that the second character is changed to an asterisk and three exclamation points are attached to the end of the \r\n",
    "string. Finally, print new_string. Typical output is shown below:\r\n",
    "\r\n",
    "Enter your string: Qbert\r\n",
    "Q*ert!!!\r\n",
    "\"\"\"\r\n",
    "string = input('Input your string: ')\r\n",
    "new_string = string[:1] + '*' + string[2:] \r\n",
    "print(f'{new_string}!!!')"
   ],
   "outputs": [
    {
     "output_type": "stream",
     "name": "stdout",
     "text": [
      "S*it!!!\n"
     ]
    }
   ],
   "metadata": {}
  },
  {
   "cell_type": "code",
   "execution_count": 14,
   "source": [
    "#6\r\n",
    "\"\"\"\r\n",
    "Write a program that asks the user to enter a string s and then converts s to lowercase, removes all the periods and commas \r\n",
    "from s, and prints the resulting string.\r\n",
    "\"\"\"\r\n",
    "string = input('Input a string: ')\r\n",
    "string = string.lower()\r\n",
    "\r\n",
    "for c in ',.':\r\n",
    "    if c in string:\r\n",
    "        string = string.replace(c, '')\r\n",
    "print(string)"
   ],
   "outputs": [
    {
     "output_type": "stream",
     "name": "stdout",
     "text": [
      "see no evil hear no evil and speak no evil\n"
     ]
    }
   ],
   "metadata": {}
  },
  {
   "cell_type": "code",
   "execution_count": null,
   "source": [
    "#7\r\n",
    "\"\"\"\r\n",
    "Write a program that asks the user to enter a word and determines whether the word is a palindrome or not. A palindrome is a \r\n",
    "word that reads the same backwards as forwards.\r\n",
    "\"\"\"\r\n",
    "word = input('Input a word: ')\r\n",
    "if word == word[::-1]:\r\n",
    "    print(f'The word {word}, is a palindrome.')\r\n",
    "else:\r\n",
    "    print(f'The word {word}, is not a palindrome.')"
   ],
   "outputs": [],
   "metadata": {}
  },
  {
   "cell_type": "code",
   "execution_count": 17,
   "source": [
    "#8\r\n",
    "\"\"\"\r\n",
    "At a certain school, student email addresses end with @student.college.edu, while professor email addresses end with \r\n",
    "@prof.college.edu. Write a program that first asks the user how many email addresses they will be entering, and then has the \r\n",
    "user enter those addresses. After all the email addresses are entered, the program should print out a message indicating either\r\n",
    "that all the addresses are student addresses or that there were some professor addresses entered.\r\n",
    "\"\"\"\r\n",
    "num = int(input('How many email addresses to you want to enter: '))\r\n",
    "prof_email = 0\r\n",
    "student_email = 0\r\n",
    "for i in range(num):\r\n",
    "    email = input(f'Input email address {i + 1}: ')\r\n",
    "    if '@prof.college.edu' in email:\r\n",
    "        prof_email += 1\r\n",
    "    elif '@student.college.edu' in email:\r\n",
    "        student_email += 1\r\n",
    "    else:\r\n",
    "        print(f'The email entered {email}, is invalid.')\r\n",
    "if prof_email == 0:\r\n",
    "    print('All the email addresses inputed are student addresses.')\r\n",
    "elif student_email == 0:\r\n",
    "    print('All the email addresses inputed are professor addresses.')\r\n",
    "else:\r\n",
    "    print(f'The email addresses inputed comprised of {prof_email} professor addresses and {student_email} student addresses.')"
   ],
   "outputs": [
    {
     "output_type": "stream",
     "name": "stdout",
     "text": [
      "The email addresses inputed comprised of 2 professor addresses and 3 student addresses.\n"
     ]
    }
   ],
   "metadata": {}
  },
  {
   "cell_type": "code",
   "execution_count": 20,
   "source": [
    "#9\r\n",
    "\"\"\"\r\n",
    "Ask the user for a number and then print the following, where the pattern ends at the number that the user enters.\r\n",
    "1\r\n",
    " 2\r\n",
    "  3\r\n",
    "   4\r\n",
    "\"\"\"\r\n",
    "num = int(input('Input a number: '))\r\n",
    "space = ' '\r\n",
    "for i in range(num):\r\n",
    "   print(f'{space*i}{i + 1}')"
   ],
   "outputs": [
    {
     "output_type": "stream",
     "name": "stdout",
     "text": [
      "1\n",
      " 2\n",
      "  3\n",
      "   4\n",
      "    5\n",
      "     6\n"
     ]
    }
   ],
   "metadata": {}
  },
  {
   "cell_type": "code",
   "execution_count": 23,
   "source": [
    "#10\r\n",
    "\"\"\"\r\n",
    "Write a program that asks the user to enter a string, then prints out each letter of the string doubled and on a separate line.\r\n",
    "For instance, if the user entered HEY, the output would be\r\n",
    "HH\r\n",
    "EE\r\n",
    "YY\r\n",
    "\"\"\"\r\n",
    "string = input('Input a string: ')\r\n",
    "for c in string:\r\n",
    "    print(c.upper()*2)"
   ],
   "outputs": [
    {
     "output_type": "stream",
     "name": "stdout",
     "text": [
      "HH\n",
      "EE\n",
      "YY\n"
     ]
    }
   ],
   "metadata": {}
  },
  {
   "cell_type": "code",
   "execution_count": 30,
   "source": [
    "#11\r\n",
    "\"\"\"\r\n",
    "Write a program that asks the user to enter a word that contains the letter a. The program should then print the following two\r\n",
    "lines: On the first line should be the part of the string up to and including the the first a, and on the second line should be\r\n",
    "the rest of the string. Sample output is shown below:\r\n",
    "\r\n",
    "Enter a word: buffalo\r\n",
    "buffa\r\n",
    "lo\r\n",
    "\"\"\"\r\n",
    "word = input('Input a word with the letter \"a\": ')\r\n",
    "pos = word.index('a')\r\n",
    "print(f'{word[:pos + 1]}\\n{word[pos + 1:]}')"
   ],
   "outputs": [
    {
     "output_type": "stream",
     "name": "stdout",
     "text": [
      "buffa\n",
      "lo\n"
     ]
    }
   ],
   "metadata": {}
  },
  {
   "cell_type": "code",
   "execution_count": 36,
   "source": [
    "#12\r\n",
    "\"\"\"\r\n",
    "Write a program that asks the user to enter a word and then capitalizes every other letter of that word. So if the user enters \r\n",
    "rhinoceros, the program should print rHiNoCeRoS.\r\n",
    "\"\"\"\r\n",
    "word = input('Input a word: ')\r\n",
    "for i in range(len(word)):\r\n",
    "    if i%2 == 0:\r\n",
    "        print(word[i], end='')\r\n",
    "    else:\r\n",
    "        print(word[i].upper(), end='')\r\n",
    "        "
   ],
   "outputs": [
    {
     "output_type": "stream",
     "name": "stdout",
     "text": [
      "rHiNoCeRoS"
     ]
    }
   ],
   "metadata": {}
  },
  {
   "cell_type": "code",
   "execution_count": 43,
   "source": [
    "#13\r\n",
    "\"\"\"\r\n",
    "Write a program that asks the user to enter two strings of the same length. The program should then check to see if the strings\r\n",
    "are of the same length. If they are not, the program should print an appropriate message and exit. If they are of the same \r\n",
    "length, the program should alternate the characters of the two strings. For example, if the user enters abcde and ABCDE the \r\n",
    "program should print out AaBbCcDdEe.\r\n",
    "\"\"\"\r\n",
    "string_1 = input('Input the first string: ')\r\n",
    "string_2 = input('Input the second string of equal length with first string: ')\r\n",
    "\r\n",
    "if not len(string_1) == len(string_2):\r\n",
    "    print('The two strings are not of the same length.')\r\n",
    "else:\r\n",
    "    for i in range(len(string_1)):\r\n",
    "        print(string_2[i] + string_1[i], end='')"
   ],
   "outputs": [
    {
     "output_type": "stream",
     "name": "stdout",
     "text": [
      "AaBbCcDdEe"
     ]
    }
   ],
   "metadata": {}
  },
  {
   "cell_type": "code",
   "execution_count": 48,
   "source": [
    "#14\r\n",
    "\"\"\"\r\n",
    "Write a program that asks the user to enter their name in lowercase and then capitalizes the first letter of each word of their\r\n",
    "name.\r\n",
    "\"\"\"\r\n",
    "x, y, z = input('Input your full name in lowercase(surname, firstname and middlename): ').split()\r\n",
    "print(f'{x[0].upper() + x[1:]} {y[0].upper() + y[1:]} {z[0].upper() + z[1:]}')"
   ],
   "outputs": [
    {
     "output_type": "stream",
     "name": "stdout",
     "text": [
      "Michael Ikoko Olise-ekezie\n"
     ]
    }
   ],
   "metadata": {}
  },
  {
   "cell_type": "code",
   "execution_count": 49,
   "source": [
    "#15\r\n",
    "\"\"\"\r\n",
    "When I was a kid, we used to play this game called Mad Libs. The way it worked was a friend would ask me for some words and \r\n",
    "then insert those words into a story at specific places and read the story. The story would often turn out to be pretty funny \r\n",
    "with the words I had given since I had no idea what the story was about. The words were usually from a specific category, like \r\n",
    "a place, an animal, etc. For this problem you will write a Mad Libs program. First, you should make up a story and leave out \r\n",
    "some words of the story. Your program should ask the user to enter some words and tell them what types of words to enter. Then \r\n",
    "print the full story along with the inserted words. Here is a small example, but you should use your own (longer) example:\r\n",
    "\r\n",
    "Enter a college class: CALCULUS\r\n",
    "Enter an adjective: HAPPY\r\n",
    "Enter an activity: PLAY BASKETBALL\r\n",
    "CALCULUS class was really HAPPY today. We learned how to\r\n",
    "PLAY BASKETBALL today in class. I can't wait for tomorrow's class!\r\n",
    "\"\"\"\r\n",
    "print('MAD LIBS')\r\n",
    "adjective = input('Enter an adjective: ')\r\n",
    "mode_of_transportation = input('Enter a mode of transportation: ')\r\n",
    "city = input('Enter a city: ')\r\n",
    "celebrity_name = input('Enter the name of a famous celebrity you know: ')\r\n",
    "sport = input('Enter a sporting activity: ')\r\n",
    "food = input('Enter a food: ')\r\n",
    "fav_show = input('Enter the name of a tv show or movie: ')\r\n",
    "\r\n",
    "print(f'''\r\n",
    "I woke up feeling {adjective} today. As a result of that, I dressed up left the house, entered a {mode_of_transportation} and\r\n",
    "travelled to {city}. There I met {celebrity_name}. We played {sport}. Then we ate some {food} for dinner, and spent the \r\n",
    "evening watching '{fav_show}'.\r\n",
    "''')"
   ],
   "outputs": [
    {
     "output_type": "stream",
     "name": "stdout",
     "text": [
      "MAD LIBS\n",
      "\n",
      "I woke up feeling angry today. As a result of that, I dressed up left the house, entered a bus and\n",
      "travelled to paris. There I met Martin Starr. We played table tennis. Then we ate some pizza for dinner, and spent the \n",
      "evening watching match game.\n",
      "\n"
     ]
    }
   ],
   "metadata": {}
  },
  {
   "cell_type": "code",
   "execution_count": 50,
   "source": [
    "#16\r\n",
    "\"\"\"\r\n",
    "Companies often try to personalize their offers to make them more attractive. One simple way to do this is just to insert the \r\n",
    "person’s name at various places in the offer. Of course, companies don’t manually type in every person’s name; everything is \r\n",
    "computer-generated. Write a program that asks the user for their name and then generates an offer like the one below. For \r\n",
    "simplicity’s sake, you may assume that the person’s first and last names are one word each.\r\n",
    "\r\n",
    "Enter name: George Washington\r\n",
    "\r\n",
    "Dear George Washington,\r\n",
    "I am pleased to offer you our new Platinum Plus Rewards card\r\n",
    "at a special introductory APR of 47.99%. George, an offer\r\n",
    "like this does not come along every day, so I urge you to call\r\n",
    "now toll-free at 1-800-314-1592. We cannot offer such a low\r\n",
    "rate for long, George, so call right away.\r\n",
    "\r\n",
    "\"\"\"\r\n",
    "name = input('Input your name: ')\r\n",
    "print(f'''\r\n",
    "Dear {name}. \r\n",
    "I am glad to announce to you that if you buy any medium pan or large pan pizza at any of our stores, you get a free 50cl bottle\r\n",
    "of Coca-cola. Hurry up and head to any of our stores to place an order, or order online at  www.pizzaplace.com. Offer valid \r\n",
    "while stocks last.\r\n",
    "''')"
   ],
   "outputs": [
    {
     "output_type": "stream",
     "name": "stdout",
     "text": [
      "\n",
      "Dear Tafawa Balewa. \n",
      "I am glad to announce to you that if you buy any medium pan or large pan pizza at any of our stores, you get a free 50cl bottle\n",
      "of Coca-cola. Hurry up and head to any of our stores to place an order, or order online at  www.pizzaplace.com. Offer valid \n",
      "while stocks last.\n",
      "\n"
     ]
    }
   ],
   "metadata": {}
  },
  {
   "cell_type": "code",
   "execution_count": 52,
   "source": [
    "#17\r\n",
    "\"\"\"\r\n",
    "Write a program that generates the 26-line block of letters partially shown below. Use a loop\r\n",
    "containing one or two print statements.\r\n",
    "abcdefghijklmnopqrstuvwxyz\r\n",
    "bcdefghijklmnopqrstuvwxyza\r\n",
    "cdefghijklmnopqrstuvwxyzab\r\n",
    "...\r\n",
    "yzabcdefghijklmnopqrstuvwx\r\n",
    "zabcdefghijklmnopqrstuvwxy\r\n",
    "\"\"\"\r\n",
    "alphabet = 'abcdefghijklmnopqrstuvwxyz'\r\n",
    "for i in range(26):\r\n",
    "    for k in range(26):\r\n",
    "        print(alphabet[(i+k)%26], end='')\r\n",
    "    print()"
   ],
   "outputs": [
    {
     "output_type": "stream",
     "name": "stdout",
     "text": [
      "abcdefghijklmnopqrstuvwxyz\n",
      "bcdefghijklmnopqrstuvwxyza\n",
      "cdefghijklmnopqrstuvwxyzab\n",
      "defghijklmnopqrstuvwxyzabc\n",
      "efghijklmnopqrstuvwxyzabcd\n",
      "fghijklmnopqrstuvwxyzabcde\n",
      "ghijklmnopqrstuvwxyzabcdef\n",
      "hijklmnopqrstuvwxyzabcdefg\n",
      "ijklmnopqrstuvwxyzabcdefgh\n",
      "jklmnopqrstuvwxyzabcdefghi\n",
      "klmnopqrstuvwxyzabcdefghij\n",
      "lmnopqrstuvwxyzabcdefghijk\n",
      "mnopqrstuvwxyzabcdefghijkl\n",
      "nopqrstuvwxyzabcdefghijklm\n",
      "opqrstuvwxyzabcdefghijklmn\n",
      "pqrstuvwxyzabcdefghijklmno\n",
      "qrstuvwxyzabcdefghijklmnop\n",
      "rstuvwxyzabcdefghijklmnopq\n",
      "stuvwxyzabcdefghijklmnopqr\n",
      "tuvwxyzabcdefghijklmnopqrs\n",
      "uvwxyzabcdefghijklmnopqrst\n",
      "vwxyzabcdefghijklmnopqrstu\n",
      "wxyzabcdefghijklmnopqrstuv\n",
      "xyzabcdefghijklmnopqrstuvw\n",
      "yzabcdefghijklmnopqrstuvwx\n",
      "zabcdefghijklmnopqrstuvwxy\n"
     ]
    }
   ],
   "metadata": {}
  },
  {
   "cell_type": "code",
   "execution_count": 14,
   "source": [
    "#18\r\n",
    "\"\"\"\r\n",
    "The goal of this exercise is to see if you can mimic the behavior of the in operator and the\r\n",
    "count and index methods using only variables, for loops, and if statements.\r\n",
    "(a) Without using the in operator, write a program that asks the user for a string and a letter\r\n",
    "and prints out whether or not the letter appears in the string.\r\n",
    "(b) Without using the count method, write a program that asks the user for a string and a\r\n",
    "letter and counts how many occurrences there are of the letter in the string.\r\n",
    "(c) Without using the index method, write a program that asks the user for a string and\r\n",
    "a letter and prints out the index of the first occurrence of the letter in the string. If the\r\n",
    "letter is not in the string, the program should say so.\r\n",
    "\"\"\"\r\n",
    "string = input('Input a string: ')\r\n",
    "letter = input('Input a letter: ')\r\n",
    "flag = 0\r\n",
    "count = 0\r\n",
    "#(a)\r\n",
    "for c in string:\r\n",
    "    if c == letter:\r\n",
    "        flag = 1\r\n",
    "if flag == 1:\r\n",
    "    print(f'(a) The letter \"{letter}\" appears in the string \"{string}.\"')\r\n",
    "else:\r\n",
    "    print(f'(a) The letter \"{letter}\" does not appear in the string \"{string}.\"')\r\n",
    "#(b)\r\n",
    "for c in string:\r\n",
    "    if c == letter:\r\n",
    "        count += 1\r\n",
    "if count > 0:    \r\n",
    "    print(f'(b) The letter \"{letter}\" occurs {count} times in the string \"{string}.\"')\r\n",
    "else:\r\n",
    "    print(f'(b) The letter \"{letter}\" does not occur in the string \"{string}.\"')\r\n",
    "#(c)\r\n",
    "for i in range(len(string)):\r\n",
    "    if string[i] == letter:\r\n",
    "        a = i\r\n",
    "        break\r\n",
    "if a > 0:\r\n",
    "    print(f'(c) The index of the first occurence of the letter \"{letter}\" in the string \"{string}\" is {a}')\r\n",
    "else:\r\n",
    "    print(f'(c) The letter \"{letter}\" is not in the string \"{string}.\"')"
   ],
   "outputs": [
    {
     "output_type": "stream",
     "name": "stdout",
     "text": [
      "(a) The letter \"t\" appears in the string \"letter.\"\n",
      "(b) The letter \"t\" occurs 2 times in the string \"letter.\"\n",
      "(c) The index of the first occurence of the letter \"t\" in the string \"letter\" is 2\n"
     ]
    }
   ],
   "metadata": {}
  },
  {
   "cell_type": "code",
   "execution_count": 105,
   "source": [
    "#19\r\n",
    "\"\"\"\r\n",
    "Write a program that asks the user for a large integer and inserts commas into it according to the standard American convention \r\n",
    "for commas in large numbers. For instance, if the user enters 1000000, the output should be 1,000,000.\r\n",
    "\"\"\"\r\n",
    "number = input('Input a large integer: ')\r\n",
    "b = len(number)//3\r\n",
    "a = len(number)%3\r\n",
    "if a == 0:\r\n",
    "    a = 3\r\n",
    "    for i in range(b):\r\n",
    "        c = a + (i*4)\r\n",
    "        number = number[:c] + ',' + number[c:]\r\n",
    "    number = number[:-1] + '.'\r\n",
    "else:   \r\n",
    "    for i in range(b):\r\n",
    "        c = a + (i*4) \r\n",
    "        number = number[:c] + ',' + number[c:]\r\n",
    "print(number + '.')"
   ],
   "outputs": [
    {
     "output_type": "stream",
     "name": "stdout",
     "text": [
      "10,000,000,000.\n"
     ]
    }
   ],
   "metadata": {}
  },
  {
   "cell_type": "code",
   "execution_count": null,
   "source": [
    "#20\r\n",
    "\"\"\"\r\n",
    "Write a program that converts a time from one time zone to another. The user enters the time in the usual American way, such as \r\n",
    "3:48pm or 11:26am. The first time zone the user enters is that of the original time and the second is the desired time zone. \r\n",
    "The possible time zones are Eastern, Central, Mountain, or Pacific.\r\n",
    "\r\n",
    "Time: 11:48pm\r\n",
    "Starting zone: Pacific\r\n",
    "Ending zone: Eastern\r\n",
    "2:48am\r\n",
    "\"\"\"\r\n",
    "print('TIME ZONE CONVERTER.')\r\n",
    "zones = ['Eastern', 'Central', 'Mountain', 'Pacific']\r\n",
    "while True:\r\n",
    "    timeInput = input('Input time (such as 3:48pm or 11:26am): ')\r\n",
    "    if ':' in timeInput:\r\n",
    "        if timeInput[-2:].lower() == 'am' or timeInput[-2:].lower() == 'pm':\r\n",
    "            if timeInput[:timeInput.index(':')].isdecimal() and timeInput[timeInput.index(':')+1:-2].isdecimal():\r\n",
    "                break\r\n",
    "timeZone = int(input('1. Eastern\\n2. Central\\n3. Mountain\\n4. Pacific\\nEnter time zone: '))\r\n",
    "desiredZone = int(input('1. Eastern\\n2. Central\\n3. Mountain\\n4. Pacific\\nEnter desired time zone: '))\r\n",
    "#covert to 24-hour format\r\n",
    "if timeInput[-2:].lower() == 'am':\r\n",
    "    frac = timeInput.split(':')\r\n",
    "    if int(frac[0]) == 12:\r\n",
    "        hour = 0\r\n",
    "    else:\r\n",
    "        hour = int(frac[0])\r\n",
    "elif timeInput[-2:].lower() == 'pm':\r\n",
    "    frac = timeInput.split(':')\r\n",
    "    if int(frac[0]) == 12:\r\n",
    "        hour = 12\r\n",
    "    else:\r\n",
    "        hour = int(frac[0]) + 12\r\n",
    "conversion = [[hour, hour-1, hour-2, hour-3],\r\n",
    "              [hour+1, hour, hour-1, hour-2],\r\n",
    "              [hour+2, hour+1, hour, hour-1],\r\n",
    "              [hour+3, hour+2, hour+1, hour]]\r\n",
    "time = conversion[timeZone-1][desiredZone-1]\r\n",
    "if time%24 == 0:\r\n",
    "    print(f'{zones[timeZone-1]}: {timeInput}, {zones[desiredZone-1]}: {time%24+12}:{frac[1][:-2]}am.')\r\n",
    "elif time%24 < 12:\r\n",
    "    print(f'{zones[timeZone-1]}: {timeInput}, {zones[desiredZone-1]}: {time%24}:{frac[1][:-2]}am.')\r\n",
    "elif time%24 >= 12:\r\n",
    "    print(f'{zones[timeZone-1]}: {timeInput}, {zones[desiredZone-1]}: {time%24-12}:{frac[1][:-2]}pm.')"
   ],
   "outputs": [
    {
     "output_type": "stream",
     "name": "stdout",
     "text": [
      "TIME ZONE CONVERTER.\n",
      "Eastern: 2:02pm, Pacific: 11:02am.\n"
     ]
    }
   ],
   "metadata": {}
  },
  {
   "cell_type": "code",
   "execution_count": 13,
   "source": [
    "#21\r\n",
    "'''\r\n",
    "An anagram of a word is a word that is created by rearranging the letters of the original.\r\n",
    "For instance, two anagrams of idle are deli and lied. Finding anagrams that are real words is\r\n",
    "beyond our reach until Chapter 12. Instead, write a program that asks the user for a string\r\n",
    "and returns a random anagram of the string—in other words, a random rearrangement of the\r\n",
    "letters of that string.\r\n",
    "'''\r\n",
    "import random\r\n",
    "string = input('Input a string: ')\r\n",
    "indexList = list(range(len(string)))\r\n",
    "random.shuffle(indexList)\r\n",
    "anagram = ''.join([string[i] for i in indexList])\r\n",
    "print(f'A random anagram of the string {string} is {anagram}.')"
   ],
   "outputs": [
    {
     "output_type": "stream",
     "name": "stdout",
     "text": [
      "[0, 1, 3, 2]\n",
      "A random anagram of the string idle is idel.\n"
     ]
    }
   ],
   "metadata": {}
  },
  {
   "cell_type": "code",
   "execution_count": 5,
   "source": [
    "#22(a)\r\n",
    "\"\"\"\r\n",
    "A simple way of encrypting a message is to rearrange its characters. One way to rearrange the\r\n",
    "characters is to pick out the characters at even indices, put them first in the encrypted string,\r\n",
    "and follow them by the odd characters. For example, the string message would be encrypted\r\n",
    "as msaeesg because the even characters are m, s, a, e (at indices 0, 2, 4, and 6) and the odd\r\n",
    "characters are e, s, g (at indices 1, 3, and 5).\r\n",
    "(a) Write a program that asks the user for a string and uses this method to encrypt the string.\r\n",
    "(b) Write a program that decrypts a string that was encrypted with this method.\r\n",
    "\"\"\"\r\n",
    "string = input('Input a string: ')\r\n",
    "for i in range(len(string)):\r\n",
    "    if i % 2 == 0:\r\n",
    "        print(string[i], end='')\r\n",
    "for i in range(len(string)):\r\n",
    "    if i % 2 == 1:\r\n",
    "        print(string[i], end='')"
   ],
   "outputs": [
    {
     "output_type": "stream",
     "name": "stdout",
     "text": [
      "Sce esgertmsae"
     ]
    }
   ],
   "metadata": {}
  },
  {
   "cell_type": "code",
   "execution_count": 8,
   "source": [
    "#22(b) *\r\n",
    "\"\"\"\r\n",
    "A simple way of encrypting a message is to rearrange its characters. One way to rearrange the\r\n",
    "characters is to pick out the characters at even indices, put them first in the encrypted string,\r\n",
    "and follow them by the odd characters. For example, the string message would be encrypted\r\n",
    "as msaeesg because the even characters are m, s, a, e (at indices 0, 2, 4, and 6) and the odd\r\n",
    "characters are e, s, g (at indices 1, 3, and 5).\r\n",
    "(a) Write a program that asks the user for a string and uses this method to encrypt the string.\r\n",
    "(b) Write a program that decrypts a string that was encrypted with this method.\r\n",
    "\"\"\"\r\n",
    "en_string = input('Input encryted string: ')\r\n",
    "word = ''\r\n",
    "if len(en_string) % 2 == 0:\r\n",
    "    even_i = list(en_string)[:int(len(en_string)/2)]\r\n",
    "    odd_i = list(en_string)[int(len(en_string)/2):]\r\n",
    "    for i in range(len(even_i)):\r\n",
    "        word += even_i[i] + odd_i[i]\r\n",
    "    print(f'The decryted string is \"{word}\".')\r\n",
    "else:\r\n",
    "    even_i = list(en_string)[:len(en_string)//2+1]\r\n",
    "    odd_i = list(en_string)[len(en_string)//2+1:]\r\n",
    "    for i in range(len(odd_i)):\r\n",
    "        word += even_i[i] + odd_i[i]\r\n",
    "    print(f'The decryted string is: \"{word+even_i[-1]}\".')"
   ],
   "outputs": [
    {
     "output_type": "stream",
     "name": "stdout",
     "text": [
      "The decryted string is \"Secret message\".\n"
     ]
    }
   ],
   "metadata": {}
  },
  {
   "cell_type": "code",
   "execution_count": 55,
   "source": [
    "#23(a)\r\n",
    "\"\"\"\r\n",
    "A more general version of the above technique is the rail fence cipher, where instead of breaking things into evens and odds, \r\n",
    "they are broken up by threes, fours or something larger. For instance, in the case of threes, the string secret message would be \r\n",
    "broken into three groups. The first group is sr sg, the characters at indices 0, 3, 6, 9 and 12. The second group is eemse, the\r\n",
    "characters at indices 1, 4, 7, 10, and 13. The last group is ctea, the characters at indices 2, 5, 8,\r\n",
    "and 11. The encrypted message is sr sgeemsectea.\r\n",
    "(a) Write a program the asks the user for a string and uses the rail fence cipher in the threes\r\n",
    "case to encrypt the string.\r\n",
    "(b) Write a decryption program for the threes case.\r\n",
    "(c) Write a program that asks the user for a string, and an integer determining whether to\r\n",
    "break things up by threes, fours, or whatever. Encrypt the string using the rail-fence\r\n",
    "cipher.\r\n",
    "(d) Write a decryption program for the general case.\r\n",
    "\"\"\"\r\n",
    "string = input('Input a string to be encryted: ')\r\n",
    "groups = [[string[i] for i in range(k,len(string),3)] for k in range(3)]\r\n",
    "enMessage = ''.join([l for group in groups for l in group])\r\n",
    "#print(groups)\r\n",
    "print(enMessage)"
   ],
   "outputs": [
    {
     "output_type": "stream",
     "name": "stdout",
     "text": [
      "Cdiaersnc  eia n  ttnwry ntco tet psovu s  mcdi.h et mat rrorottxtntraueoiolxeisabudnlkdosuisheowtohsbwnwersnaebeoseoio idshseshtnyparh i  h nasntn pso nes  lisfiao e ua  oeee oxei lsadno ntnTso ea  eea et aesioelgg.\n"
     ]
    }
   ],
   "metadata": {}
  },
  {
   "cell_type": "code",
   "execution_count": 56,
   "source": [
    "#23(b)\r\n",
    "\"\"\"\r\n",
    "A more general version of the above technique is the rail fence cipher, where instead of breaking things into evens and odds, \r\n",
    "they are broken up by threes, fours or something larger. For instance, in the case of threes, the string secret message would be \r\n",
    "broken into three groups. The first group is sr sg, the characters at indices 0, 3, 6, 9 and 12. The second group is eemse, the\r\n",
    "characters at indices 1, 4, 7, 10, and 13. The last group is ctea, the characters at indices 2, 5, 8,\r\n",
    "and 11. The encrypted message is sr sgeemsectea.\r\n",
    "(a) Write a program the asks the user for a string and uses the rail fence cipher in the threes\r\n",
    "case to encrypt the string.\r\n",
    "(b) Write a decryption program for the threes case.\r\n",
    "(c) Write a program that asks the user for a string, and an integer determining whether to\r\n",
    "break things up by threes, fours, or whatever. Encrypt the string using the rail-fence\r\n",
    "cipher.\r\n",
    "(d) Write a decryption program for the general case.\r\n",
    "\"\"\"\r\n",
    "en_string = input('Enter encryted string: ')\r\n",
    "en_string = en_string.strip()\r\n",
    "INT = len(en_string)//3 ; REM = len(en_string)%3\r\n",
    "groups = []\r\n",
    "string = []\r\n",
    "if REM != 0:\r\n",
    "    a = 0; b = INT + 1; c = REM\r\n",
    "    for i in range(3):\r\n",
    "        groups.append([en_string[k] for k in range(a, b)])\r\n",
    "        a = b; c -=1 \r\n",
    "        if c > 0:\r\n",
    "            b += INT + 1\r\n",
    "        else:\r\n",
    "            b += INT\r\n",
    "    string = [group[i]  for i in range(INT+1) for group in groups if i != len(group)]\r\n",
    "    print(f'The decryted string is: \\'{\"\".join(string)}\\'.')\r\n",
    "    #print(groups)\r\n",
    "else:\r\n",
    "    a = 0 ; b = INT\r\n",
    "    for i in range(3):\r\n",
    "        groups.append([en_string[k] for k in range(a, b)])\r\n",
    "        a = b ; b += INT\r\n",
    "    string = [group[i] for i in range(INT) for group in groups]\r\n",
    "    print(f'The decrypted string is: \\'{\"\".join(string)}\\'.')\r\n",
    "    #print(string)\r\n",
    "    #print(groups)"
   ],
   "outputs": [
    {
     "output_type": "stream",
     "name": "stdout",
     "text": [
      "The decrypted string is: 'Conditional expressions can be used in all kinds of situations where you want to choose between two expression values based on some condition. This does the same as the ternary operator that exist in other languages.'.\n"
     ]
    }
   ],
   "metadata": {}
  },
  {
   "cell_type": "code",
   "execution_count": 60,
   "source": [
    "#23(c)\r\n",
    "\"\"\"\r\n",
    "A more general version of the above technique is the rail fence cipher, where instead of breaking things into evens and odds, \r\n",
    "they are broken up by threes, fours or something larger. For instance, in the case of threes, the string secret message would be \r\n",
    "broken into three groups. The first group is sr sg, the characters at indices 0, 3, 6, 9 and 12. The second group is eemse, the\r\n",
    "characters at indices 1, 4, 7, 10, and 13. The last group is ctea, the characters at indices 2, 5, 8,\r\n",
    "and 11. The encrypted message is sr sgeemsectea.\r\n",
    "(a) Write a program the asks the user for a string and uses the rail fence cipher in the threes\r\n",
    "case to encrypt the string.\r\n",
    "(b) Write a decryption program for the threes case.\r\n",
    "(c) Write a program that asks the user for a string, and an integer determining whether to\r\n",
    "break things up by threes, fours, or whatever. Encrypt the string using the rail-fence\r\n",
    "cipher.\r\n",
    "(d) Write a decryption program for the general case.\r\n",
    "\"\"\"\r\n",
    "string = input('Input a string to be encryted: ')\r\n",
    "num = int(input('Input number of break groups: '))\r\n",
    "groups = [[string[i] for i in range(k,len(string),num)] for k in range(num)]\r\n",
    "enMessage = ''.join([l for group in groups for l in group])\r\n",
    "#print(groups)\r\n",
    "print(enMessage)"
   ],
   "outputs": [
    {
     "output_type": "stream",
     "name": "stdout",
     "text": [
      "TdteAJdbleeyxe watt enaphahmpu e s -cbahsy Bnec iy brnNrttToerli -dut hYrsSeieo,h hnpuocTEatyi et erl v ehietanhwiy -nLayhp,,aeA ar  re egsTN er at  nmlrvteFy hnh.wiea.\n"
     ]
    }
   ],
   "metadata": {}
  },
  {
   "cell_type": "code",
   "execution_count": 61,
   "source": [
    "#23(d)\r\n",
    "\"\"\"\r\n",
    "A more general version of the above technique is the rail fence cipher, where instead of breaking things into evens and odds, \r\n",
    "they are broken up by threes, fours or something larger. For instance, in the case of threes, the string secret message would be \r\n",
    "broken into three groups. The first group is sr sg, the characters at indices 0, 3, 6, 9 and 12. The second group is eemse, the\r\n",
    "characters at indices 1, 4, 7, 10, and 13. The last group is ctea, the characters at indices 2, 5, 8,\r\n",
    "and 11. The encrypted message is sr sgeemsectea.\r\n",
    "(a) Write a program the asks the user for a string and uses the rail fence cipher in the threes\r\n",
    "case to encrypt the string.\r\n",
    "(b) Write a decryption program for the threes case.\r\n",
    "(c) Write a program that asks the user for a string, and an integer determining whether to\r\n",
    "break things up by threes, fours, or whatever. Encrypt the string using the rail-fence\r\n",
    "cipher.\r\n",
    "(d) Write a decryption program for the general case.\r\n",
    "\"\"\"\r\n",
    "en_string = input('Enter encryted string: ')\r\n",
    "num = int(input('Input number of break groups: '))\r\n",
    "en_string = en_string.strip()\r\n",
    "INT = len(en_string)//num ; REM = len(en_string)%num\r\n",
    "groups = []\r\n",
    "string = []\r\n",
    "if REM != 0:\r\n",
    "    a = 0; b = INT + 1; c = REM\r\n",
    "    for i in range(num):\r\n",
    "        groups.append([en_string[k] for k in range(a, b)])\r\n",
    "        a = b; c -=1 \r\n",
    "        if c > 0:\r\n",
    "            b += INT + 1\r\n",
    "        else:\r\n",
    "            b += INT\r\n",
    "    string = [group[i]  for i in range(INT+1) for group in groups if i != len(group)]\r\n",
    "    print(f'The decryted string is: \\'{\"\".join(string)}\\'.')\r\n",
    "    #print(groups)\r\n",
    "else:\r\n",
    "    a = 0 ; b = INT\r\n",
    "    for i in range(num):\r\n",
    "        groups.append([en_string[k] for k in range(a, b)])\r\n",
    "        a = b ; b += INT\r\n",
    "    string = [group[i] for i in range(INT) for group in groups]\r\n",
    "    print(f'The decrypted string is: \\'{\"\".join(string)}\\'.')\r\n",
    "    #print(string)\r\n",
    "    #print(groups)"
   ],
   "outputs": [
    {
     "output_type": "stream",
     "name": "stdout",
     "text": [
      "The decrypted string is: 'Thirty days hath September, April, June and November, All the rest have Thirty-one except February alone which has Twenty-Eight days. But Twenty-Nine in each Leap Year.'.\n"
     ]
    }
   ],
   "metadata": {}
  },
  {
   "cell_type": "code",
   "execution_count": 19,
   "source": [
    "#24\r\n",
    "\"\"\"\r\n",
    "In calculus, the derivative of x^4 is 4x^3. The derivative of x^5 is 5x^4. The derivative of x^6 is 6x^5. This pattern \r\n",
    "continues. Write a program that asks the user for input like x^3 or x^25 and prints the derivative. For example, if the user \r\n",
    "enters x^3 the program should print out 3x^2.\r\n",
    "\"\"\"\r\n",
    "exp = input('Input an expression(e.g x^2): ')\r\n",
    "a = 0\r\n",
    "for i in range(len(exp)):\r\n",
    "    if exp[i] == 'x':\r\n",
    "        a = i\r\n",
    "if a == 0:\r\n",
    "    print(f'The derivative of {exp} is {int(exp[2:])}x^{int(exp[2:])-1}')\r\n",
    "else:\r\n",
    "    print(f'The derivative of {exp} is {int(exp[:a])*int(exp[a+2:])}x^{int(exp[a+2:])-1}')"
   ],
   "outputs": [
    {
     "output_type": "stream",
     "name": "stdout",
     "text": [
      "The derivative of x^12 is 12x^11\n"
     ]
    }
   ],
   "metadata": {}
  },
  {
   "cell_type": "code",
   "execution_count": 25,
   "source": [
    "#25\r\n",
    "\"\"\"\r\n",
    "In algebraic expressions, the symbol for multiplication is often left out, as in 3x+4y or 3(x+5).\r\n",
    "Computers prefer those expressions to include the multiplication symbol, like 3*x+4*y or\r\n",
    "3*(x+5). Write a program that asks the user for an algebraic expression and then inserts\r\n",
    "multiplication symbols where appropriate.\r\n",
    "\"\"\"\r\n"
   ],
   "outputs": [
    {
     "output_type": "stream",
     "name": "stdout",
     "text": [
      "9p+8u*p\n"
     ]
    }
   ],
   "metadata": {}
  }
 ],
 "metadata": {
  "interpreter": {
   "hash": "ac59ebe37160ed0dfa835113d9b8498d9f09ceb179beaac4002f036b9467c963"
  },
  "kernelspec": {
   "name": "python3",
   "display_name": "Python 3.9.6 64-bit"
  },
  "language_info": {
   "codemirror_mode": {
    "name": "ipython",
    "version": 3
   },
   "file_extension": ".py",
   "mimetype": "text/x-python",
   "name": "python",
   "nbconvert_exporter": "python",
   "pygments_lexer": "ipython3",
   "version": "3.9.6"
  }
 },
 "nbformat": 4,
 "nbformat_minor": 5
}