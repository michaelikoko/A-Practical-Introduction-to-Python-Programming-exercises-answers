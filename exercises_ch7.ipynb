{
 "cells": [
  {
   "cell_type": "code",
   "execution_count": 1,
   "metadata": {},
   "outputs": [
    {
     "name": "stdout",
     "output_type": "stream",
     "text": [
      "There is a non integer in the list.\n",
      "[]\n"
     ]
    }
   ],
   "source": [
    "#I\n",
    "\"\"\"\n",
    "The function below asks the user to input a list of integers\n",
    "\"\"\"\n",
    "def userInputList(userInput):\n",
    "    splitedUserInput = []\n",
    "    userInputList.userList = []\n",
    "    splitedUserInput = userInput.split(',')\n",
    "    try:\n",
    "        for i in splitedUserInput:\n",
    "            item = int(i)\n",
    "            userInputList.userList.append(item)\n",
    "    except:\n",
    "        print('There is a non integer in the list.')\n",
    "        quit()\n",
    "    return userInputList.userList\n",
    "\n",
    "userInputList(input(':')) #To call the function\n",
    "print(userInputList.userList) #To access the user's inputed list"
   ]
  },
  {
   "cell_type": "code",
   "execution_count": 4,
   "metadata": {},
   "outputs": [
    {
     "name": "stdout",
     "output_type": "stream",
     "text": [
      "(a)The total number of items in the list: 9.\n",
      "(b)The last item in the list: 1.\n",
      "(c)The list in reverse order is: [1, 2, 3, 4, 5, 6, 7, 8, 9].\n",
      "(d)The list contains a 5.\n",
      "(e)The number of fives: 1.\n",
      "(f)[2, 3, 4, 5, 6, 7, 8]\n",
      "(g)The number of integers less than 5: 4.\n",
      "\n"
     ]
    }
   ],
   "source": [
    "#1\n",
    "\"\"\"\n",
    "Write a program that asks the user to enter a list of integers. Do the following:\n",
    "(a) Print the total number of items in the list.\n",
    "(b) Print the last item in the list.\n",
    "(c) Print the list in reverse order.\n",
    "(d) Print Yes if the list contains a 5 and No otherwise.\n",
    "(e) Print the number of fives in the list.\n",
    "(f) Remove the first and last items from the list, sort the remaining items, and print the\n",
    "result.\n",
    "(g) Print how many integers in the list are less than 5.\n",
    "\"\"\"\n",
    "userInputList(input('Input a list of numbers seperated by a comma \",\"'))\n",
    "flag = 0\n",
    "count = 0\n",
    "if 5 in userInputList.userList:\n",
    "    d = 'The list contains a 5.'\n",
    "    e = userInputList.userList.count(5)\n",
    "else:\n",
    "    d = 'The list does not contain a 5.'\n",
    "for i in userInputList.userList:\n",
    "    if i < 5:\n",
    "        count += 1\n",
    "f = userInputList.userList[1:-1]\n",
    "f.sort()\n",
    "print(f'''(a)The total number of items in the list: {len(userInputList.userList)}.\n",
    "(b)The last item in the list: {userInputList.userList[-1]}.\n",
    "(c)The list in reverse order is: {userInputList.userList[::-1]}.\n",
    "(d){d}\n",
    "(e)The number of fives: {e}.\n",
    "(f){f}\n",
    "(g)The number of integers less than 5: {count}.\n",
    "''')"
   ]
  },
  {
   "cell_type": "code",
   "execution_count": 5,
   "metadata": {},
   "outputs": [
    {
     "name": "stdout",
     "output_type": "stream",
     "text": [
      "(a)The list is: [4, 6, 6, 8, 18, 20, 23, 27, 29, 29, 33, 34, 34, 45, 52, 65, 67, 73, 75, 94].\n",
      "(b)The average of the elements in the list is 37.1.\n",
      "(c)The largest value is: 94. The smallest value is: 4.\n",
      "(d)The second largest value is: 75. The second smallest value is 6.\n",
      "(e)They are 10 even numbers in the list.\n"
     ]
    }
   ],
   "source": [
    "#2\n",
    "\"\"\"\n",
    "Write a program that generates a list of 20 random numbers between 1 and 100.\n",
    "(a) Print the list.\n",
    "(b) Print the average of the elements in the list.\n",
    "(c) Print the largest and smallest values in the list.\n",
    "(d) Print the second largest and second smallest entries in the list\n",
    "(e) Print how many even numbers are in the list.\n",
    "\"\"\"\n",
    "from random import randint\n",
    "randomList = []\n",
    "countEvenNum = 0\n",
    "for i in range(20):\n",
    "    x = randint(1, 100)\n",
    "    if x % 2 == 0:\n",
    "        countEvenNum += 1\n",
    "    randomList.append(x)\n",
    "randomList.sort()\n",
    "secondLargestNum = randomList[0]\n",
    "secondSmallestNum = randomList[-1]\n",
    "for i in randomList:\n",
    "    if i > secondLargestNum and i < max(randomList):\n",
    "        secondLargestNum = i\n",
    "    if i < secondSmallestNum and i > min(randomList):\n",
    "        secondSmallestNum = i\n",
    "print(f'''(a)The list is: {randomList}.\n",
    "(b)The average of the elements in the list is {sum(randomList)/len(randomList)}.\n",
    "(c)The largest value is: {max(randomList)}. The smallest value is: {min(randomList)}.\n",
    "(d)The second largest value is: {secondLargestNum}. The second smallest value is {secondSmallestNum}.\n",
    "(e)They are {countEvenNum} even numbers in the list.''')"
   ]
  },
  {
   "cell_type": "code",
   "execution_count": 37,
   "metadata": {},
   "outputs": [
    {
     "name": "stdout",
     "output_type": "stream",
     "text": [
      "True\n"
     ]
    }
   ],
   "source": [
    "#3\n",
    "\"\"\"\n",
    "Start with the list [8,9,10]. Do the following:\n",
    "(a) Set the second entry (index 1) to 17\n",
    "(b) Add 4, 5, and 6 to the end of the list\n",
    "(c) Remove the first entry from the list\n",
    "(d) Sort the list\n",
    "(e) Double the list\n",
    "(f) Insert 25 at index 3\n",
    "The final list should equal [4,5,6,25,10,17,4,5,6,10,17]\n",
    "\"\"\"\n",
    "theList = [8, 9, 10]\n",
    "finalList = [4, 5, 6, 25, 10, 17, 4, 5, 6, 10, 17]\n",
    "#(a)\n",
    "theList[1] = 17\n",
    "#(b)\n",
    "for i in [4, 5, 6]:\n",
    "    theList.append(i)\n",
    "#(c)\n",
    "del theList[0]\n",
    "#(d)\n",
    "theList.sort()\n",
    "#(e)\n",
    "theList = theList*2\n",
    "#(f)\n",
    "theList.insert(3, 25)\n",
    "if theList == finalList:\n",
    "    print(True)\n",
    "else:\n",
    "    print(False)"
   ]
  },
  {
   "cell_type": "code",
   "execution_count": 6,
   "metadata": {},
   "outputs": [
    {
     "name": "stdout",
     "output_type": "stream",
     "text": [
      "[1, 3, 5, 10, 10, 10]\n"
     ]
    }
   ],
   "source": [
    "#4\n",
    "\"\"\"\n",
    "Ask the user to enter a list containing numbers between 1 and 12. Then replace all of the\n",
    "entries in the list that are greater than 10 with 10.\n",
    "\"\"\"\n",
    "userInputList(input('Input a list of numbers between 1 and 12. Each number should be separated by a comma \",\": '))\n",
    "newList = userInputList.userList\n",
    "flag = 0\n",
    "for i in  range(len(newList)):\n",
    "    if newList[i] > 12:\n",
    "        flag = 1\n",
    "        break\n",
    "    if newList[i] > 10:\n",
    "        newList[i] = 10\n",
    "\n",
    "if flag == 1:\n",
    "    print('An item in the list in greater than 12')\n",
    "    quit()\n",
    "else:      \n",
    "    print(newList)\n"
   ]
  },
  {
   "cell_type": "code",
   "execution_count": 6,
   "metadata": {},
   "outputs": [
    {
     "name": "stdout",
     "output_type": "stream",
     "text": [
      "['oy', 'irl', 'og', 'ouse', 'at', 'heese']\n"
     ]
    }
   ],
   "source": [
    "#5\n",
    "\"\"\"\n",
    "Ask the user to enter a list of strings. Create a new list that consists of those strings with their\n",
    "first characters removed.\n",
    "\"\"\"\n",
    "strList = []\n",
    "newStrList = []\n",
    "userInput = input('Input a list of strings seperated by a comma \",\": ')\n",
    "strList = userInput.split(',')\n",
    "a = None\n",
    "for i in strList:\n",
    "    a = i.strip()\n",
    "    newStrList.append(a[1:])\n",
    "print(newStrList)"
   ]
  },
  {
   "cell_type": "code",
   "execution_count": 22,
   "metadata": {},
   "outputs": [
    {
     "name": "stdout",
     "output_type": "stream",
     "text": [
      "(a)A list consisting of integers 0 through 45: [0, 1, 2, 3, 4, 5, 6, 7, 8, 9, 10, 11, 12, 13, 14, 15, 16, 17, 18, 19, 20, 21, 22, 23, 24, 25, 26, 27, 28, 29, 30, 31, 32, 33, 34, 35, 36, 37, 38, 39, 40, 41, 42, 43, 44, 45, 46, 47, 48, 49].\n",
      "(b)A list containing the squares of integers 1 through 50: [1, 4, 9, 16, 25, 36, 49, 64, 81, 100, 121, 144, 169, 196, 225, 256, 289, 324, 361, 400, 441, 484, 529, 576, 625, 676, 729, 784, 841, 900, 961, 1024, 1089, 1156, 1225, 1296, 1369, 1444, 1521, 1600, 1681, 1764, 1849, 1936, 2025, 2116, 2209, 2304, 2401, 2500].\n",
      "(c)['a', 'bb', 'ccc', 'dddd', 'eeeee', 'ffffff', 'ggggggg', 'hhhhhhhh', 'iiiiiiiii', 'jjjjjjjjjj', 'kkkkkkkkkkk', 'llllllllllll', 'mmmmmmmmmmmmm', 'nnnnnnnnnnnnnn', 'ooooooooooooooo', 'pppppppppppppppp', 'qqqqqqqqqqqqqqqqq', 'rrrrrrrrrrrrrrrrrr', 'sssssssssssssssssss', 'tttttttttttttttttttt', 'uuuuuuuuuuuuuuuuuuuuu', 'vvvvvvvvvvvvvvvvvvvvvv', 'wwwwwwwwwwwwwwwwwwwwwww', 'xxxxxxxxxxxxxxxxxxxxxxxx', 'yyyyyyyyyyyyyyyyyyyyyyyyy', 'zzzzzzzzzzzzzzzzzzzzzzzzzz']\n"
     ]
    }
   ],
   "source": [
    "#6\n",
    "\"\"\"\n",
    "Create the following lists using a for loop.\n",
    "(a) A list consisting of the integers 0 through 49\n",
    "(b) A list containing the squares of the integers 1 through 50.\n",
    "(c) The list ['a','bb','ccc','dddd', . . . ] that ends with 26 copies of the letter z.\n",
    "\"\"\"\n",
    "#(a)\n",
    "listInt = []\n",
    "listSqr = []\n",
    "listAlp = []\n",
    "alphabet = 'abcdefghijklmnopqrstuvwxyz'\n",
    "for i in range(50):\n",
    "    listInt.append(i)\n",
    "print(f'(a)A list consisting of integers 0 through 45: {listInt}.')\n",
    "#(b)\n",
    "for i in range(1,51):\n",
    "    listSqr.append(i**2)\n",
    "print(f'(b)A list containing the squares of integers 1 through 50: {listSqr}.')\n",
    "#(c)\n",
    "for i in range(len(alphabet)):\n",
    "    listAlp.append(alphabet[i]*(i+1))\n",
    "print(f'(c){listAlp}')"
   ]
  },
  {
   "cell_type": "code",
   "execution_count": 7,
   "metadata": {},
   "outputs": [
    {
     "name": "stdout",
     "output_type": "stream",
     "text": [
      "list(1): [3, 1, 4]\n",
      "list(2): [1, 5, 9]\n",
      "New list: [4, 6, 13]\n"
     ]
    }
   ],
   "source": [
    "#7\n",
    "\"\"\"\n",
    "Write a program that takes any two lists L and M of the same size and adds their elements\n",
    "together to form a new list N whose elements are sums of the corresponding elements in L\n",
    "and M. For instance, if L=[3,1,4] and M=[1,5,9], then N should equal [4,6,13].\n",
    "\"\"\"\n",
    "userInputList(input('Input two list of equal sizes. \\nInput list(1): '))\n",
    "firstList = userInputList.userList\n",
    "userInputList(input('Input list(2): '))\n",
    "secondList = userInputList.userList\n",
    "newList = []\n",
    "if len(firstList) == len(secondList):\n",
    "    for i in range(len(firstList)):\n",
    "        newList.append(firstList[i] + secondList[i])\n",
    "    print(f'''list(1): {firstList}\n",
    "list(2): {secondList}\n",
    "New list: {newList}''')\n",
    "else:\n",
    "    print('The two lists are not equal in sizes.')"
   ]
  },
  {
   "cell_type": "code",
   "execution_count": 1,
   "metadata": {},
   "outputs": [
    {
     "name": "stdout",
     "output_type": "stream",
     "text": [
      "The list of the factors of the integer 30, is: [1, 2, 3, 5, 6, 10, 15, 30]\n"
     ]
    }
   ],
   "source": [
    "#8\n",
    "\"\"\"\n",
    "Write a program that asks the user for an integer and creates a list that consists of the factors\n",
    "of that integer\n",
    "\"\"\"\n",
    "try:    \n",
    "    userInt = int(input('Input an integer: '))\n",
    "except:\n",
    "    print('The value inputed is not an integer.')\n",
    "    quit()\n",
    "intFactorsList = list()\n",
    "for i in range(1, userInt+1):\n",
    "    if userInt % i == 0:\n",
    "        intFactorsList.append(i)\n",
    "print(f'The list of the factors of the integer {userInt}, is: {intFactorsList}')"
   ]
  },
  {
   "cell_type": "code",
   "execution_count": 70,
   "metadata": {},
   "outputs": [
    {
     "name": "stdout",
     "output_type": "stream",
     "text": [
      "Possible Outcomes\tPercentage Probability\n",
      "    2\t                 3.06%\n",
      "    3\t                 5.85%\n",
      "    4\t                 8.78%\n",
      "    5\t                 10.91%\n",
      "    6\t                 13.88%\n",
      "    7\t                 16.52%\n",
      "    8\t                 13.44%\n",
      "    9\t                 11.0%\n",
      "    10\t                 7.99%\n",
      "    11\t                 5.71%\n",
      "    12\t                 2.86%\n"
     ]
    }
   ],
   "source": [
    "#9\n",
    "\"\"\"\n",
    "When playing games where you have to roll two dice, it is nice to know the odds of each\n",
    "roll. For instance, the odds of rolling a 12 are about 3%, and the odds of rolling a 7 are about\n",
    "17%. You can compute these mathematically, but if you don’t know the math, you can write\n",
    "a program to do it. To do this, your program should simulate rolling two dice about 10,000\n",
    "times and compute and print out the percentage of rolls that come out to be 2, 3, 4, . . . , 12.\n",
    "\"\"\"\n",
    "from random import *\n",
    "possOutcomes = [2, 3, 4, 5, 6, 7, 8, 9, 10, 11, 12]\n",
    "prob = [0, 0, 0, 0, 0, 0, 0, 0, 0, 0, 0]\n",
    "a = 0\n",
    "for i in range(10000):\n",
    "    dieOne = randint(1,6)\n",
    "    dieTwo = randint(1,6)\n",
    "    sumDice = dieOne + dieTwo\n",
    "    #print(sumDice)\n",
    "    for j in range(len(possOutcomes)):\n",
    "        if sumDice == possOutcomes[j]:\n",
    "            prob[j] += 1\n",
    "#print(prob)\n",
    "for k in range(len(prob)):\n",
    "    a = round(((prob[k]/10000)*100), 4)\n",
    "    prob[k] = a\n",
    "#print(prob)\n",
    "print('Possible Outcomes\\tPercentage Probability')\n",
    "for i in range(len(prob)):\n",
    "    print(f'    {possOutcomes[i]}\\t                 {prob[i]}%')\n",
    "    \n"
   ]
  },
  {
   "cell_type": "code",
   "execution_count": 6,
   "metadata": {},
   "outputs": [
    {
     "name": "stdout",
     "output_type": "stream",
     "text": [
      "Initial string: ['boy', ' girl', ' cat', ' dog', ' mouse', ' cheese']\n",
      "Rotated string: [' cheese', 'boy', ' girl', ' cat', ' dog', ' mouse']\n"
     ]
    }
   ],
   "source": [
    "#10\n",
    "\"\"\"\n",
    "Write a program that rotates the elements of a list so that the element at the first index moves\n",
    "to the second index, the element in the second index moves to the third index, etc., and the\n",
    "element in the last index moves to the first index.\n",
    "\"\"\"\n",
    "userStr = []\n",
    "inputStr = input('Input a list of strings seperated by a comma \",\": ')\n",
    "userStr = inputStr.split(',')\n",
    "print('Initial string:',userStr)\n",
    "newList = list()\n",
    "newList.append(userStr[-1])\n",
    "for i in range(len(userStr)-1):\n",
    "    newList.append(userStr[i])\n",
    "print('Rotated string:',newList)"
   ]
  },
  {
   "cell_type": "code",
   "execution_count": 72,
   "metadata": {},
   "outputs": [
    {
     "name": "stdout",
     "output_type": "stream",
     "text": [
      "[1, 1, 0, 1, 0, 0, 1, 0, 0, 0, 1, 0, 0, 0, 0, 1, 0, 0, 0, 0, 0, 1, 0, 0, 0, 0, 0, 0, 1, 0, 0, 0, 0, 0, 0, 0, 1, 0, 0, 0, 0, 0, 0, 0, 0, 1, 0, 0, 0, 0, 0, 0, 0, 0, 0, 1, 0, 0, 0, 0, 0, 0, 0, 0, 0, 0, 1]\n"
     ]
    }
   ],
   "source": [
    "#11\n",
    "\"\"\"\n",
    "Using a for loop, create the list below, which consists of ones separated by increasingly many\n",
    "zeroes. The last two ones in the list should be separated by ten zeroes.\n",
    "[1,1,0,1,0,0,1,0,0,0,1,0,0,0,0,1,....]\n",
    "\"\"\"\n",
    "binList = [1, 1]\n",
    "for i in range(1, 11):\n",
    "    for k in range(i):\n",
    "        binList.append(0)\n",
    "    binList.append(1)\n",
    "print(binList)"
   ]
  },
  {
   "cell_type": "code",
   "execution_count": 73,
   "metadata": {},
   "outputs": [
    {
     "name": "stdout",
     "output_type": "stream",
     "text": [
      "[0, 1, 1, 1, 1, 0, 0, 1, 0, 1, 1, 0, 0, 1, 1, 0, 1, 1, 0, 0, 0, 0, 1, 0, 0, 0, 1, 0, 1, 0, 0, 1, 1, 0, 0, 0, 1, 1, 1, 0, 1, 0, 0, 1, 0, 0, 1, 0, 0, 1, 0, 1, 1, 1, 0, 1, 1, 1, 0, 0, 1, 0, 1, 1, 0, 0, 1, 1, 1, 1, 0, 1, 0, 0, 1, 0, 0, 0, 1, 0, 1, 1, 0, 0, 0, 1, 1, 1, 0, 1, 0, 0, 1, 0, 0, 0, 1, 1, 1, 0]\n",
      "The longest run of zeros in the list above is 4.\n"
     ]
    }
   ],
   "source": [
    "#12\n",
    "\"\"\"\n",
    "Write a program that generates 100 random integers that are either 0 or 1. Then find the\n",
    "longest run of zeros, the largest number of zeros in a row. For instance, the longest run of\n",
    "zeros in [1,0,1,1,0,0,0,0,1,0,0] is 4.\n",
    "\"\"\"\n",
    "from random import randint\n",
    "randBinList = list()\n",
    "count = 0\n",
    "longestRun = 0\n",
    "for i in range(100):\n",
    "    randBinList.append(randint(0,1))\n",
    "for i in range(len(randBinList)):\n",
    "    if randBinList[i] == 0 and (randBinList[i] == randBinList[i-1]):\n",
    "        count += 1\n",
    "        if count > longestRun:\n",
    "            longestRun = count\n",
    "    else:\n",
    "        count = 0\n",
    "print(randBinList)\n",
    "print(f'The longest run of zeros in the list above is {longestRun+1}.')"
   ]
  },
  {
   "cell_type": "code",
   "execution_count": 31,
   "metadata": {},
   "outputs": [
    {
     "name": "stdout",
     "output_type": "stream",
     "text": [
      "The list [1, 1, 2, 3, 4, 3, 0, 0] becomes [1, 2, 3, 4, 0].\n"
     ]
    }
   ],
   "source": [
    "#13\n",
    "\"\"\"\n",
    "Write a program that removes any repeated items from a list so that each item appears at most\n",
    "once. For instance, the list [1,1,2,3,4,3,0,0] would become [1,2,3,4,0].\n",
    "\"\"\"\n",
    "userInputList(input('Input a list of integers, with each number separated by a comma \",\":'))\n",
    "cloneList = userInputList.userList\n",
    "endList = list()\n",
    "for c in cloneList:\n",
    "    if c in userInputList.userList and c not in endList:\n",
    "        endList.append(c)\n",
    "print(f'The list {cloneList} becomes {endList}.')"
   ]
  },
  {
   "cell_type": "code",
   "execution_count": 1,
   "metadata": {},
   "outputs": [
    {
     "name": "stdout",
     "output_type": "stream",
     "text": [
      "50.0 feets is equal to 16.6667 yards.\n"
     ]
    }
   ],
   "source": [
    "#14\n",
    "\"\"\"\n",
    "Write a program that asks the user to enter a length in feet. The program should then give\n",
    "the user the option to convert from feet into inches, yards, miles, millimeters, centimeters,\n",
    "meters, or kilometers. Say if the user enters a 1, then the program converts to inches, if they\n",
    "enter a 2, then the program converts to yards, etc. While this can be done with if statements,\n",
    "it is much shorter with lists and it is also easier to add new conversions if you use lists.\n",
    "\"\"\"\n",
    "optionList = ['inches', 'yards', 'miles', 'millimeters', 'centimeters', 'meters', 'kilometers']\n",
    "try: \n",
    "    length = float(input('Input a length in feet: '))\n",
    "    unit = int(input('''1. Inches\\n2. Yards\\n3. Miles\\n4. Millimeters\\n5. Centimeters\\n6. Meters\\n7. Kilometers\n",
    "Input the unit you want it converted to: '''))\n",
    "except:\n",
    "    print('The value inputed is invalid.')\n",
    "    quit()\n",
    "lengthInDiffUnits = [length*12, length/3, length/5280, length*304.8, length*30.48, length*0.3048, length*0.0003048]\n",
    "if unit-1 > 6:\n",
    "    print('Invalid selection.')\n",
    "else:\n",
    "    print(f'{length} feets is equal to {round((lengthInDiffUnits[unit-1]),4)} {optionList[unit-1]}.')"
   ]
  },
  {
   "cell_type": "code",
   "execution_count": 9,
   "metadata": {},
   "outputs": [
    {
     "name": "stdout",
     "output_type": "stream",
     "text": [
      "['m', 'a', 'h', 'o', 'g', 'a', 'm', 'y'] ['mahogamy']\n"
     ]
    }
   ],
   "source": [
    "#15\n",
    "\"\"\"\n",
    "There is a provably unbreakable cipher called a one-time pad. The way it works is you shift\n",
    "each character of the message by a random amount between 1 and 26 characters, wrapping\n",
    "around the alphabet if necessary. For instance, if the current character is y and the shift is 5,\n",
    "then the new character is d. Each character gets its own shift, so there needs to be as many\n",
    "random shifts as there are characters in the message. As an example, suppose the user enters\n",
    "secret. The program should generate a random shift between 1 and 26 for each character.\n",
    "Suppose the randomly generated shifts are 1, 3, 2, 10, 8, and 2. The encrypted message would\n",
    "be thebmv.\n",
    "(a) Write a program that asks the user for a message and encrypts the message using the\n",
    "one-time pad. First convert the string to lowercase. Any spaces and punctuation in the\n",
    "string should be left unchanged. For example, Secret!!! becomes thebmv!!! using\n",
    "the shifts above.\n",
    "(b) Write a program to decrypt a string encrypted as above.\n",
    "The reason it is called a one-time-pad is that the list of random shifts should only be used once.\n",
    "It becomes easily breakable if the same random shifts are used for more than one message.\n",
    "Moreover, it is only provably unbreakable if the random numbers are truly random, and the\n",
    "numbers generated by randint are not truly random. For this problem, just use randint,\n",
    "but for cryptographically safe random numbers, see Section 22.8.\n",
    "\"\"\"\n",
    "\n"
   ]
  }
 ],
 "metadata": {
  "interpreter": {
   "hash": "ac59ebe37160ed0dfa835113d9b8498d9f09ceb179beaac4002f036b9467c963"
  },
  "kernelspec": {
   "display_name": "Python 3.9.6 64-bit",
   "name": "python3"
  },
  "language_info": {
   "codemirror_mode": {
    "name": "ipython",
    "version": 3
   },
   "file_extension": ".py",
   "mimetype": "text/x-python",
   "name": "python",
   "nbconvert_exporter": "python",
   "pygments_lexer": "ipython3",
   "version": "3.10.0"
  }
 },
 "nbformat": 4,
 "nbformat_minor": 5
}
