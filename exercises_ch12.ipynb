{
 "cells": [
  {
   "cell_type": "code",
   "execution_count": 1,
   "metadata": {},
   "outputs": [],
   "source": [
    "#1\n",
    "'''\n",
    "You are given a file called class_scores.txt, where each line of the file contains a oneword username and a test score separated \n",
    "by spaces, like below:.\n",
    "        GWashington 83\n",
    "        JAdams 86\n",
    "Write code that scans through the file, adds 5 points to each test score, and outputs the usernames and new test scores to a new \n",
    "file, scores2.txt.\n",
    "'''\n",
    "nameScores = list()\n",
    "with open('./class_scores.txt') as file:\n",
    "        file_lines = file.readlines()\n",
    "        for line in file_lines:\n",
    "                line = line.strip()\n",
    "                nameScores.append(line.split())\n",
    "with open('./scores2.txt', 'w') as file:\n",
    "        for n, s in nameScores:\n",
    "                a = int(s) + 5\n",
    "                file.write(f'{n}    {a}\\n')"
   ]
  },
  {
   "cell_type": "code",
   "execution_count": 2,
   "metadata": {},
   "outputs": [
    {
     "name": "stdout",
     "output_type": "stream",
     "text": [
      "3 students passed all three tests.\n"
     ]
    }
   ],
   "source": [
    "#2\n",
    "'''\n",
    "You are given a file called grades.txt, where each line of the file contains a one-word student username and three test scores \n",
    "separated by spaces, like below:.\n",
    "        GWashington 83 77 54\n",
    "        JAdams 86 69 90\n",
    "Write code that scans through the file and determines how many students passed all three\n",
    "tests.\n",
    "'''\n",
    "nameScores = []\n",
    "with open('./grades.txt') as file:\n",
    "        file_lines = file.readlines()\n",
    "        for line in file_lines:\n",
    "                line = line.strip()\n",
    "                nameScores.append(line.split())\n",
    "#print(nameScores)\n",
    "passed = [(n, s1, s2, s3) for n, s1, s2, s3 in nameScores if int(s1) > 50 and int(s2) > 50 and int(s3) > 50]\n",
    "print(f'{len(passed)} students passed all three tests.')\n"
   ]
  },
  {
   "cell_type": "code",
   "execution_count": 16,
   "metadata": {},
   "outputs": [
    {
     "name": "stdout",
     "output_type": "stream",
     "text": [
      "Jane Doe\n",
      "Bambi Lee\n",
      "Gumball W\n",
      "Darwin W\n",
      "Banana Joe\n",
      "Nicole W\n"
     ]
    }
   ],
   "source": [
    "#3\n",
    "'''\n",
    "You are given a file called logfile.txt that lists log-on and log-off times for users of a\n",
    "system. A typical line of the file looks like this:\n",
    "        Van Rossum, 14:22, 14:37\n",
    "Each line has three entries separated by commas: a username, a log-on time, and a log-off\n",
    "time. Times are given in 24-hour format. You may assume that all log-ons and log-offs occur\n",
    "within a single workday.\n",
    "Write a program that scans through the file and prints out all users who were online for at\n",
    "least an hour\n",
    "'''\n",
    "userInfo = []\n",
    "userTime = []\n",
    "with open('./logfile.txt') as file:\n",
    "        fileLines = file.readlines()\n",
    "        for line in fileLines:\n",
    "                line = line.strip()\n",
    "                userInfo.append(line.split(','))\n",
    "        #print(userInfo)\n",
    "for name, logOn, logOff in userInfo:\n",
    "        lOn = logOn.split(':')\n",
    "        lOff = logOff.split(':')\n",
    "        if int(lOff[1]) < int(lOn[1]):\n",
    "                diffM = (int(lOff[1])+60) - int(lOn[1])\n",
    "                diffH = (int(lOff[0])-1) - int(lOn[0])\n",
    "        elif int(lOff[1]) > int(lOn[1]):\n",
    "                diffM = int(lOff[1]) - int(lOn[1])\n",
    "                diffH = int(lOff[0]) - int(lOn[0])\n",
    "        userTime.append([name, diffH, diffM])\n",
    "#print(userTime)\n",
    "#print('The following users were online for at least an hour: ')\n",
    "for n, h, m in userTime:\n",
    "        if h >= 1:\n",
    "                print(n)"
   ]
  },
  {
   "cell_type": "code",
   "execution_count": 23,
   "metadata": {},
   "outputs": [],
   "source": [
    "#4\n",
    "'''\n",
    "You are given a file called students.txt. A typical line in the file looks like:\n",
    "        walter melon melon@email.msmary.edu 555-3141\n",
    "There is a name, an email address, and a phone number, each separated by tabs. Write a\n",
    "program that reads through the file line-by-line, and for each line, capitalizes the first letter\n",
    "of the first and last name and adds the area code 301 to the phone number. Your program\n",
    "should write this to a new file called students2.txt. Here is what the first line of the new\n",
    "file should look like:\n",
    "        Walter Melon melon@email.msmary.edu 301-555-3141\n",
    "'''\n",
    "with open('./students.txt') as file:\n",
    "        fileLines = file.readlines()\n",
    "with open('./students2.txt', 'w') as newFile:\n",
    "        for line in fileLines:\n",
    "                line = line.strip()\n",
    "                info = line.split()\n",
    "                info[0] = info[0].title(); info[1] = info[1].title(); info[3] =  '301-' + info[3]\n",
    "                newFile.write(f'{info[0]}    {info[1]}    {info[2]}   {info[3]}\\n')\n",
    "        "
   ]
  },
  {
   "cell_type": "code",
   "execution_count": 4,
   "metadata": {},
   "outputs": [
    {
     "name": "stdout",
     "output_type": "stream",
     "text": [
      "Names in the list that match the initials AC are: \n",
      "Ace Elvin Coulson\n"
     ]
    }
   ],
   "source": [
    "#5\n",
    "'''\n",
    "You are given a file namelist.txt that contains a bunch of names. Some of the names are\n",
    "a first name and a last name separated by spaces, like George Washington, while others have\n",
    "a middle name, like John Quincy Adams. There are no names consisting of just one word or\n",
    "more than three words. Write a program that asks the user to enter initials, like GW or JQA,\n",
    "and prints all the names that match those initials. Note that initials like JA should match both\n",
    "John Adams and John Quincy Adams.\n",
    "'''\n",
    "nameList = list()\n",
    "match = list()\n",
    "with open('./namelist.txt') as nameFile:\n",
    "    for name in nameFile:\n",
    "        name = name.strip()\n",
    "        nameList.append(name)\n",
    "#print(nameList)\n",
    "while True:\n",
    "    initials = input('Enter initials: ')\n",
    "    if len(initials) == 2 or len(initials) == 3:\n",
    "        break\n",
    "    else:\n",
    "        print('Initials should be 2 or 3 letters.')\n",
    "\n",
    "if len(initials) == 2:\n",
    "    for name in nameList:\n",
    "        firSur = name.split()\n",
    "        if firSur[0].startswith(initials[0].upper()) and firSur[-1].startswith(initials[1].upper()):\n",
    "            match.append(name)\n",
    "elif len(initials) == 3:\n",
    "    for name in nameList:\n",
    "        firMedSur = name.split()\n",
    "        if len(firMedSur) == 3:\n",
    "            if firMedSur[0].startswith(initials[0].upper()) and firMedSur[1].startswith(initials[1].upper()) and firMedSur[2].startswith(initials[2].upper()):\n",
    "                match.append(name)\n",
    "if len(match) == 0:\n",
    "    print(f'No name in the list matches the inputed initials \"{initials.upper()}\".')\n",
    "else:\n",
    "    print(f'Names in the list that match the initials {initials.upper()} are: ')\n",
    "    for name in match:\n",
    "        print(name)"
   ]
  },
  {
   "cell_type": "code",
   "execution_count": 3,
   "metadata": {},
   "outputs": [
    {
     "name": "stdout",
     "output_type": "stream",
     "text": [
      "The names are: \n",
      "Ace Elvin Coulson\n"
     ]
    }
   ],
   "source": [
    "#6\n",
    "'''\n",
    "You are given a file namelist.txt that contains a bunch of names. Print out all the names\n",
    "in the list in which the vowels a, e, i, o, and u appear in order (with repeats possible). The first\n",
    "vowel in the name must be a and after the first u, it is okay for there to be other vowels. An\n",
    "example is Ace Elvin Coulson.\n",
    "'''\n",
    "nameList = list()\n",
    "namesMatch = list()\n",
    "with open('./namelist.txt') as nameFile:\n",
    "    for name in nameFile:\n",
    "        name = name.strip()\n",
    "        nameList.append(name)\n",
    "#print(nameList)\n",
    "for name in nameList:\n",
    "    vowels = list()\n",
    "    for letter in name:\n",
    "        if letter.lower() in 'aeiou' and letter.lower() not in vowels:\n",
    "            vowels.append(letter.lower())\n",
    "    if vowels == ['a', 'e', 'i', 'o', 'u']:\n",
    "        namesMatch.append(name)\n",
    "if len(namesMatch) == 0:\n",
    "    print('No name in the list meets that condition.')\n",
    "else:\n",
    "    print('The names are: ')\n",
    "    for name in namesMatch:\n",
    "        print(name)\n"
   ]
  },
  {
   "cell_type": "code",
   "execution_count": null,
   "metadata": {},
   "outputs": [],
   "source": [
    "#7\n",
    "'''\n",
    "You are given a file called baseball.txt. A typical line of the file starts like below.\n",
    "        Ichiro Suzuki SEA 162 680 74 ...[more stats]\n",
    "Each entry is separated by a tab, \\t. The first entry is the player’s name and the second is\n",
    "their team. Following that are 16 statistics. Home runs are the seventh stat and stolen bases\n",
    "are the eleventh. Print out all the players who have at least 20 home runs and at least 20 stolen\n",
    "bases.\n",
    "'''"
   ]
  },
  {
   "cell_type": "code",
   "execution_count": null,
   "metadata": {},
   "outputs": [],
   "source": [
    "#8\n",
    "'''\n",
    "For this problem, use the file of NCAA basketball scores as described in Section 12.3.\n",
    "(a) Find the average of the points scored over all the games in the file.\n",
    "(b) Pick your favorite team and scan through the file to determine how many games they\n",
    "won and how many games they lost.\n",
    "(c) Find the team(s) that lost by 30 or more points the most times\n",
    "(d) Find all the teams that averaged at least 70 points a game\n",
    "(e) Find all the teams that had winning records but were collectively outscored by their\n",
    "opponents. A team is collectively outscored by their opponents if the total number of\n",
    "points the team scored over all their games is less than the total number of points their\n",
    "opponents scored in their games against the team.\n",
    "'''"
   ]
  },
  {
   "cell_type": "code",
   "execution_count": null,
   "metadata": {},
   "outputs": [],
   "source": [
    "#9\n",
    "'''\n",
    "Benford’s law states that in real data where the values are spread across several orders of\n",
    "magnitude, about 30% of the values will start with the number 1, whereas only about 4.6%\n",
    "of the values will start with the number 9. This is contrary to what we might expect, namely\n",
    "that values starting with 1 and 9 would be equally likely. Using the file expenses.txt which\n",
    "consists of a number of costs from an expense account, determine what percentage start with\n",
    "each of the digits 1 through 9. This technique is used by accountants to detect fraud.\n",
    "'''"
   ]
  },
  {
   "cell_type": "code",
   "execution_count": null,
   "metadata": {},
   "outputs": [],
   "source": [
    "#10\n",
    "'''\n",
    "Wordplay – Use the file wordlist.txt for this problem. Find the following:\n",
    "(a) All words ending in ime\n",
    "(b) All words whose second, third, and fourth letters are ave\n",
    "(c) How many words contain at least one of the letters r, s, t, l, n, e\n",
    "(d) The percentage of words that contain at least one of the letters r, s, t, l, n, e\n",
    "(e) All words with no vowels\n",
    "(f) All words that contain every vowel\n",
    "(g) Whether there are more ten-letter words or seven-letter words\n",
    "(h) The longest word in the list\n",
    "(i) All palindromes\n",
    "(j) All words that are words in reverse, like rat and tar.\n",
    "(k) Same as above, but only print one word out of each pair.\n",
    "(l) All words that contain double letters next each other like aardvark or book, excluding\n",
    "words that end in lly\n",
    "(m) All words that contain a q that isn’t followed by a u\n",
    "(n) All words that contain zu anywhere in the word\n",
    "(o) All words that contain ab in multiple places, like habitable\n",
    "(p) All words with four or more vowels in a row\n",
    "(q) All words that contain both a z and a w\n",
    "(r) All words whose first letter is a, third letter is e and fifth letter is i\n",
    "(s) All two-letter words\n",
    "(t) All four-letter words that start and end with the same letter\n",
    "(u) All words that contain at least nine vowels.\n",
    "(v) All words that contain each of the letters a, b, c, d, e, and f in any order. There may be\n",
    "other letters in the word. Two examples are backfield and feedback.\n",
    "(w) All words whose first four and last four letters are the same\n",
    "(x) All words of the form abcd*dcba, where * is arbitrarily long sequence of letters.\n",
    "(y) All groups of 5 words, like pat pet pit pot put, where each word is 3 letters, all words share\n",
    "the same first and last letters, and the middle letter runs through all 5 vowels.\n",
    "(z) The word that has the most i’s.\n",
    "'''"
   ]
  },
  {
   "cell_type": "code",
   "execution_count": null,
   "metadata": {},
   "outputs": [],
   "source": [
    "#11\n",
    "'''\n",
    "Write a program to help with word games. The user enters a word and the program uses the\n",
    "wordlist to determine if the user’s word is a real word or not.\n",
    "'''"
   ]
  },
  {
   "cell_type": "code",
   "execution_count": null,
   "metadata": {},
   "outputs": [],
   "source": [
    "#12\n",
    "'''\n",
    "Suppose we write all the words in the wordlist backwards and then arrange these backwards\n",
    "words alphabetically. Write a program that prints the last word in this modified wordlist.\n",
    "'''"
   ]
  },
  {
   "cell_type": "code",
   "execution_count": null,
   "metadata": {},
   "outputs": [],
   "source": [
    "#13\n",
    "'''\n",
    "Print out all combinations of the string 'Python' plus a three letter English word. Capitalize the first letter of the three letter \n",
    "word. Example combinations are 'PythonCat', 'PythonDog', and 'PythonTag'. These are valid combinations because cat, dog, and tag\n",
    "are English words. On the other hand, 'PythonQqz' would not be a valid combination because qqz is not an English word. Use a wordlist\n",
    "to determine which three letter combinations are words.\n",
    "'''"
   ]
  },
  {
   "cell_type": "code",
   "execution_count": null,
   "metadata": {},
   "outputs": [],
   "source": [
    "#14\n",
    "'''\n",
    "Write a simple spell-checking program. The user should enter a string and the program\n",
    "should print out a list of all the words it thinks are misspelled. These would be all the words\n",
    "it cannot find in a wordlist.\n",
    "'''"
   ]
  },
  {
   "cell_type": "code",
   "execution_count": null,
   "metadata": {},
   "outputs": [],
   "source": [
    "#15\n",
    "'''\n",
    "Crossword cheater: When working on a crossword puzzle, often you will have a word where\n",
    "you know several of the letters, but not all of them. You can write a computer program to\n",
    "help you. For the program, the user should be able to input a word with the letters they\n",
    "know filled in and asterisks for those they don’t know. The program should print out a list\n",
    "of all words that fit that description. For example, the input th***ly should return all the\n",
    "words that could work, namely thickly and thirdly.\n",
    "'''"
   ]
  },
  {
   "cell_type": "code",
   "execution_count": null,
   "metadata": {},
   "outputs": [],
   "source": [
    "#16\n",
    "'''\n",
    "Ask the user to enter several letters. Then find all the words that can be made with those letters, repeats allowed.\n",
    "'''"
   ]
  },
  {
   "cell_type": "code",
   "execution_count": null,
   "metadata": {},
   "outputs": [],
   "source": [
    "#17\n",
    "'''\n",
    "Using the wordlist, produce a dictionary whose keys are the letters a through z and whose\n",
    "values are the percentage of words that use that letter.\n",
    "'''"
   ]
  },
  {
   "cell_type": "code",
   "execution_count": null,
   "metadata": {},
   "outputs": [],
   "source": [
    "#18\n",
    "'''\n",
    "Using the wordlist, produce a dictionary whose keys are the letters a through z and whose\n",
    "values are the percentage of total letters in the wordlist that are that letter.\n",
    "'''"
   ]
  },
  {
   "cell_type": "code",
   "execution_count": null,
   "metadata": {},
   "outputs": [],
   "source": [
    "#19\n",
    "'''\n",
    "Write a program that asks the user for a word and finds all the smaller words that can be\n",
    "made from the letters of that word. The number of occurrences of a letter in a smaller word\n",
    "can’t exceed the number of occurrences of the letter in the user’s word.\n",
    "'''"
   ]
  },
  {
   "cell_type": "code",
   "execution_count": null,
   "metadata": {},
   "outputs": [],
   "source": [
    "#20\n",
    "'''\n",
    "(a) Write a program that reads a file consisting of email addresses, each on its own line.\n",
    "Your program should print out a string consisting of those email addresses separated by\n",
    "semicolons.\n",
    "(b) Write the same program as above, but the new string should contain only those email\n",
    "addresses that do not end in @prof.college.edu.\n",
    "'''"
   ]
  },
  {
   "cell_type": "code",
   "execution_count": null,
   "metadata": {},
   "outputs": [],
   "source": [
    "#21\n",
    "'''\n",
    "The file high_temperatures.txt contains the average high temperatures for each day of\n",
    "the year in a certain city. Each line of the file consists of the date, written in the month/day\n",
    "format, followed by a space and the average high temperature for that date. Find the 30-day\n",
    "period over which there is the biggest increase in the average high temperature.\n",
    "'''"
   ]
  },
  {
   "cell_type": "code",
   "execution_count": null,
   "metadata": {},
   "outputs": [],
   "source": [
    "#22\n",
    "'''\n",
    "In Chapter 6 there was an exercise about the game Mad Libs. It asked you to make up a story\n",
    "and leave out some words of the story. Your program should ask the user to enter some words\n",
    "and tell them what types of words to enter. Then print the full story along with the inserted\n",
    "words. Rewrite your program from that exercise to read the story from a file. Reading the\n",
    "story from a file allows people who do not know how to program to use their own stories\n",
    "with the program without having to change the code.\n",
    "'''"
   ]
  },
  {
   "cell_type": "code",
   "execution_count": null,
   "metadata": {},
   "outputs": [],
   "source": [
    "#23\n",
    "'''\n",
    "An acronym is an abbreviation that uses the first letter of each word in a phrase. We see them\n",
    "everywhere. For instance, NCAA for National Collegiate Athletic Association or NBC for\n",
    "National Broadcasting Company. Write a program where the user enters an acronym and the\n",
    "program randomly selects words from a wordlist such that the words would fit the acronym.\n",
    "Below is some typical output generated when I ran the program:\n",
    "        Enter acronym: ABC\n",
    "        ['addressed', 'better', 'common']\n",
    "        \n",
    "        Enter acronym: BRIAN\n",
    "        ['bank', 'regarding', 'intending', 'army', 'naive']\n",
    "'''"
   ]
  },
  {
   "cell_type": "code",
   "execution_count": null,
   "metadata": {},
   "outputs": [],
   "source": [
    "#24\n",
    "'''\n",
    "This problem is about a version of the game Jotto. The computer chooses a random five-letter\n",
    "word with no repeat letters. The player gets several turns to try to guess the computer’s\n",
    "word. On each turn, the player guesses a five-letter word and is told the number of letters\n",
    "that their guess has in common with the computer’s word.\n",
    "'''"
   ]
  },
  {
   "cell_type": "code",
   "execution_count": null,
   "metadata": {},
   "outputs": [],
   "source": [
    "#25\n",
    "'''\n",
    "The word part has the interesting property that if you remove its letters one by one, each\n",
    "resulting step is a real word. For instance, part → pat → pa → a. You may remove the letters in\n",
    "any order, and the last (single-letter) word needs to be a real word as well. Find all eight-letter\n",
    "words with this property.\n",
    "'''"
   ]
  },
  {
   "cell_type": "code",
   "execution_count": null,
   "metadata": {},
   "outputs": [],
   "source": [
    "#26\n",
    "'''\n",
    "Write a program to cheat at the game Scrabble. The user enters a string. Your program should\n",
    "return a list of all the words that can be created from those seven letters.\n",
    "'''"
   ]
  }
 ],
 "metadata": {
  "interpreter": {
   "hash": "ac59ebe37160ed0dfa835113d9b8498d9f09ceb179beaac4002f036b9467c963"
  },
  "kernelspec": {
   "display_name": "Python 3.9.6 64-bit",
   "name": "python3"
  },
  "language_info": {
   "codemirror_mode": {
    "name": "ipython",
    "version": 3
   },
   "file_extension": ".py",
   "mimetype": "text/x-python",
   "name": "python",
   "nbconvert_exporter": "python",
   "pygments_lexer": "ipython3",
   "version": "3.10.1"
  },
  "orig_nbformat": 4
 },
 "nbformat": 4,
 "nbformat_minor": 2
}
