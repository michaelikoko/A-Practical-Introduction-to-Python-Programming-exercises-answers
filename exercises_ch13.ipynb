{
 "cells": [
  {
   "cell_type": "code",
   "execution_count": 3,
   "source": [
    "#1\r\n",
    "'''\r\n",
    "Write a function called rectangle that takes two integers m and n as arguments and prints\r\n",
    "out an m × n box consisting of asterisks. Shown below is the output of rectangle(2,4)\r\n",
    "    ****\r\n",
    "    ****\r\n",
    "'''\r\n",
    "def rectangle(m, n):\r\n",
    "    for i in range(m):\r\n",
    "        print('*'*n)\r\n",
    "rectangle(int(input('Input no of rows: ')), int(input('Input no of columns: ')))"
   ],
   "outputs": [
    {
     "output_type": "stream",
     "name": "stdout",
     "text": [
      "****\n",
      "****\n"
     ]
    }
   ],
   "metadata": {}
  },
  {
   "cell_type": "code",
   "execution_count": 7,
   "source": [
    "#2(a)\r\n",
    "'''\r\n",
    "(a) Write a function called add_excitement that takes a list of strings and adds an exclamation point (!) to the end of each \r\n",
    "string in the list. The program should modify the original list and not return anything.\r\n",
    "(b) Write the same function except that it should not modify the original list and should\r\n",
    "instead return a new list.\r\n",
    "'''\r\n",
    "stringList = input('Input a list of strings (each string should be separated by a comma): ').split(','); print(stringList)\r\n",
    "def add_exictment(L):\r\n",
    "    for i in range(len(L)):\r\n",
    "        L[i] = L[i] + '!'\r\n",
    "add_exictment(stringList)\r\n",
    "print(stringList)"
   ],
   "outputs": [
    {
     "output_type": "stream",
     "name": "stdout",
     "text": [
      "['Goal', ' Hey', ' What']\n",
      "['Goal!', ' Hey!', ' What!']\n"
     ]
    }
   ],
   "metadata": {}
  },
  {
   "cell_type": "code",
   "execution_count": 11,
   "source": [
    "#3\r\n",
    "'''\r\n",
    "Write a function called sum_digits that is given an integer num and returns the sum of the\r\n",
    "digits of num.\r\n",
    "'''\r\n",
    "def sum_digits(num):\r\n",
    "    s = 0\r\n",
    "    for i in range(len(str(num))):\r\n",
    "        s += int(str(num)[i])\r\n",
    "    return s\r\n",
    "num = int(input('Input an integer: '))\r\n",
    "print(f'The sum of the digits of {num} is {sum_digits(num)}.')"
   ],
   "outputs": [
    {
     "output_type": "stream",
     "name": "stdout",
     "text": [
      "The sum of the digits of 52 is 7.\n"
     ]
    }
   ],
   "metadata": {}
  },
  {
   "cell_type": "code",
   "execution_count": 14,
   "source": [
    "#4\r\n",
    "'''\r\n",
    "The digital root of a number n is obtained as follows: Add up the digits n to get a new number.\r\n",
    "Add up the digits of that to get another new number. Keep doing this until you get a number\r\n",
    "that has only one digit. That number is the digital root.\r\n",
    "For example, if n = 45893, we add up the digits to get 4 + 5 + 8 + 9 + 3 = 29. We then add up\r\n",
    "the digits of 29 to get 2 + 9 = 11. We then add up the digits of 11 to get 1 + 1 = 2. Since 2 has\r\n",
    "only one digit, 2 is our digital root.\r\n",
    "Write a function that returns the digital root of an integer n. [Note: there is a shortcut, where\r\n",
    "the digital root is equal to n mod 9, but do not use that here.]\r\n",
    "'''\r\n",
    "def digitalRoot(num):\r\n",
    "    root = num\r\n",
    "    while len(str(root)) > 1:\r\n",
    "        s = 0\r\n",
    "        for i in range(len(str(root))):\r\n",
    "            s += int(str(root)[i])\r\n",
    "        root = s\r\n",
    "    return root\r\n",
    "num = int(input('Input an integer: '))\r\n",
    "print(f'The digital root of the integer {num} is {digitalRoot(num)}.')"
   ],
   "outputs": [
    {
     "output_type": "stream",
     "name": "stdout",
     "text": [
      "The digital root of the integer 888 is 6.\n"
     ]
    }
   ],
   "metadata": {}
  },
  {
   "cell_type": "code",
   "execution_count": 20,
   "source": [
    "#5\r\n",
    "'''\r\n",
    "Write a function called first_diff that is given two strings and returns the first location in\r\n",
    "which the strings differ. If the strings are identical, it should return -1.\r\n",
    "'''\r\n",
    "def first_diff(string1, string2):\r\n",
    "    l = [len(string1), len(string2)]\r\n",
    "    l.sort()\r\n",
    "    first_lo = 0\r\n",
    "    for i in range(l[0]):\r\n",
    "        if string1[i].lower() != string2[i].lower():\r\n",
    "            first_lo = i\r\n",
    "            break\r\n",
    "    else:\r\n",
    "        first_lo = -1\r\n",
    "    return first_lo\r\n",
    "strings = [input(f'Input string {i+1}: ') for i in range(2)]\r\n",
    "print(f'The first location in which the strings differ is {first_diff(strings[0], strings[1])}')\r\n"
   ],
   "outputs": [
    {
     "output_type": "stream",
     "name": "stdout",
     "text": [
      "The first location in which the strings differ is 3\n"
     ]
    }
   ],
   "metadata": {}
  },
  {
   "cell_type": "code",
   "execution_count": 23,
   "source": [
    "#6\r\n",
    "'''\r\n",
    "Write a function called binom that takes two integers n and k and returns the binomial coefficient\r\n",
    "(n k). The definition is (n k) = n!/(k!(n−k)!)\r\n",
    "'''\r\n",
    "import math\r\n",
    "def binom(n, k):\r\n",
    "    binomCo = math.factorial(n)/(math.factorial(k)*math.factorial((n-k)))\r\n",
    "    return binomCo\r\n",
    "n = int(input('Input the first integer: ')); k = int(input('Input the second integer: '))\r\n",
    "print(f'The binomial coefficient of the two integers {n}, {k} is {binom(n, k)}.')"
   ],
   "outputs": [
    {
     "output_type": "stream",
     "name": "stdout",
     "text": [
      "The binomial coefficient of the two integers 14, 11 is 364.0.\n"
     ]
    }
   ],
   "metadata": {}
  },
  {
   "cell_type": "code",
   "execution_count": 31,
   "source": [
    "#7\r\n",
    "'''\r\n",
    "Write a function that takes an integer n and returns a random integer with exactly n digits. For\r\n",
    "instance, if n is 3, then 125 and 593 would be valid return values, but 093 would not because\r\n",
    "that is really 93, which is a two-digit number.\r\n",
    "'''\r\n",
    "import random\r\n",
    "def randInt(num):\r\n",
    "    n = ''\r\n",
    "    for i in range(len(str(num))):\r\n",
    "        if i == 0: \r\n",
    "            r = random.randint(1,9)\r\n",
    "        else:\r\n",
    "            r = random.randint(0,9)\r\n",
    "        n += str(r)\r\n",
    "    return n\r\n",
    "print(randInt(int(input('Input an integer: '))))"
   ],
   "outputs": [
    {
     "output_type": "stream",
     "name": "stdout",
     "text": [
      "34551\n"
     ]
    }
   ],
   "metadata": {}
  },
  {
   "cell_type": "code",
   "execution_count": 32,
   "source": [
    "#8\r\n",
    "'''\r\n",
    "Write a function called number_of_factors that takes an integer and returns how many\r\n",
    "factors the number has.\r\n",
    "'''\r\n",
    "def number_of_factors(num):\r\n",
    "    count = 0\r\n",
    "    for i in range(1, num+1):\r\n",
    "        if num % i == 0:\r\n",
    "            count += 1\r\n",
    "    return count\r\n",
    "num = int(input('Input an integer: '))\r\n",
    "print(f'The number {num} has {number_of_factors(num)} integers.')"
   ],
   "outputs": [
    {
     "output_type": "stream",
     "name": "stdout",
     "text": [
      "The number 30 has 8 integers.\n"
     ]
    }
   ],
   "metadata": {}
  },
  {
   "cell_type": "code",
   "execution_count": 36,
   "source": [
    "#9\r\n",
    "'''\r\n",
    "Write a function called factors that takes an integer and returns a list of its factor.\r\n",
    "'''\r\n",
    "def factors(num):\r\n",
    "    factorList = [i for i in range(1, num+1) if num % i == 0]\r\n",
    "    return factorList\r\n",
    "num = int(input('Input an integer: '))\r\n",
    "print(f'List of factors of the number {num}:\\n{factors(num)}.')"
   ],
   "outputs": [
    {
     "output_type": "stream",
     "name": "stdout",
     "text": [
      "List of factors of the number 30:\n",
      "[1, 2, 3, 5, 6, 10, 15, 30].\n"
     ]
    }
   ],
   "metadata": {}
  },
  {
   "cell_type": "code",
   "execution_count": 37,
   "source": [
    "#10\r\n",
    "'''\r\n",
    "Write a function called closest that takes a list of numbers L and a number n and returns\r\n",
    "the largest element in L that is not larger than n. For instance, if L=[1,6,3,9,11] and n=8,\r\n",
    "then the function should return 6, because 6 is the closest thing in L to 8 that is not larger than\r\n",
    "8. Don’t worry about if all of the things in L are smaller than n.\r\n",
    "'''\r\n",
    "def closest(L, n):\r\n",
    "    closN = [n for n in L if n < 8]\r\n",
    "    return max(closN)\r\n",
    "numList = input('Input a list of numbers separated by a space: ').split()\r\n",
    "n = int(input('Input an integer n: '))\r\n",
    "L = [int(i) for i in numList]\r\n",
    "print(closest(L, n))"
   ],
   "outputs": [
    {
     "output_type": "stream",
     "name": "stdout",
     "text": [
      "6\n"
     ]
    }
   ],
   "metadata": {}
  },
  {
   "cell_type": "code",
   "execution_count": 43,
   "source": [
    "#11\r\n",
    "'''\r\n",
    "Write a function called matches that takes two strings as arguments and returns how many\r\n",
    "matches there are between the strings. A match is where the two strings have the same character at the same index. For instance\r\n",
    "'python' and 'path' match in the first, third, and fourth characters, so the function should return 3.\r\n",
    "'''\r\n",
    "def matches(s1, s2):\r\n",
    "    count = 0\r\n",
    "    for i in range(min([len(s1), len(s2)])):\r\n",
    "        if s1[i].lower() == s2[i].lower():\r\n",
    "            count += 1\r\n",
    "    return count\r\n",
    "strings = input('Input two strings seperated by a space: ').split(' ')\r\n",
    "print(f'The strings {strings[0]} and {strings[1]} have {matches(strings[0], strings[1])} matches.')"
   ],
   "outputs": [
    {
     "output_type": "stream",
     "name": "stdout",
     "text": [
      "The strings python and path have 3 matches.\n"
     ]
    }
   ],
   "metadata": {}
  },
  {
   "cell_type": "code",
   "execution_count": 45,
   "source": [
    "#12\r\n",
    "'''\r\n",
    "Recall that if s is a string, then s.find('a') will find the location of the first a in s. The\r\n",
    "problem is that it does not find the location of every a. Write a function called findall that\r\n",
    "given a string and a single character, returns a list containing all of the locations of that character in the string. It should \r\n",
    "return an empty list if there are no occurrences of the character in the string.\r\n",
    "'''\r\n",
    "def findall(s, a):\r\n",
    "    indexList = [i for i in range(len(s)) if s[i] == a]\r\n",
    "    return indexList\r\n",
    "findall(input('Input a string: '), input('Input a single character: '))"
   ],
   "outputs": [
    {
     "output_type": "execute_result",
     "data": {
      "text/plain": [
       "[]"
      ]
     },
     "metadata": {},
     "execution_count": 45
    }
   ],
   "metadata": {}
  },
  {
   "cell_type": "code",
   "execution_count": 47,
   "source": [
    "#13\r\n",
    "'''\r\n",
    "Write a function called change_case that given a string, returns a string with each upper\r\n",
    "case letter replaced by a lower case letter and vice-versa.\r\n",
    "'''\r\n",
    "def change_case(s):\r\n",
    "    letters = list(s)\r\n",
    "    for i in range(len(letters)):\r\n",
    "        if letters[i].islower():\r\n",
    "            letters[i] = letters[i].upper()\r\n",
    "        elif letters[i].isupper():\r\n",
    "            letters[i] = letters[i].lower()\r\n",
    "    return letters\r\n",
    "print(''.join(change_case(input('Input a string: '))))"
   ],
   "outputs": [
    {
     "output_type": "stream",
     "name": "stdout",
     "text": [
      "sInGiNg\n"
     ]
    }
   ],
   "metadata": {}
  },
  {
   "cell_type": "code",
   "execution_count": 52,
   "source": [
    "#14\r\n",
    "'''\r\n",
    "Write a function called is_sorted that is given a list and returns True if the list is sorted\r\n",
    "and False otherwise.\r\n",
    "'''\r\n",
    "def is_sorted(L):\r\n",
    "    M = sorted(L)\r\n",
    "    if L == M:\r\n",
    "        return True\r\n",
    "    else:\r\n",
    "        return False\r\n",
    "theList = ['apple', 'ball', 'cap', 'dog', 'fish']\r\n",
    "is_sorted(theList)"
   ],
   "outputs": [
    {
     "output_type": "execute_result",
     "data": {
      "text/plain": [
       "True"
      ]
     },
     "metadata": {},
     "execution_count": 52
    }
   ],
   "metadata": {}
  },
  {
   "cell_type": "code",
   "execution_count": 77,
   "source": [
    "#15\r\n",
    "'''\r\n",
    "Write a function called root that is given a number x and an integer n and returns x^(1/n). In the function definition, set the \r\n",
    "default value of n to 2.\r\n",
    "'''\r\n",
    "def root(x, n=2):\r\n",
    "    r = x**(1/n)\r\n",
    "    return r\r\n",
    "#x = eval(input('Input a number x: ')); n = int(input('Input an integer n: '))\r\n",
    "print(root(16))"
   ],
   "outputs": [
    {
     "output_type": "stream",
     "name": "stdout",
     "text": [
      "4.0\n"
     ]
    }
   ],
   "metadata": {}
  },
  {
   "cell_type": "code",
   "execution_count": 62,
   "source": [
    "#16\r\n",
    "'''\r\n",
    "Write a function called one_away that takes two strings and returns True if the strings are of\r\n",
    "the same length and differ in exactly one letter, like bike/hike or water/wafer.\r\n",
    "'''\r\n",
    "def one_away(s1, s2):\r\n",
    "    count = 0\r\n",
    "    if len(s1) != len(s2):\r\n",
    "        return False\r\n",
    "    elif len(s1) == len(s2):\r\n",
    "        diff = [1 for i in range(len(s2)) if s1[i].lower() != s2[i].lower()]\r\n",
    "        if len(diff) == 1: return True \r\n",
    "        else: return False\r\n",
    "strings = input('Input two strings separated by a space: ').split()\r\n",
    "one_away(strings[0], strings[1])    "
   ],
   "outputs": [
    {
     "output_type": "execute_result",
     "data": {
      "text/plain": [
       "True"
      ]
     },
     "metadata": {},
     "execution_count": 62
    }
   ],
   "metadata": {}
  },
  {
   "cell_type": "code",
   "execution_count": 76,
   "source": [
    "#17(a)\r\n",
    "'''\r\n",
    "(a) Write a function called primes that is given a number n and returns a list of the first n\r\n",
    "primes. Let the default value of n be 100.\r\n",
    "(b) Modify the function above so that there is an optional argument called start that allows\r\n",
    "the list to start at a value other than 2. The function should return the first n primes that\r\n",
    "are greater than or equal to start. The default value of start should be 2.\r\n",
    "'''\r\n",
    "def primes(n=100):\r\n",
    "    i = 2; primeL = []\r\n",
    "    while len(primeL) < n:\r\n",
    "        for j in range(2, i):\r\n",
    "            if i % j == 0:\r\n",
    "                break\r\n",
    "        else:\r\n",
    "            primeL.append(i)\r\n",
    "        i += 1\r\n",
    "    return primeL\r\n",
    "print(primes(int(input('Input an integer n: '))))"
   ],
   "outputs": [
    {
     "output_type": "stream",
     "name": "stdout",
     "text": [
      "[2, 3, 5, 7, 11, 13, 17, 19, 23, 29, 31, 37]\n"
     ]
    }
   ],
   "metadata": {}
  },
  {
   "cell_type": "code",
   "execution_count": 96,
   "source": [
    "#18\r\n",
    "'''\r\n",
    "Our number system is called base 10 because we have ten digits: 0, 1, . . . , 9. Some cultures,\r\n",
    "including the Mayans and Celts, used a base 20 system. In one version of this system, the 20\r\n",
    "digits are represented by the letters A through T. Here is a table showing a few conversions:\r\n",
    "10 | 20     10 | 20     10 | 20     10  | 20\r\n",
    "0  | A      8  | I      16 | Q      39  | BT\r\n",
    "1  | B      9  | J      17 | R      40  | CA\r\n",
    "2  | C      10 | K      18 | S      41  | CB\r\n",
    "3  | D      11 | L      19 | T      60  | DA\r\n",
    "4  | E      12 | M      20 | BA     399 | TT\r\n",
    "5  | F      13 | N      21 | BB     400 | BAA\r\n",
    "6  | G      14 | O      22 | BC     401 | BAB\r\n",
    "7  | H      15 | P      23 | BD     402 | BAC\r\n",
    "Write a function called base20 that converts a base 10 number to base 20. It should return\r\n",
    "the result as a string of base 20 digits. One way to convert is to find the remainder when\r\n",
    "the number is divided by 20, then divide the number by 20, and repeat the process until the\r\n",
    "number is 0. The remainders are the base 20 digits in reverse order, though you have to\r\n",
    "convert them into their letter equivalents.\r\n",
    "'''\r\n",
    "def base20(num):\r\n",
    "    twenty = ['A', 'B', 'C', 'D', 'E', 'F', 'G', 'H', 'I', 'J', 'K', 'L', 'M', 'N', 'O', 'P', 'Q', 'R', 'S', 'T']\r\n",
    "    rem = [num%20]\r\n",
    "    n = num\r\n",
    "    while n // 20 != 0:\r\n",
    "        n = n//20\r\n",
    "        rem.append(n % 20)\r\n",
    "    rem.reverse()\r\n",
    "    num20 = ''.join([twenty[r] for r in rem])\r\n",
    "    return num20\r\n",
    "num = int(input('Input base 10 integer to be converted to base 20: '))\r\n",
    "print(f'{num} in base 10 is equal to {base20(num)} in base 20.')\r\n"
   ],
   "outputs": [
    {
     "output_type": "stream",
     "name": "stdout",
     "text": [
      "399 in base 10 is equal to TT in base 20.\n"
     ]
    }
   ],
   "metadata": {}
  },
  {
   "cell_type": "code",
   "execution_count": null,
   "source": [
    "#19\r\n",
    "'''\r\n",
    "Write a function called verbose that, given an integer less than 1015, returns the name of\r\n",
    "the integer in English. As an example, verbose(123456) should return one hundred\r\n",
    "twenty-three thousand, four hundred fifty-six.\r\n",
    "'''"
   ],
   "outputs": [],
   "metadata": {}
  },
  {
   "cell_type": "code",
   "execution_count": 99,
   "source": [
    "#20\r\n",
    "'''\r\n",
    "Write a function called merge that takes two already sorted lists of possibly different lengths,\r\n",
    "and merges them into a single sorted list.\r\n",
    "(a) Do this using the sort method.\r\n",
    "(b) Do this without using the sort method.\r\n",
    "'''\r\n",
    "def mergeA(L1, L2):\r\n",
    "    M = L1 + L2; M.sort()\r\n",
    "    return M\r\n",
    "def mergeB(L1, L2):\r\n",
    "    M = L1 + L2\r\n",
    "    return sorted(M)\r\n",
    "L1 = ['a', 's' , 'z']; L2 = ['c', 'p', 'w']\r\n",
    "print(mergeA(L1, L2))\r\n",
    "print(mergeB(L1, L2))\r\n"
   ],
   "outputs": [
    {
     "output_type": "stream",
     "name": "stdout",
     "text": [
      "['a', 'c', 'p', 's', 'w', 'z']\n",
      "['a', 'c', 'p', 's', 'w', 'z']\n"
     ]
    }
   ],
   "metadata": {}
  },
  {
   "cell_type": "code",
   "execution_count": null,
   "source": [
    "#21\r\n",
    "'''\r\n",
    "In Chapter 12, the way we checked to see if a word w was a real word was:\r\n",
    "    if w in words:\r\n",
    "where words was the list of words generated from a wordlist. This is unfortunately slow, but\r\n",
    "there is a faster way, called a binary search. To implement a binary search in a function, start\r\n",
    "by comparing w with the middle entry in words. If they are equal, then you are done and\r\n",
    "the function should return True. On the other hand, if w comes before the middle entry, then\r\n",
    "search the first half of the list. If it comes after the middle entry, then search the second half of\r\n",
    "the list. Then repeat the process on the appropriate half of the list and continue until the word\r\n",
    "is found or there is nothing left to search, in which case the function short return False. The\r\n",
    "< and > operators can be used to alphabetically compare two strings.\r\n",
    "'''"
   ],
   "outputs": [],
   "metadata": {}
  },
  {
   "cell_type": "code",
   "execution_count": 103,
   "source": [
    "#22(a)\r\n",
    "'''\r\n",
    "A Tic-tac-toe board can be represented be a 3×3 two-dimensional list, where zeroes stand for\r\n",
    "empty cells, ones stand for X’s and twos stand for O’s.\r\n",
    "(a) Write a function that is given such a list and randomly chooses a spot in which to place\r\n",
    "a 2. The spot chosen must currently be a 0 and a spot must be chosen.\r\n",
    "(b) Write a function that is given such a list and checks to see if someone has won. Return\r\n",
    "True if there is a winner and False otherwise.\r\n",
    "'''\r\n",
    "import random\r\n",
    "def randomSpot(board):\r\n",
    "    zeroCo = [(r, c) for c in range(3) for r in range(3) if board[r][c] == 0]\r\n",
    "    randSpot = random.choice(zeroCo)\r\n",
    "    board[randSpot[0]][randSpot[1]] = 2\r\n",
    "board = [[random.randint(0,2) for c in range(3)] for r in range(3)]; print(board)\r\n",
    "randomSpot(board); print(board)"
   ],
   "outputs": [
    {
     "output_type": "stream",
     "name": "stdout",
     "text": [
      "[[0, 1, 1], [2, 0, 1], [0, 0, 2]]\n",
      "[[0, 1, 1], [2, 2, 1], [0, 0, 2]]\n"
     ]
    }
   ],
   "metadata": {}
  },
  {
   "cell_type": "code",
   "execution_count": 108,
   "source": [
    "#22(b)\r\n",
    "'''\r\n",
    "A Tic-tac-toe board can be represented be a 3×3 two-dimensional list, where zeroes stand for\r\n",
    "empty cells, ones stand for X’s and twos stand for O’s.\r\n",
    "(a) Write a function that is given such a list and randomly chooses a spot in which to place\r\n",
    "a 2. The spot chosen must currently be a 0 and a spot must be chosen.\r\n",
    "(b) Write a function that is given such a list and checks to see if someone has won. Return\r\n",
    "True if there is a winner and False otherwise.\r\n",
    "'''\r\n",
    "def check(board):\r\n",
    "    flag = False\r\n",
    "    for i in range(3):\r\n",
    "        if board[i][0] == board[i][1] == board[i][2]  != 0:\r\n",
    "            flag = True\r\n",
    "            break\r\n",
    "        elif board[0][i] == board[1][i] == board[2][i] != 0:\r\n",
    "            flag = True\r\n",
    "            break\r\n",
    "    else:\r\n",
    "        if board[0][0] == board[1][1] == board[2][2] != 0:\r\n",
    "            flag = True\r\n",
    "        elif board[0][2] == board[1][1] == board[2][0] != 0:\r\n",
    "            flag = True\r\n",
    "    return flag\r\n",
    "board = [[2, 1, 1],\r\n",
    "         [0, 1, 2],\r\n",
    "         [1, 2, 2]]\r\n",
    "print(check(board))"
   ],
   "outputs": [
    {
     "output_type": "stream",
     "name": "stdout",
     "text": [
      "True\n"
     ]
    }
   ],
   "metadata": {}
  },
  {
   "cell_type": "code",
   "execution_count": null,
   "source": [
    "#23\r\n",
    "'''\r\n",
    "Write a function that is given a 9 × 9 potentially solved Sudoku and returns True if it is\r\n",
    "solved correctly and False if there is a mistake. The Sudoku is correctly solved if there are\r\n",
    "no repeated numbers in any row or any column or in any of the nine “blocks.”\r\n",
    "'''"
   ],
   "outputs": [],
   "metadata": {}
  }
 ],
 "metadata": {
  "orig_nbformat": 4,
  "language_info": {
   "name": "python",
   "version": "3.9.6"
  },
  "kernelspec": {
   "name": "python3",
   "display_name": "Python 3.9.6 64-bit"
  },
  "interpreter": {
   "hash": "ac59ebe37160ed0dfa835113d9b8498d9f09ceb179beaac4002f036b9467c963"
  }
 },
 "nbformat": 4,
 "nbformat_minor": 2
}