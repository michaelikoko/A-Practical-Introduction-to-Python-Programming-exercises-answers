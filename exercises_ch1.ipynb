{
 "cells": [
  {
   "cell_type": "code",
   "execution_count": 2,
   "source": [
    "#1 I\r\n",
    "ast = '* * * * * * * * * * * * * * * * * * *'\r\n",
    "print(ast)\r\n",
    "print(ast)\r\n",
    "print(ast)\r\n",
    "print(ast)"
   ],
   "outputs": [
    {
     "output_type": "stream",
     "name": "stdout",
     "text": [
      "* * * * * * * * * * * * * * * * * * *\n",
      "* * * * * * * * * * * * * * * * * * *\n",
      "* * * * * * * * * * * * * * * * * * *\n",
      "* * * * * * * * * * * * * * * * * * *\n"
     ]
    }
   ],
   "metadata": {}
  },
  {
   "cell_type": "code",
   "execution_count": 3,
   "source": [
    "#1 II\r\n",
    "ast = '* * * * * * * * * * * * * * * * * * *'\r\n",
    "for i in range(4):\r\n",
    "    print(ast)"
   ],
   "outputs": [
    {
     "output_type": "stream",
     "name": "stdout",
     "text": [
      "* * * * * * * * * * * * * * * * * * *\n",
      "* * * * * * * * * * * * * * * * * * *\n",
      "* * * * * * * * * * * * * * * * * * *\n",
      "* * * * * * * * * * * * * * * * * * *\n"
     ]
    }
   ],
   "metadata": {}
  },
  {
   "cell_type": "code",
   "execution_count": 4,
   "source": [
    "#1 III\r\n",
    "for i in range(4):\r\n",
    "    print('* ' * 19)"
   ],
   "outputs": [
    {
     "output_type": "stream",
     "name": "stdout",
     "text": [
      "* * * * * * * * * * * * * * * * * * * \n",
      "* * * * * * * * * * * * * * * * * * * \n",
      "* * * * * * * * * * * * * * * * * * * \n",
      "* * * * * * * * * * * * * * * * * * * \n"
     ]
    }
   ],
   "metadata": {}
  },
  {
   "cell_type": "code",
   "execution_count": 10,
   "source": [
    "#2\r\n",
    "ast = '* * * * * * * * * * * * * * * * * * *'\r\n",
    "space_ast = '*                                   *'\r\n",
    "print(ast)\r\n",
    "print(space_ast)\r\n",
    "print(space_ast)\r\n",
    "print(ast)"
   ],
   "outputs": [
    {
     "output_type": "stream",
     "name": "stdout",
     "text": [
      "* * * * * * * * * * * * * * * * * * *\n",
      "*                                   *\n",
      "*                                   *\n",
      "* * * * * * * * * * * * * * * * * * *\n"
     ]
    }
   ],
   "metadata": {}
  },
  {
   "cell_type": "code",
   "execution_count": 5,
   "source": [
    "#3 I\r\n",
    "single_ast = '*'\r\n",
    "print(single_ast)\r\n",
    "print(single_ast, single_ast)\r\n",
    "print(single_ast, single_ast, single_ast)\r\n",
    "print(single_ast, single_ast, single_ast, single_ast)"
   ],
   "outputs": [
    {
     "output_type": "stream",
     "name": "stdout",
     "text": [
      "*\n",
      "* *\n",
      "* * *\n",
      "* * * *\n"
     ]
    }
   ],
   "metadata": {}
  },
  {
   "cell_type": "code",
   "execution_count": 1,
   "source": [
    "#3 II\r\n",
    "for i in range(4):\r\n",
    "    print('* ' * (i+1))"
   ],
   "outputs": [
    {
     "output_type": "stream",
     "name": "stdout",
     "text": [
      "* \n",
      "* * \n",
      "* * * \n",
      "* * * * \n"
     ]
    }
   ],
   "metadata": {}
  },
  {
   "cell_type": "code",
   "execution_count": null,
   "source": [
    "#4\r\n",
    "print((512 - 282)/(47.48 + 5))"
   ],
   "outputs": [],
   "metadata": {}
  },
  {
   "cell_type": "code",
   "execution_count": 15,
   "source": [
    "#5\r\n",
    "num = eval(input('Enter a number: '))\r\n",
    "print('The square of ', num, ' is ', num**2, '.', sep='')"
   ],
   "outputs": [
    {
     "output_type": "stream",
     "name": "stdout",
     "text": [
      "The square of 8 is 64.\n"
     ]
    }
   ],
   "metadata": {}
  },
  {
   "cell_type": "code",
   "execution_count": 16,
   "source": [
    "#6\r\n",
    "x = eval(input('Enter a number: '))\r\n",
    "print(x, 2*x, 3*x, 4*x, 5*x, sep='---')"
   ],
   "outputs": [
    {
     "output_type": "stream",
     "name": "stdout",
     "text": [
      "5---10---15---20---25\n"
     ]
    }
   ],
   "metadata": {}
  },
  {
   "cell_type": "code",
   "execution_count": 17,
   "source": [
    "#7\r\n",
    "w_kg = eval(input('Enter a weight in kilograms: '))\r\n",
    "print('The weight in pounds is ', w_kg*2.2, 'lbs.', sep='')"
   ],
   "outputs": [
    {
     "output_type": "stream",
     "name": "stdout",
     "text": [
      "The weight in pounds is 11.0lbs.\n"
     ]
    }
   ],
   "metadata": {}
  },
  {
   "cell_type": "code",
   "execution_count": 18,
   "source": [
    "#8\r\n",
    "x1 = eval(input('Enter the first number: '))\r\n",
    "x2 = eval(input('Enter the second number: '))\r\n",
    "x3 = eval(input('Enter the third number: '))\r\n",
    "total = x1 + x2 + x3\r\n",
    "average = (x1 + x2 + x3)/3\r\n",
    "print('The sum and average of the numbers are ', total, 'and', average, ' respectively.')"
   ],
   "outputs": [
    {
     "output_type": "stream",
     "name": "stdout",
     "text": [
      "The sum and average of the numbers are  9 and 3.0  respectively.\n"
     ]
    }
   ],
   "metadata": {}
  },
  {
   "cell_type": "code",
   "execution_count": 20,
   "source": [
    "#9\r\n",
    "price = eval(input('Price of the meal: $'))\r\n",
    "tip_percent = eval(input('Tip percent: '))\r\n",
    "n = eval(input('Number of people: '))\r\n",
    "tip = (tip_percent/100)*(price*n)\r\n",
    "total_bill = tip + (price*n)\r\n",
    "print('Tip: $', tip, sep='')\r\n",
    "print('Total Amount: $', total_bill, sep='')"
   ],
   "outputs": [
    {
     "output_type": "stream",
     "name": "stdout",
     "text": [
      "Tip: $45.0\n",
      "Total Amount: $345.0\n"
     ]
    }
   ],
   "metadata": {}
  }
 ],
 "metadata": {
  "interpreter": {
   "hash": "b3ba2566441a7c06988d0923437866b63cedc61552a5af99d1f4fb67d367b25f"
  },
  "kernelspec": {
   "name": "python3",
   "display_name": "Python 3.8.8 64-bit ('base': conda)"
  },
  "language_info": {
   "codemirror_mode": {
    "name": "ipython",
    "version": 3
   },
   "file_extension": ".py",
   "mimetype": "text/x-python",
   "name": "python",
   "nbconvert_exporter": "python",
   "pygments_lexer": "ipython3",
   "version": "3.8.8"
  }
 },
 "nbformat": 4,
 "nbformat_minor": 5
}