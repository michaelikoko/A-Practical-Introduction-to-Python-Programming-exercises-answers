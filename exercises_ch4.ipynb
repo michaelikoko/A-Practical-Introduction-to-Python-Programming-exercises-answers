{
 "cells": [
  {
   "cell_type": "code",
   "execution_count": 5,
   "source": [
    "#1\r\n",
    "length_cm = eval(input('Input a length in centimeters: '))\r\n",
    "length_inch = round((length_cm/2.54), 4)\r\n",
    "\r\n",
    "if length_cm < 0:\r\n",
    "    print('The length you entered is invalid.')\r\n",
    "else:\r\n",
    "    print(f'{length_cm} cm is equal to {length_inch}\\\".')"
   ],
   "outputs": [
    {
     "output_type": "stream",
     "name": "stdout",
     "text": [
      "60 cm is equal to 23.622\".\n"
     ]
    }
   ],
   "metadata": {}
  },
  {
   "cell_type": "code",
   "execution_count": 10,
   "source": [
    "#2\r\n",
    "temp = eval(input('Input a temperature: '))\r\n",
    "unit = input('Input a unit(F for Fahrenheit, or C for Celsius): ')\r\n",
    "\r\n",
    "if unit == 'F' or unit == 'f':\r\n",
    "    print(f'{temp}\\N{DEGREE SIGN}F is equal to ', round((5/9)*(temp-32), 4), '\\N{DEGREE SIGN}C.', sep='')\r\n",
    "elif unit == 'C' or unit == 'c':\r\n",
    "    print(f'{temp}\\N{DEGREE SIGN}C is equal to ', round((9/5)*temp + 32, 4), '\\N{DEGREE SIGN}F.', sep='')\r\n",
    "else:\r\n",
    "    print('The unit you entered is not recognized by the program.') "
   ],
   "outputs": [
    {
     "output_type": "stream",
     "name": "stdout",
     "text": [
      "100°C is equal to 212.0°F.\n"
     ]
    }
   ],
   "metadata": {}
  },
  {
   "cell_type": "code",
   "execution_count": 24,
   "source": [
    "#3\r\n",
    "temp = eval(input('Input a temperature in Celsius: '))\r\n",
    "if temp < -273.15:\r\n",
    "    print(f'{temp}\\N{DEGREE SIGN}C is invalid because it is below absolute zero.')\r\n",
    "elif temp == -273.15:\r\n",
    "    print(f'{temp}\\N{DEGREE SIGN}C is absolute zero.')\r\n",
    "elif -273.15 < temp < 0:\r\n",
    "    print(f'{temp}\\N{DEGREE SIGN}C is below the freezing point of water.')\r\n",
    "elif temp == 0:\r\n",
    "    print(f'{temp}\\N{DEGREE SIGN}C is at the freezing point of water.')\r\n",
    "elif 0 < temp < 100:\r\n",
    "    print(f'{temp}\\N{DEGREE SIGN}C is in the normal range.')\r\n",
    "elif temp == 100:\r\n",
    "    print(f'{temp}\\N{DEGREE SIGN}C is at the boiling point of water.')\r\n",
    "else:\r\n",
    "    print(f'{temp}\\N{DEGREE SIGN}C is above the boiling point of water.')"
   ],
   "outputs": [
    {
     "output_type": "stream",
     "name": "stdout",
     "text": [
      "100.2°C is above the boiling point of water.\n"
     ]
    }
   ],
   "metadata": {}
  },
  {
   "cell_type": "code",
   "execution_count": 1,
   "source": [
    "#4\r\n",
    "credit = eval(input('Input the number of credits you have taken: '))\r\n",
    "\r\n",
    "if credit <= 23:\r\n",
    "    print('The student is a freshman.')    \r\n",
    "elif credit <= 53:\r\n",
    "    print('The student is a Sophomore.')\r\n",
    "elif credit <= 83:\r\n",
    "    print('The student is a junior.')\r\n",
    "else:\r\n",
    "    print('The student is a senior.')"
   ],
   "outputs": [
    {
     "output_type": "stream",
     "name": "stdout",
     "text": [
      "The student is a junior.\n"
     ]
    }
   ],
   "metadata": {}
  },
  {
   "cell_type": "code",
   "execution_count": 2,
   "source": [
    "#5\r\n",
    "from random import randint\r\n",
    "guess = int(input('Enter your guess: '))\r\n",
    "num = randint(1, 10)\r\n",
    "if guess==num:\r\n",
    "    print(f'Your guess is correct. The number is {num}')\r\n",
    "else:\r\n",
    "    print(f'Sorry, the number is {num}.')"
   ],
   "outputs": [
    {
     "output_type": "stream",
     "name": "stdout",
     "text": [
      "Sorry, the number is 10.\n"
     ]
    }
   ],
   "metadata": {}
  },
  {
   "cell_type": "code",
   "execution_count": 12,
   "source": [
    "#6\r\n",
    "num_items = int(input('Input the number of items: '))\r\n",
    "\r\n",
    "if num_items < 10:\r\n",
    "    price = 12\r\n",
    "elif num_items <= 99:\r\n",
    "    price = 10\r\n",
    "else:\r\n",
    "    price = 7\r\n",
    "\r\n",
    "cost = num_items * price\r\n",
    "print(f'The cost of {num_items} number of items is: ${cost}.')"
   ],
   "outputs": [
    {
     "output_type": "stream",
     "name": "stdout",
     "text": [
      "The cost of 10 number of items is: $100.\n"
     ]
    }
   ],
   "metadata": {}
  },
  {
   "cell_type": "code",
   "execution_count": 31,
   "source": [
    "#7\r\n",
    "num1 = eval(input('Input the first number: '))\r\n",
    "num2 = eval(input('Input the second number: '))\r\n",
    "diff1 = round((num1 - num2), 3)\r\n",
    "diff2 = round((num2 - num1), 3)\r\n",
    "\r\n",
    "if (diff1 == .001) or (diff2 == .001):\r\n",
    "    print('Close.')\r\n",
    "else:\r\n",
    "    print('Not close.')"
   ],
   "outputs": [
    {
     "output_type": "stream",
     "name": "stdout",
     "text": [
      "Close.\n"
     ]
    }
   ],
   "metadata": {}
  },
  {
   "cell_type": "code",
   "execution_count": 56,
   "source": [
    "#8\r\n",
    "print('LEAP YEAR CHECKER.')\r\n",
    "\r\n",
    "year = int(input('Input a year: '))\r\n",
    "\r\n",
    "if year % 4 == 0:\r\n",
    "    if year % 100 == 0:\r\n",
    "        if year % 400 == 0:\r\n",
    "            print(f'The year {year} is a leap year.')\r\n",
    "        else:\r\n",
    "            print(f'The year {year} is not a leap year.')\r\n",
    "    else:\r\n",
    "        print(f'The year {year} is a leap year.')\r\n",
    "else:\r\n",
    "    print(f'The year {year} is not a leap year.')"
   ],
   "outputs": [
    {
     "output_type": "stream",
     "name": "stdout",
     "text": [
      "LEAP YEAR CHECKER.\n",
      "The year 1670 is not a leap year.\n"
     ]
    }
   ],
   "metadata": {}
  },
  {
   "cell_type": "code",
   "execution_count": 6,
   "source": [
    "#9\r\n",
    "print('Check the divisors of a number.')\r\n",
    "num = eval(input('Input a number: '))\r\n",
    "print(f'The divisors of {num} are: ')\r\n",
    "for i in range(num):\r\n",
    "    a = num - i\r\n",
    "    if num % a == 0:\r\n",
    "        print(a, end=' ')"
   ],
   "outputs": [
    {
     "output_type": "stream",
     "name": "stdout",
     "text": [
      "Check the divisors of a number.\n",
      "The divisors of 6 are: \n",
      "6 3 2 1 12\n"
     ]
    }
   ],
   "metadata": {}
  },
  {
   "cell_type": "code",
   "execution_count": 1,
   "source": [
    "#10\r\n",
    "from random import randint\r\n",
    "correct = 0\r\n",
    "wrong = 0\r\n",
    "for i in range(1,11):\r\n",
    "    num1 = randint(1, 10)\r\n",
    "    num2 = randint(1, 10)\r\n",
    "    product = num1 * num2\r\n",
    "    ans = eval(input(f'Question {i}: {num1} * {num2}: '))\r\n",
    "    if ans == product:\r\n",
    "        print(f'{i}. Right! The product of {num1} and {num2} is {product}.')\r\n",
    "        correct = correct + 1\r\n",
    "    else:\r\n",
    "        print(f'{i}. Wrong! The product of {num1} and {num2} is {product}.')\r\n",
    "        wrong = wrong + 1\r\n",
    "print(f'\\nYou got {correct} answers correct, and {wrong} answer wrong.')"
   ],
   "outputs": [
    {
     "output_type": "stream",
     "name": "stdout",
     "text": [
      "1. Right! The product of 2 and 1 is 2.\n"
     ]
    }
   ],
   "metadata": {}
  },
  {
   "cell_type": "code",
   "execution_count": 2,
   "source": [
    "#11\r\n",
    "hour = int(input('Enter hour: '))\r\n",
    "time_of_the_day = int(input('a.m(1) or p.m(2)? '))\r\n",
    "hour_ahead = int(input('How many hours ahead? '))\r\n",
    "time = hour + hour_ahead\r\n",
    "new_hour = time % 12\r\n",
    "if time_of_the_day == 1:\r\n",
    "    if 12 < time < 24:\r\n",
    "        print(f'New hour: {new_hour}p.m.')\r\n",
    "    elif time == 12 or time == 24:\r\n",
    "        print(f'New hour: 12p.m.')\r\n",
    "    else:\r\n",
    "        print(f'New hour: {time}a.m.')\r\n",
    "if time_of_the_day == 2:\r\n",
    "    if 12 < time < 24:\r\n",
    "        print(f'New hour: {new_hour}a.m.')\r\n",
    "    elif time == 12 or time == 24:\r\n",
    "        print(f'New hour: 12a.m.')\r\n",
    "    else:\r\n",
    "        print(f'New hour: {time}p.m')"
   ],
   "outputs": [
    {
     "output_type": "stream",
     "name": "stdout",
     "text": [
      "New hour: 12p.m.\n"
     ]
    }
   ],
   "metadata": {}
  },
  {
   "cell_type": "code",
   "execution_count": 1,
   "source": [
    "#12\r\n",
    "for i in range(200):\r\n",
    "    if i % 5 == 2 and i % 6 == 3 and i % 7 == 2:\r\n",
    "        print(f'The number of candy in the jar is {i}.')"
   ],
   "outputs": [
    {
     "output_type": "stream",
     "name": "stdout",
     "text": [
      "The number of candy in the jar is 177.\n"
     ]
    }
   ],
   "metadata": {}
  },
  {
   "cell_type": "code",
   "execution_count": 6,
   "source": [
    "#13\r\n",
    "from random import randint\r\n",
    "print('ROCK, PAPER, SCISSORS')\r\n",
    "#rock = 1, paper = 2, scissors = 3\r\n",
    "name = input('Input your name: ')\r\n",
    "\r\n",
    "if name == '':\r\n",
    "    name = 'User'\r\n",
    "\r\n",
    "user_score = 0\r\n",
    "computer_score = 0\r\n",
    "\r\n",
    "for i in range(5):\r\n",
    "    user_action = int(input('\\nRock(1), Paper(2), Scissors(3): '))\r\n",
    "    computer_action = randint(1,3)\r\n",
    "\r\n",
    "    if user_action == 1 and computer_action == 1:\r\n",
    "        print(f'\\n{name}: Rock || Computer: Rock. \\nIt\\'s a tie.')\r\n",
    "        user_score = user_score + 1\r\n",
    "        computer_score = computer_score + 1\r\n",
    "    if user_action == 1 and computer_action == 2:\r\n",
    "        print(f'\\n{name}: Rock || Computer: Paper. \\nPaper covers rock. The computer wins.')\r\n",
    "        user_score = user_score + 0\r\n",
    "        computer_score = computer_score + 1\r\n",
    "    if user_action ==1 and computer_action == 3:\r\n",
    "        print(f'\\n{name}: Rock || Computer: Scissors. \\nRock smashes scissors. {name} wins.')\r\n",
    "        user_score = user_score + 1\r\n",
    "        computer_score = computer_score + 0\r\n",
    "    if user_action == 2 and computer_action == 2:\r\n",
    "        print(f'\\n{name}: Paper || Computer: Paper. \\nIt\\'s a tie.')\r\n",
    "        user_score = user_score + 1\r\n",
    "        computer_score = computer_score + 1\r\n",
    "    if user_action == 2 and computer_action == 1:\r\n",
    "        print(f'\\n{name}: Paper || Computer: Rock. \\nPaper covers rock. {name} wins.')\r\n",
    "        user_score = user_score + 1\r\n",
    "        computer_score = computer_score + 0\r\n",
    "    if user_action == 2 and computer_action == 3:\r\n",
    "        print(f'\\n{name}: Paper || Computer: Scissors. \\nScissors cuts paper. The computer wins.')\r\n",
    "        user_score = user_score + 0\r\n",
    "        computer_score = computer_score + 1\r\n",
    "    if user_action == 3 and computer_action == 3:\r\n",
    "        print(f'\\n{name}: Scissors || Computer: Scissors. \\nIt\\'s a tie.')\r\n",
    "        user_score = user_score + 1\r\n",
    "        computer_score = computer_score + 1\r\n",
    "    if user_action == 3 and computer_action == 1:\r\n",
    "        print(f'\\n{name}: Scissors || Computer: Rock. \\nRock smashes scissors. The computer wins.')\r\n",
    "        user_score = user_score + 0\r\n",
    "        computer_score = computer_score + 1\r\n",
    "    if user_action == 3 and computer_action == 2:\r\n",
    "        print(f'\\n{name}: Scissors || Computer: Paper. \\nScissors cuts paper. {name} wins.')\r\n",
    "        user_score = user_score + 1\r\n",
    "        computer_score = computer_score + 0\r\n",
    "\r\n",
    "if user_score > computer_score:\r\n",
    "    print(f'\\n\\n{name}\\'s score: {user_score} points || Computer\\'s score: {computer_score} points. \\n{name} wins the game.')\r\n",
    "if user_score < computer_score:\r\n",
    "    print(f'\\n\\n{name}\\'s score: {user_score} points || Computer\\'s score: {computer_score} points. \\nComputer wins the game.')\r\n",
    "if user_score == computer_score:\r\n",
    "    print(f'\\n\\n{name}\\'s score: {user_score} points || Computer\\'s score: {computer_score} points. \\nThe game ends in a tie.')"
   ],
   "outputs": [
    {
     "output_type": "stream",
     "name": "stdout",
     "text": [
      "ROCK, PAPER, SCISSORS\n",
      "\n",
      "John: Rock || Computer: Rock. \n",
      "It's a tie.\n",
      "\n",
      "John: Paper || Computer: Rock. \n",
      "Paper covers rock. John wins.\n",
      "\n",
      "John: Scissors || Computer: Rock. \n",
      "Rock smashes scissors. The computer wins.\n",
      "\n",
      "John: Rock || Computer: Scissors. \n",
      "Rock smashes scissors. John wins.\n",
      "\n",
      "John: Paper || Computer: Paper. \n",
      "It's a tie.\n",
      "\n",
      "\n",
      "John's score: 4 points || Computer's score: 3 points. \n",
      "John wins the game.\n"
     ]
    }
   ],
   "metadata": {}
  }
 ],
 "metadata": {
  "language_info": {
   "name": "python",
   "version": "3.9.6",
   "mimetype": "text/x-python",
   "codemirror_mode": {
    "name": "ipython",
    "version": 3
   },
   "pygments_lexer": "ipython3",
   "nbconvert_exporter": "python",
   "file_extension": ".py"
  },
  "kernelspec": {
   "name": "python3",
   "display_name": "Python 3.9.6 64-bit"
  },
  "interpreter": {
   "hash": "ac59ebe37160ed0dfa835113d9b8498d9f09ceb179beaac4002f036b9467c963"
  }
 },
 "nbformat": 4,
 "nbformat_minor": 5
}