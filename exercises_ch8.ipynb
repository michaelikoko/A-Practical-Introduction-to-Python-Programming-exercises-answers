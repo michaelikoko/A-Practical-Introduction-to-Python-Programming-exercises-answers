{
 "cells": [
  {
   "cell_type": "code",
   "execution_count": 1,
   "source": [
    "#1\r\n",
    "'''\r\n",
    "Write a program that asks the user to enter some text and then counts how many articles are\r\n",
    "in the text. Articles are the words 'a', 'an', and 'the'.\r\n",
    "'''\r\n",
    "text = input('Input some text: ')\r\n",
    "articles = ['a', 'an', 'the']\r\n",
    "\r\n",
    "countArticle = 0\r\n",
    "words = text.split()\r\n",
    "for word in words:\r\n",
    "    word = word.strip()\r\n",
    "    if word.lower() in articles:\r\n",
    "        countArticle += 1\r\n",
    "print(f'The text contains a total of {countArticle} articles.')"
   ],
   "outputs": [
    {
     "output_type": "stream",
     "name": "stdout",
     "text": [
      "The text contains a total of 3 articles.\n"
     ]
    }
   ],
   "metadata": {}
  },
  {
   "cell_type": "code",
   "execution_count": 24,
   "source": [
    "#2\r\n",
    "'''\r\n",
    "Write a program that allows the user to enter five numbers (read as strings). Create a string\r\n",
    "that consists of the user’s numbers separated by plus signs. For instance, if the user enters 2,\r\n",
    "5, 11, 33, and 55, then the string should be '2+5+11+33+55'.\r\n",
    "'''\r\n",
    "userInput = input('Input five numbers separated by a comma: ')\r\n",
    "userInputL = userInput.split(',')\r\n",
    "userInputList = [i.strip() for i in userInputL]\r\n",
    "finalString = '+'.join(userInputList)\r\n",
    "print(finalString)\r\n"
   ],
   "outputs": [
    {
     "output_type": "stream",
     "name": "stdout",
     "text": [
      "2+5+11+33+55\n"
     ]
    }
   ],
   "metadata": {}
  },
  {
   "cell_type": "code",
   "execution_count": 26,
   "source": [
    "#3\r\n",
    "'''\r\n",
    "(a) Ask the user to enter a sentence and print out the third word of the sentence.\r\n",
    "(b) Ask the user to enter a sentence and print out every third word of the sentence.\r\n",
    "'''\r\n",
    "#(a)\r\n",
    "sentence = input('Input a sentence: ')\r\n",
    "words = sentence.split()\r\n",
    "print(f'\"{sentence}\"\\nThe third word of the sentence above is: \"{words[2]}\".')"
   ],
   "outputs": [
    {
     "output_type": "stream",
     "name": "stdout",
     "text": [
      "\"Let's get this party started.\"\n",
      "The third word of the sentence above is: \"this\".\n"
     ]
    }
   ],
   "metadata": {}
  },
  {
   "cell_type": "code",
   "execution_count": 26,
   "source": [
    "#3\r\n",
    "'''\r\n",
    "(a) Ask the user to enter a sentence and print out the third word of the sentence.\r\n",
    "(b) Ask the user to enter a sentence and print out every third word of the sentence.\r\n",
    "'''\r\n",
    "#(b)\r\n",
    "sentence = input('Input a sentence: ')\r\n",
    "words = sentence.split()\r\n",
    "print(f'\"{sentence}\"\\nThe third word of the sentence above is: \"{words[2]}\".')"
   ],
   "outputs": [
    {
     "output_type": "stream",
     "name": "stdout",
     "text": [
      "\"Let's get this party started.\"\n",
      "The third word of the sentence above is: \"this\".\n"
     ]
    }
   ],
   "metadata": {}
  },
  {
   "cell_type": "code",
   "execution_count": 28,
   "source": [
    "#4\r\n",
    "'''\r\n",
    "(a) Write a program that asks the user to enter a sentence and then randomly rearranges the\r\n",
    "words of the sentence. Don’t worry about getting punctuation or capitalization correct.\r\n",
    "(b) Do the above problem, but now make sure that the sentence starts with a capital, that\r\n",
    "the original first word is not capitalized if it comes in the middle of the sentence, and\r\n",
    "that the period is in the right place.\r\n",
    "'''\r\n",
    "#(a)\r\n",
    "from random import shuffle\r\n",
    "sentence = input('Input a sentence: ')\r\n",
    "words = sentence.split()\r\n",
    "shuffle(words)\r\n",
    "print(f'\"{sentence}\"\\nThe rearranged words of the sentence above is: \"{\" \".join(words)}\"')"
   ],
   "outputs": [
    {
     "output_type": "stream",
     "name": "stdout",
     "text": [
      "\"This is a sentence.\"\n",
      "The rearranged words of the sentence above is: \"a sentence. is This\".\n"
     ]
    }
   ],
   "metadata": {}
  },
  {
   "cell_type": "code",
   "execution_count": 30,
   "source": [
    "#4\r\n",
    "'''\r\n",
    "(a) Write a program that asks the user to enter a sentence and then randomly rearranges the\r\n",
    "words of the sentence. Don’t worry about getting punctuation or capitalization correct.\r\n",
    "(b) Do the above problem, but now make sure that the sentence starts with a capital, that\r\n",
    "the original first word is not capitalized if it comes in the middle of the sentence, and\r\n",
    "that the period is in the right place.\r\n",
    "'''\r\n",
    "#(b)\r\n",
    "from random import shuffle\r\n",
    "from string import punctuation\r\n",
    "\r\n",
    "sentence = input('Input a sentence: ')\r\n",
    "for c in punctuation:\r\n",
    "    sentence = sentence.replace(c, '')\r\n",
    "words = sentence.split()\r\n",
    "wordList = [word.lower() for word in words]\r\n",
    "shuffle(wordList)\r\n",
    "wordList[0] = wordList[0][0:1].upper() + wordList[0][1:]\r\n",
    "print(f'\"{sentence}\"\\nThe rearranged words of the sentence above is: \"{\" \".join(wordList)}\".')\r\n"
   ],
   "outputs": [
    {
     "output_type": "stream",
     "name": "stdout",
     "text": [
      "\"This belongs to Benjamin\"\n",
      "The rearranged words of the sentence above is: \"To belongs this benjamin\".\n"
     ]
    }
   ],
   "metadata": {}
  },
  {
   "cell_type": "code",
   "execution_count": 10,
   "source": [
    "#5\r\n",
    "'''\r\n",
    "Write a simple quote-of-the-day program. The program should contain a list of quotes, and\r\n",
    "when the user runs the program, a randomly selected quote should be printed.\r\n",
    "'''\r\n",
    "from random import randint\r\n",
    "quoteList = [\r\n",
    "    \"Don't worry about what anybody else is going to do. The best way to predict the future is to invent it. -- Alan Kay\",\r\n",
    "    \"Premature optimazation is the root of all evil (or at least most of it) in programming. -- Donald Knuth\",\r\n",
    "    \"No probelm should ever have tgo be solved twice. -- Eric S. Raymond\",\r\n",
    "    \"Attitude is no subsitute for competence. -- Eric S. Raymond\",\r\n",
    "    \"A year spent in artificial intelligence is enough to make one believe in God. -- Alan J. Perlis\",\r\n",
    "    \"Within a computer natural language is unnatural. -- Alan J. Perlis\",\r\n",
    "    \"Fools ignore complexity. Pragmtists suffer it. Some can avoid it. Geniuses remove it. -- Alan J. Perlis\",\r\n",
    "    \"There really is no learning without doing. -- Roger Schank\",\r\n",
    "    \"The best way to learn to live with our limitations is to know them. -- E. W. Dijkstra\",\r\n",
    "    \"Everything should be made as simple as possible, but no simpler. -- Albert Einstein\"\r\n",
    "]\r\n",
    "\r\n",
    "a = randint(0,9)\r\n",
    "print(f'The quote of the day is: \\n{quoteList[a]}')\r\n"
   ],
   "outputs": [
    {
     "output_type": "stream",
     "name": "stdout",
     "text": [
      "The quote of the day is: \n",
      "Fools ignore complexity. Pragmtists suffer it. Some can avoid it. Geniuses remove it. -- Alan J. Perlis\n"
     ]
    }
   ],
   "metadata": {}
  },
  {
   "cell_type": "code",
   "execution_count": 1,
   "source": [
    "#6\r\n",
    "'''\r\n",
    "Write a simple lottery drawing program. The lottery drawing should consist of six different\r\n",
    "numbers between 1 and 48.\r\n",
    "'''\r\n",
    "from random import sample\r\n",
    "numbers = [i for i in range(1, 49)]\r\n",
    "lotteryNumbers = sample(numbers, 6)\r\n",
    "userNumbers = list()\r\n",
    "i = 1\r\n",
    "while len(userNumbers) < 6:\r\n",
    "    try:\r\n",
    "        num = int(input(f'Input lottery guess {i} (the numbers should be between 1 and 48): '))\r\n",
    "    except:\r\n",
    "        print('Invalid input.')\r\n",
    "    if 1 <= num <= 48:\r\n",
    "        userNumbers.append(num)\r\n",
    "        i += 1\r\n",
    "    #else:\r\n",
    "        #print(f'The inputed number {num} is greater than 48.')\r\n",
    "\r\n",
    "print(f'The lottery numbers are {lotteryNumbers}.\\nThe numbers you picked are {userNumbers}')"
   ],
   "outputs": [
    {
     "output_type": "stream",
     "name": "stdout",
     "text": [
      "The lottery numbers are [4, 47, 31, 38, 7, 39].\n",
      "The numbers you picked are [35, 23, 15, 36, 34, 8]\n"
     ]
    }
   ],
   "metadata": {}
  },
  {
   "cell_type": "code",
   "execution_count": 109,
   "source": [
    "#7\r\n",
    "'''\r\n",
    "Write a program that estimates the average number of drawings it takes before the user’s\r\n",
    "numbers are picked in a lottery that consists of correctly picking six different numbers that\r\n",
    "are between 1 and 10. To do this, run a loop 1000 times that randomly generates a set of\r\n",
    "user numbers and simulates drawings until the user’s numbers are drawn. Find the average\r\n",
    "number of drawings needed over the 1000 times the loop runs.\r\n",
    "'''\r\n",
    "from random import sample\r\n",
    "from random import randint\r\n",
    "numbers = [i for i in range(1,11)]\r\n",
    "matchDrawings = 0\r\n",
    "numberOfDrawings = 0\r\n",
    "for i in range(1000):\r\n",
    "    userNumbers = sample(numbers, 6)\r\n",
    "    userNumbers.sort()\r\n",
    "    while True:\r\n",
    "        drawings = sample(numbers, 6)\r\n",
    "        drawings.sort()\r\n",
    "        if userNumbers == drawings:\r\n",
    "            #print(drawings, userNumbers)\r\n",
    "            break\r\n",
    "        else:\r\n",
    "            numberOfDrawings += 1\r\n",
    "average = numberOfDrawings/1000\r\n",
    "#print(numberOfDrawings)\r\n",
    "print(f'The average number of drawings needed to match the user\\'s numbers over 1000 times is {round(average, 2)}.')"
   ],
   "outputs": [
    {
     "output_type": "stream",
     "name": "stdout",
     "text": [
      "The average number of drawings needed to match the user's numbers over 1000 times is 208.38.\n"
     ]
    }
   ],
   "metadata": {}
  },
  {
   "cell_type": "code",
   "execution_count": 130,
   "source": [
    "#8\r\n",
    "'''\r\n",
    "Write a program that simulates drawing names out of a hat. In this drawing, the number of\r\n",
    "hat entries each person gets may vary. Allow the user to input a list of names and a list of\r\n",
    "how many entries each person has in the drawing, and print out who wins the drawing.\r\n",
    "'''\r\n",
    "from random import choice\r\n",
    "num = int(input('Input the number of names to be inputed: '))\r\n",
    "namesList = list()\r\n",
    "entriesList = list()\r\n",
    "hat = list()\r\n",
    "for i in range(num):\r\n",
    "    name = input(f'Input name {i+1}: ')\r\n",
    "    entries = int(input(f'Input the number of entries for {name}: '))\r\n",
    "    namesList.append(name)\r\n",
    "    entriesList.append(entries)\r\n",
    "for j in range(num):\r\n",
    "    for k in range(entriesList[j]):\r\n",
    "        hat.append(namesList[j])\r\n",
    "\r\n",
    "winner = choice(hat)\r\n",
    "print(f'The winner of the draw is: {winner}.')\r\n"
   ],
   "outputs": [
    {
     "output_type": "stream",
     "name": "stdout",
     "text": [
      "The winner of the draw is: Mattew.\n"
     ]
    }
   ],
   "metadata": {}
  },
  {
   "cell_type": "code",
   "execution_count": 5,
   "source": [
    "#9\r\n",
    "'''\r\n",
    "Write a simple quiz game that has a list of ten questions and a list of answers to those questions. The game should give the \r\n",
    "player four randomly selected questions to answer. It should ask the questions one-by-one, and tell the player whether they got \r\n",
    "the question right or wrong. At the end it should print out how many out of four they got right.\r\n",
    "'''\r\n",
    "from random import sample\r\n",
    "print('Contries and Capitals Quiz.')\r\n",
    "countries = ['Australia', 'Poland', 'Switzerland', 'Canada', 'Brazil', 'Chile', 'Nigeria', 'Turkey', 'Spain', 'Algeria']\r\n",
    "capitals = ['Canberra', 'Warsaw', 'Bern', 'Ottawa', 'Brasilia', 'Santiago', 'Abuja', 'Ankara', 'Madrid', 'Algiers']\r\n",
    "questions = sample(countries, 4)\r\n",
    "correct = 0\r\n",
    "wrong = 0\r\n",
    "for i in range(4):\r\n",
    "    userAnswer = input(f'What is the capital of {questions[i]}: ')\r\n",
    "    correctAnswer = capitals[countries.index(questions[i])]\r\n",
    "    if userAnswer.title() == correctAnswer:\r\n",
    "        print('Correct!')\r\n",
    "        correct += 1\r\n",
    "    else:\r\n",
    "        print(f'Wrong! The capital of {questions[i]} is {correctAnswer}.')\r\n",
    "        wrong += 1\r\n",
    "print(f'You got {correct} questions correct, and {wrong} questions wrong.')\r\n",
    "\r\n"
   ],
   "outputs": [
    {
     "output_type": "stream",
     "name": "stdout",
     "text": [
      "Contries and Capitals Quiz.\n",
      "Correct!\n",
      "Correct!\n",
      "Correct!\n",
      "Correct!\n",
      "You got 4 questions correct, and 0 questions wrong.\n"
     ]
    }
   ],
   "metadata": {}
  },
  {
   "cell_type": "code",
   "execution_count": 162,
   "source": [
    "#10*\r\n",
    "'''\r\n",
    "Write a censoring program. Allow the user to enter some text and your program should print\r\n",
    "out the text with all the curse words starred out. The number of stars should match the length\r\n",
    "of the curse word. For the purposes of this program, just use the “curse” words darn, dang,\r\n",
    "freakin, heck, and shoot. Sample output is below:\r\n",
    "\r\n",
    "Enter some text: Oh shoot, I thought I had the dang problem\r\n",
    "figured out. Darn it. Oh well, it was a heck of a freakin try.\r\n",
    "Oh *****, I thought I had the **** problem figured out.\r\n",
    "**** it. Oh well, it was a **** of a ****** try.\r\n",
    "'''\r\n",
    "from string import punctuation\r\n",
    "text = input('Input some text: ')\r\n",
    "curseWords = ['darn', 'dang', 'freakin', 'heck', 'shoot']\r\n",
    "words = text.split()\r\n",
    "\r\n",
    "for i in range(len(words)):\r\n",
    "    for c in curseWords:\r\n",
    "        if words[i].lower().startswith(c):\r\n",
    "            letterList = list(words[i])\r\n",
    "            for j in range(len(letterList)):\r\n",
    "                if letterList[j] not in punctuation:\r\n",
    "                    letterList[j] = '*'\r\n",
    "            words[i] = ''.join(letterList)\r\n",
    "censoredText = ' '.join(words)\r\n",
    "print(text)\r\n",
    "print(censoredText)\r\n"
   ],
   "outputs": [
    {
     "output_type": "stream",
     "name": "stdout",
     "text": [
      "Oh shoot, I thought I had the dang probelm figured out. Darn it. Oh well, it was a heck of a freaking try.\n",
      "Oh *****, I thought I had the **** probelm figured out. **** it. Oh well, it was a **** of a ******** try.\n"
     ]
    }
   ],
   "metadata": {}
  },
  {
   "cell_type": "code",
   "execution_count": 17,
   "source": [
    "text = input('Input some text: ')\r\n",
    "curseWords = ['darn', 'dang', 'freakin', 'heck', 'shoot']\r\n",
    "censoredText = text\r\n",
    "for i in range(5):\r\n",
    "    censoredText = censoredText.replace(curseWords[i], '*'*len(c))\r\n",
    "print(text)\r\n",
    "print(censoredText)"
   ],
   "outputs": [
    {
     "output_type": "stream",
     "name": "stdout",
     "text": [
      "Shoot, \"heck\", shooting darn.\n",
      "Shoot, \"*****\", *****ing *****.\n"
     ]
    }
   ],
   "metadata": {}
  },
  {
   "cell_type": "code",
   "execution_count": 167,
   "source": [
    "#11\r\n",
    "'''\r\n",
    "Section 8.3 described how to use the shuffle method to create a random anagram of a string.\r\n",
    "Use the choice method to create a random anagram of a string.\r\n",
    "'''\r\n",
    "from random import choice\r\n",
    "string = input('Input a string: ')\r\n",
    "stringList = list(string)\r\n",
    "anagramList = list()\r\n",
    "for i in range(len(string)):\r\n",
    "    letter = choice(stringList)\r\n",
    "    anagramList.append(letter.lower())\r\n",
    "    del stringList[stringList.index(letter)]\r\n",
    "anagram = ''.join(anagramList)\r\n",
    "print(f'A random anagram of the word {string} is {anagram}.')"
   ],
   "outputs": [
    {
     "output_type": "stream",
     "name": "stdout",
     "text": [
      "A random anagram of the word Played is dlyaep.\n"
     ]
    }
   ],
   "metadata": {}
  },
  {
   "cell_type": "code",
   "execution_count": 180,
   "source": [
    "#12*\r\n",
    "'''\r\n",
    "Write a program that gets a string from the user containing a potential telephone number.\r\n",
    "The program should print Valid if it decides the phone number is a real phone number, and\r\n",
    "Invalid otherwise. A phone number is considered valid as long as it is written in the form\r\n",
    "abc-def-hijk or 1-abc-def-hijk. The dashes must be included, the phone number should contain\r\n",
    "only numbers and dashes, and the number of digits in each group must be correct. Test your\r\n",
    "program with the output shown below.\r\n",
    "\r\n",
    "Enter a phone number: 1-301-447-5820\r\n",
    "Valid\r\n",
    "Enter a phone number: 301-447-5820\r\n",
    "Valid\r\n",
    "Enter a phone number: 301-4477-5820\r\n",
    "Invalid\r\n",
    "Enter a phone number: 3X1-447-5820\r\n",
    "Invalid\r\n",
    "Enter a phone number: 3014475820\r\n",
    "Invalid\r\n",
    "'''\r\n",
    "example3 = ['abc', 'def', 'hijk']\r\n",
    "example4 = ['1', 'abc', 'def', 'hijk']\r\n",
    "telNumber = input('Input a telephone number: ')\r\n",
    "telNumberList = telNumber.split('-')\r\n",
    "count3 = 0\r\n",
    "count4 = 0\r\n",
    "\r\n",
    "try:\r\n",
    "    for i in telNumberList:\r\n",
    "        num = int(i)\r\n",
    "except:\r\n",
    "    print('Invalid phone number.')\r\n",
    "    quit()\r\n",
    "\r\n",
    "if len(telNumberList) == len(example3):\r\n",
    "    for i in range(len(example3)):\r\n",
    "        if len(telNumberList[i]) == len(example3[i]):\r\n",
    "            count3 += 1\r\n",
    "    if count3 == 3:\r\n",
    "        print('Valid phone number.')\r\n",
    "    else:\r\n",
    "        print('Invalid phone number.')\r\n",
    "\r\n",
    "elif len(telNumberList) == 4 and telNumberList[0] == '1':\r\n",
    "    for i in range(len(example4)):\r\n",
    "        if len(telNumberList[i]) == len(telNumberList[i]):\r\n",
    "            count4 += 1\r\n",
    "    if count4  == 4:\r\n",
    "        print('Valid phone number.')\r\n",
    "    else:\r\n",
    "        print('Invalid phone number.')\r\n",
    "\r\n",
    "else:\r\n",
    "    print('Invalid phone number.')\r\n",
    "\r\n",
    "\r\n"
   ],
   "outputs": [
    {
     "output_type": "stream",
     "name": "stdout",
     "text": [
      "Valid phone number.\n"
     ]
    }
   ],
   "metadata": {}
  },
  {
   "cell_type": "code",
   "execution_count": 4,
   "source": [
    "#13\r\n",
    "'''\r\n",
    "Let L be a list of strings. Write list comprehensions that create new lists from L for each of the\r\n",
    "following.\r\n",
    "(a) A list that consists of the strings of s with their first characters removed\r\n",
    "(b) A list of the lengths of the strings of s\r\n",
    "(c) A list that consists of only those strings of s that are at least three characters long\r\n",
    "'''\r\n",
    "L = ['Boy', 'Girl', 'Dog', 'Cat', 'Mouse', 'Cheese', 'he']\r\n",
    "#(a)\r\n",
    "A = [item[1:] for item in L]\r\n",
    "#(b)\r\n",
    "B = [len(item) for item in L]\r\n",
    "#(c)\r\n",
    "C = [item for item in L if len(item) >= 3]\r\n",
    "print(f'''(a){A}\r\n",
    "(b){B}\r\n",
    "(c){C}\r\n",
    "''')\r\n",
    "\r\n"
   ],
   "outputs": [
    {
     "output_type": "stream",
     "name": "stdout",
     "text": [
      "(a)['oy', 'irl', 'og', 'at', 'ouse', 'heese', 'e']\n",
      "(b)[3, 4, 3, 3, 5, 6, 2]\n",
      "(c)['Boy', 'Girl', 'Dog', 'Cat', 'Mouse', 'Cheese']\n",
      "\n"
     ]
    }
   ],
   "metadata": {}
  },
  {
   "cell_type": "code",
   "execution_count": 2,
   "source": [
    "#14\r\n",
    "'''\r\n",
    "Use a list comprehension to produce a list that consists of all palindromic numbers between\r\n",
    "100 and 1000.\r\n",
    "'''\r\n",
    "palindromeList = [i for i in range(100, 1001)  if str(i) == str(i)[::-1] ]\r\n",
    "print(palindromeList)"
   ],
   "outputs": [
    {
     "output_type": "stream",
     "name": "stdout",
     "text": [
      "[101, 111, 121, 131, 141, 151, 161, 171, 181, 191, 202, 212, 222, 232, 242, 252, 262, 272, 282, 292, 303, 313, 323, 333, 343, 353, 363, 373, 383, 393, 404, 414, 424, 434, 444, 454, 464, 474, 484, 494, 505, 515, 525, 535, 545, 555, 565, 575, 585, 595, 606, 616, 626, 636, 646, 656, 666, 676, 686, 696, 707, 717, 727, 737, 747, 757, 767, 777, 787, 797, 808, 818, 828, 838, 848, 858, 868, 878, 888, 898, 909, 919, 929, 939, 949, 959, 969, 979, 989, 999]\n"
     ]
    }
   ],
   "metadata": {}
  },
  {
   "cell_type": "code",
   "execution_count": 7,
   "source": [
    "#15*\r\n",
    "'''\r\n",
    "Use a list comprehension to create the list below, which consists of ones separated by increasingly many zeroes. \r\n",
    "The last two ones in the list should be separated by ten zeroes. [1,1,0,1,0,0,1,0,0,0,1,0,0,0,0,1,....]\r\n",
    "'''\r\n",
    "binList = [1, 1] + [0 for i in range(1, 11) for k in range(i) ]\r\n",
    "print(binList)"
   ],
   "outputs": [
    {
     "output_type": "stream",
     "name": "stdout",
     "text": [
      "[1, 1, 0, 0, 0, 0, 0, 0, 0, 0, 0, 0, 0, 0, 0, 0, 0, 0, 0, 0, 0, 0, 0, 0, 0, 0, 0, 0, 0, 0, 0, 0, 0, 0, 0, 0, 0, 0, 0, 0, 0, 0, 0, 0, 0, 0, 0, 0, 0, 0, 0, 0, 0, 0, 0, 0, 0]\n"
     ]
    }
   ],
   "metadata": {}
  },
  {
   "cell_type": "code",
   "execution_count": 72,
   "source": [
    "#11\r\n",
    "\"\"\"\r\n",
    "Using a for loop, create the list below, which consists of ones separated by increasingly many\r\n",
    "zeroes. The last two ones in the list should be separated by ten zeroes.\r\n",
    "[1,1,0,1,0,0,1,0,0,0,1,0,0,0,0,1,....]\r\n",
    "\"\"\"\r\n",
    "binList = [1, 1]\r\n",
    "for i in range(1, 11):\r\n",
    "    for k in range(i):\r\n",
    "        binList.append(0)\r\n",
    "    binList.append(1)\r\n",
    "print(binList)"
   ],
   "outputs": [
    {
     "output_type": "stream",
     "name": "stdout",
     "text": [
      "[1, 1, 0, 1, 0, 0, 1, 0, 0, 0, 1, 0, 0, 0, 0, 1, 0, 0, 0, 0, 0, 1, 0, 0, 0, 0, 0, 0, 1, 0, 0, 0, 0, 0, 0, 0, 1, 0, 0, 0, 0, 0, 0, 0, 0, 1, 0, 0, 0, 0, 0, 0, 0, 0, 0, 1, 0, 0, 0, 0, 0, 0, 0, 0, 0, 0, 1]\n"
     ]
    }
   ],
   "metadata": {}
  },
  {
   "cell_type": "code",
   "execution_count": 10,
   "source": [
    "#16\r\n",
    "'''\r\n",
    "Let L=[2,3,5,7,11,13,17,19,23,29,31,37,41,43,47]. Use a list comprehension to\r\n",
    "produce a list of the gaps between consecutive entries in L. Then find the maximum gap size\r\n",
    "and the percentage of gaps that have size 2.\r\n",
    "'''\r\n",
    "L = [2,3,5,7,11,13,17,19,23,29,31,37,41,43,47]\r\n",
    "G = [L[i+1] - L[i] for i in range(len(L) - 1) ]\r\n",
    "m = max(G)\r\n",
    "p = round((G.count(2)/len(G))*100, 4)\r\n",
    "print(f'(a)The maximum gap size is {m}\\n(b)The percentage of gaps that have size 2 is {p}')"
   ],
   "outputs": [
    {
     "output_type": "stream",
     "name": "stdout",
     "text": [
      "(a)The maximum gap size is 6\n",
      "(b)The percentage of gaps that have size 2 is 42.8571\n"
     ]
    }
   ],
   "metadata": {}
  },
  {
   "cell_type": "code",
   "execution_count": 19,
   "source": [
    "#17\r\n",
    "'''\r\n",
    "Write a program that finds the average of all of the entries in a 4 × 4 list of integers.\r\n",
    "'''\r\n",
    "from pprint import pprint\r\n",
    "listIntegers = [[1, 2, 3, 4],\r\n",
    "                [5, 6, 7, 8],\r\n",
    "                [9, 10, 11, 12],\r\n",
    "                [13, 14, 15, 16]]\r\n",
    "totalSum = sum([c for i in listIntegers for c in i])\r\n",
    "length = len([c for i in listIntegers for c in i])\r\n",
    "print(f'The average of all entries in the list is {totalSum/length}')\r\n"
   ],
   "outputs": [
    {
     "output_type": "stream",
     "name": "stdout",
     "text": [
      "The average of all entries in the list is 8.5\n"
     ]
    }
   ],
   "metadata": {}
  },
  {
   "cell_type": "code",
   "execution_count": 28,
   "source": [
    "#18\r\n",
    "'''\r\n",
    "Write a program that creates a 10×10 list of random integers between 1 and 100. Then do the\r\n",
    "following:\r\n",
    "(a) Print the list.\r\n",
    "(b) Find the largest value in the third row.\r\n",
    "(c) Find the smallest value in the sixth column.\r\n",
    "'''\r\n",
    "from random import randint\r\n",
    "from pprint import pprint\r\n",
    "theList = [[randint(1,100) for i in range(10)]for j in range(10)]\r\n",
    "print('(a) The list is:')\r\n",
    "pprint(theList)\r\n",
    "print(f'(b) The largest value in the third row is {max(theList[2])}.')\r\n",
    "sixthColumn = [theList[i][5] for i in range(len(theList))]\r\n",
    "print(f'(c) The smallest value in the sixth column is {min(sixthColumn)}')"
   ],
   "outputs": [
    {
     "output_type": "stream",
     "name": "stdout",
     "text": [
      "(a) The list is:\n",
      "[[96, 30, 99, 14, 34, 23, 43, 42, 28, 58],\n",
      " [48, 26, 9, 100, 61, 63, 10, 57, 52, 95],\n",
      " [10, 66, 63, 9, 15, 22, 72, 84, 61, 54],\n",
      " [89, 79, 12, 68, 82, 30, 51, 9, 4, 27],\n",
      " [37, 71, 28, 83, 79, 99, 73, 52, 77, 41],\n",
      " [88, 32, 23, 51, 80, 23, 98, 37, 56, 81],\n",
      " [23, 53, 36, 59, 96, 73, 38, 100, 93, 35],\n",
      " [5, 93, 50, 2, 25, 38, 95, 34, 50, 79],\n",
      " [5, 47, 49, 5, 14, 34, 31, 41, 41, 35],\n",
      " [6, 98, 50, 93, 17, 56, 65, 41, 81, 43]]\n",
      "(b) The largest value in the third row is 84.\n",
      "(c) The smallest value in the sixth column is 22\n"
     ]
    }
   ],
   "metadata": {}
  },
  {
   "cell_type": "code",
   "execution_count": 33,
   "source": [
    "#19\r\n",
    "'''\r\n",
    "Write a program that creates and prints an 8 × 8 list whose entries alternate between 1 and 2\r\n",
    "in a checkerboard pattern, starting with 1 in the upper left corner.\r\n",
    "'''\r\n",
    "from pprint import pprint\r\n",
    "theList = [[1,2]*4 if i % 2 == 0 else [2,1]*4 for i in range(8)]\r\n",
    "pprint(theList)"
   ],
   "outputs": [
    {
     "output_type": "stream",
     "name": "stdout",
     "text": [
      "[[1, 2, 1, 2, 1, 2, 1, 2],\n",
      " [2, 1, 2, 1, 2, 1, 2, 1],\n",
      " [1, 2, 1, 2, 1, 2, 1, 2],\n",
      " [2, 1, 2, 1, 2, 1, 2, 1],\n",
      " [1, 2, 1, 2, 1, 2, 1, 2],\n",
      " [2, 1, 2, 1, 2, 1, 2, 1],\n",
      " [1, 2, 1, 2, 1, 2, 1, 2],\n",
      " [2, 1, 2, 1, 2, 1, 2, 1]]\n"
     ]
    }
   ],
   "metadata": {}
  },
  {
   "cell_type": "code",
   "execution_count": 55,
   "source": [
    "#20\r\n",
    "'''\r\n",
    "Write a program that checks to see if a 4 × 4 list is a magic square. In a magic square, every\r\n",
    "row, column, and the two diagonals add up to the same value.\r\n",
    "'''\r\n",
    "square = [[13, 8, 12, 1],\r\n",
    "          [2, 11, 7, 14],\r\n",
    "          [3, 10, 6, 15],\r\n",
    "          [16, 5, 9, 4]]\r\n",
    "magicNum = 34\r\n",
    "magicNumList = [34 for i in range(4)]\r\n",
    "\r\n",
    "firstDiagonal = sum([square[i][i] for i in range(4)])\r\n",
    "secondDiagonal = sum([square[i][3-i] for i in range(4)])\r\n",
    "sumOfRowsList = [sum([square[r][c] for c in range(4)]) for r in range(4)]\r\n",
    "sumOfColumnsList = [sum([square[r][c] for r in range(4)]) for c in range(4)]\r\n",
    "\r\n",
    "if firstDiagonal == secondDiagonal and sumOfRowsList == magicNumList and sumOfColumnsList == magicNumList:\r\n",
    "    print('The square is a magic square.')\r\n",
    "else:\r\n",
    "    print('The square is not a magic square.')\r\n"
   ],
   "outputs": [
    {
     "output_type": "stream",
     "name": "stdout",
     "text": [
      "The square is a magic square.\n"
     ]
    }
   ],
   "metadata": {}
  },
  {
   "cell_type": "code",
   "execution_count": 5,
   "source": [
    "#21\r\n",
    "'''\r\n",
    "Write a program that asks the user to enter a length. The program should ask them what\r\n",
    "unit the length is in and what unit they would like to convert it to. The possible units are\r\n",
    "inches, yards, miles, millimeters, centimeters, meters, and kilometers. While this can be done\r\n",
    "with 25 if statements, it is shorter and easier to add on to if you use a two-dimensional list of\r\n",
    "conversions, so please use lists for this problem.\r\n",
    "'''\r\n",
    "#inches -> 0, yards -> 1, miles -> 2, millimeters -> 3, centimeters -> 4, meters -> 5, kilometers -> 6\r\n",
    "print('LENGTH CONVERSION.')\r\n",
    "try:\r\n",
    "    length = eval(input('Input length: '))\r\n",
    "    lengthUnit = int(input('1. Inches\\n2. Yards\\n3. Miles\\n4. Millimeters\\n5. Centimeters\\n6. Meters\\n7. Kilometers'+\r\n",
    "                        '\\nInput the unit of the length:'))\r\n",
    "    convUnit = int(input('1. Inches\\n2. Yards\\n3. Miles\\n4. Millimeters\\n5. Centimeters\\n6. Meters\\n7. Kilometers'+\r\n",
    "                        '\\nInput the unit you want the length converted to: '))\r\n",
    "except:\r\n",
    "    print('Invalid input.')\r\n",
    "unitTable = [[length, length/36, length/63360, length*25.4, length*2.54, length*0.0254, (length*2.54)/100000],\r\n",
    "             [length*36, length, length/1760, length*914.4, length*91.44, length*0.9144, (length*9.144)/10000],\r\n",
    "             [length*63360, length*1760, length, length*1609344, length*160934.4, length*1609.344, length*1.609344],\r\n",
    "             [length/25.4, length/914.4, length/1609344, length, length/10, length/1000, length/1000000],\r\n",
    "             [length/2.54, length/91.44, length/160934.4, length*10, length, length/100, length/100000],\r\n",
    "             [length/0.0254, length/0.9144, length/1609.344, length*1000, length*100, length, length/1000],\r\n",
    "             [(length*100000)/2.54, (length*10000)/9.144, length/1.609344, length*1000000, length*100000, length*1000, length]]\r\n",
    "unitList = ['inches', 'yards', 'miles', 'millimeters', 'centimeters', 'meters', 'kilometers']\r\n",
    "\r\n",
    "convLength = round(unitTable[lengthUnit-1][convUnit-1], 4)\r\n",
    "print(f'{length} {unitList[lengthUnit-1]} is equal to {convLength} {unitList[convUnit-1]}.')"
   ],
   "outputs": [
    {
     "output_type": "stream",
     "name": "stdout",
     "text": [
      "LENGTH CONVERSION.\n",
      "652 meters is equal to 713.0359 yards.\n"
     ]
    }
   ],
   "metadata": {}
  },
  {
   "cell_type": "code",
   "execution_count": 7,
   "source": [
    "#22\r\n",
    "'''\r\n",
    "The following is useful as part of a program to play Battleship. Suppose you have a 5 × 5 list\r\n",
    "that consists of zeroes and ones. Ask the user to enter a row and a column. If the entry in the\r\n",
    "list at that row and column is a one, the program should print Hit and otherwise it should\r\n",
    "print Miss.\r\n",
    "'''\r\n",
    "from random import randint\r\n",
    "from pprint import pprint\r\n",
    "aList = [[randint(1,2) for c in range(5)]for r in range(5)]\r\n",
    "pprint(aList)\r\n",
    "row = int(input('Input a row: '))\r\n",
    "column = int(input('Input a column: '))\r\n",
    "if aList[row-1][column-1] == 1:\r\n",
    "    print('Hit')\r\n",
    "else:\r\n",
    "    print('Miss')"
   ],
   "outputs": [
    {
     "output_type": "stream",
     "name": "stdout",
     "text": [
      "[[2, 1, 1, 2, 1],\n",
      " [1, 1, 2, 2, 2],\n",
      " [1, 2, 1, 2, 2],\n",
      " [2, 2, 1, 2, 1],\n",
      " [2, 2, 2, 2, 1]]\n",
      "Hit\n"
     ]
    }
   ],
   "metadata": {}
  },
  {
   "cell_type": "code",
   "execution_count": 1,
   "source": [
    "#23\r\n",
    "'''\r\n",
    "This exercise is useful in creating a Memory game. Randomly generate a 6 × 6 list of assorted\r\n",
    "characters such that there are exactly two of each character. An example is shown below.\r\n",
    "\r\n",
    "@ 5 # A A !\r\n",
    "5 0 b @ $ z\r\n",
    "$ N x ! N z\r\n",
    "0 - + # b :\r\n",
    "- : + c c x\r\n",
    "'''\r\n",
    "from random import *\r\n",
    "from pprint import pprint\r\n",
    "charactersList = 'abcdefghijklmnopqrstuvwxyz1234567890-+_)(*&^%$#@!~`[]|'\r\n",
    "characters = sample(charactersList, 18) * 2\r\n",
    "shuffle(characters)\r\n",
    "listBoard = [[characters[i*6 + j] for j in range(6)]for i in range(6)]\r\n",
    "for list in listBoard:\r\n",
    "    for item in list:\r\n",
    "        print(item, end=' ')\r\n",
    "    print()"
   ],
   "outputs": [
    {
     "output_type": "stream",
     "name": "stdout",
     "text": [
      "~ i m m w k \n",
      "7 d w ! ~ h \n",
      "6 $ - d u i \n",
      "7 6 1 4 - $ \n",
      "k ! r | 4 1 \n",
      "f h u | f r \n"
     ]
    }
   ],
   "metadata": {}
  },
  {
   "cell_type": "code",
   "execution_count": 27,
   "source": [
    "#24\r\n",
    "'''\r\n",
    "The following is useful in implementing computer players in a number of different games.\r\n",
    "Write a program that creates a 5 × 5 list consisting of zeroes and ones. Your program should\r\n",
    "then pick a random location in the list that contains a zero and change it to a one. If all the\r\n",
    "entries are one, the program should say so. [Hint: one way to do this is to create a new list\r\n",
    "whose items are the coordinates of all the ones in the list and use the choice method to\r\n",
    "randomly select one. Use a two-element list to represent a set of coordinates.]\r\n",
    "'''\r\n",
    "from random import choice\r\n",
    "from random import randint\r\n",
    "from pprint import pprint\r\n",
    "\r\n",
    "theList = [[randint(0,1) for r in range(5)] for c in range(5)]\r\n",
    "newList = [[row, col] for row in range(5) for col in range(5) if theList[row][col] == 0]\r\n",
    "if newList == []:\r\n",
    "    print('All the entries in the list are ones.')\r\n",
    "else:\r\n",
    "    #pprint(theList)\r\n",
    "    zeroCo = choice(newList)\r\n",
    "    #print(zeroCo)\r\n",
    "    theList[zeroCo[0]][zeroCo[1]] = 1\r\n",
    "    #pprint(theList)"
   ],
   "outputs": [],
   "metadata": {}
  },
  {
   "cell_type": "code",
   "execution_count": 16,
   "source": [
    "#25\r\n",
    "'''\r\n",
    "Here is an old puzzle question you can solve with a computer program. There is only one\r\n",
    "five-digit number n that is such that every one of the following ten numbers shares exactly\r\n",
    "one digit in common in the same position as n. Find n.\r\n",
    "\r\n",
    "01265, 12171, 23257, 34548, 45970, 56236, 67324, 78084, 89872, 99414\r\n",
    "\r\n",
    "'''\r\n"
   ],
   "outputs": [
    {
     "output_type": "stream",
     "name": "stdout",
     "text": [
      "2\n"
     ]
    }
   ],
   "metadata": {}
  },
  {
   "cell_type": "code",
   "execution_count": 23,
   "source": [
    "#26\r\n",
    "'''\r\n",
    "We usually refer to the entries of a two-dimensional list by their row and column, like below\r\n",
    "on the left. Another way is shown below on the right.\r\n",
    "(0,0) (0,1) (0,2) 0 1 2\r\n",
    "(1,0) (1,1) (1,2) 3 4 5\r\n",
    "(2,0) (2,1) (2,2) 6 7 8\r\n",
    "(a) Write some code that translates from the left representation to the right one. The // and\r\n",
    "% operators will be useful. Be sure your code works for arrays of any size.\r\n",
    "(b) Write some code that translates from the right representation to the left one\r\n",
    "'''\r\n",
    "import pprint\r\n",
    "cols = int(input('Input the number ofc columns: '))\r\n",
    "rows = int(input('Input number of rows: '))\r\n",
    "entList1 = [[(r, c) for c in range(cols)]for r in range(rows)]\r\n",
    "entList2 = [[cols*r + c for c in range(cols)] for r in range(rows)]\r\n",
    "pprint.pprint(entList1)\r\n",
    "pprint.pprint(entList2)\r\n",
    "'''for i in entList1:\r\n",
    "    for a in i:\r\n",
    "        print(a, end=' ')\r\n",
    "    print()'''"
   ],
   "outputs": [
    {
     "output_type": "stream",
     "name": "stdout",
     "text": [
      "[[(0, 0), (0, 1), (0, 2), (0, 3), (0, 4), (0, 5)],\n",
      " [(1, 0), (1, 1), (1, 2), (1, 3), (1, 4), (1, 5)],\n",
      " [(2, 0), (2, 1), (2, 2), (2, 3), (2, 4), (2, 5)],\n",
      " [(3, 0), (3, 1), (3, 2), (3, 3), (3, 4), (3, 5)],\n",
      " [(4, 0), (4, 1), (4, 2), (4, 3), (4, 4), (4, 5)]]\n",
      "[[0, 1, 2, 3, 4, 5],\n",
      " [6, 7, 8, 9, 10, 11],\n",
      " [12, 13, 14, 15, 16, 17],\n",
      " [18, 19, 20, 21, 22, 23],\n",
      " [24, 25, 26, 27, 28, 29]]\n"
     ]
    },
    {
     "output_type": "execute_result",
     "data": {
      "text/plain": [
       "\"for i in entList1:\\n    for a in i:\\n        print(a, end=' ')\\n    print()\""
      ]
     },
     "metadata": {},
     "execution_count": 23
    }
   ],
   "metadata": {}
  }
 ],
 "metadata": {
  "kernelspec": {
   "name": "python3",
   "display_name": "Python 3.9.6 64-bit"
  },
  "language_info": {
   "codemirror_mode": {
    "name": "ipython",
    "version": 3
   },
   "file_extension": ".py",
   "mimetype": "text/x-python",
   "name": "python",
   "nbconvert_exporter": "python",
   "pygments_lexer": "ipython3",
   "version": "3.9.6"
  },
  "interpreter": {
   "hash": "ac59ebe37160ed0dfa835113d9b8498d9f09ceb179beaac4002f036b9467c963"
  }
 },
 "nbformat": 4,
 "nbformat_minor": 5
}