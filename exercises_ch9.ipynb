{
 "cells": [
  {
   "cell_type": "code",
   "execution_count": null,
   "source": [
    "#1\r\n",
    "'''\r\n",
    "The code below prints the numbers from 1 to 50. Rewrite the code using a while loop to\r\n",
    "accomplish the same thing.\r\n",
    "\r\n",
    "for i in range(1,51):\r\n",
    "print(i)\r\n",
    "'''\r\n",
    "i = 1\r\n",
    "while i < 51:\r\n",
    "    print(i)\r\n",
    "    i += 1"
   ],
   "outputs": [],
   "metadata": {}
  },
  {
   "cell_type": "code",
   "execution_count": 8,
   "source": [
    "#2\r\n",
    "'''\r\n",
    "(a) Write a program that uses a while loop (not a for loop) to read through a string and print\r\n",
    "the characters of the string one-by-one on separate lines.\r\n",
    "(b) Modify the program above to print out every second character of the string.\r\n",
    "'''\r\n",
    "#(a)\r\n",
    "string = input('Input a string: ')\r\n",
    "i = 0\r\n",
    "print('(a)')\r\n",
    "while i < len(string):\r\n",
    "    print(string[i])\r\n",
    "    i += 1\r\n",
    "#(b)\r\n",
    "i = 1\r\n",
    "print('(b)')\r\n",
    "while i < len(string):\r\n",
    "    print(string[i])\r\n",
    "    i += 2"
   ],
   "outputs": [
    {
     "output_type": "stream",
     "name": "stdout",
     "text": [
      "(a)\n",
      "P\n",
      "r\n",
      "o\n",
      "g\n",
      "r\n",
      "a\n",
      "m\n",
      "(b)\n",
      "r\n",
      "g\n",
      "a\n"
     ]
    }
   ],
   "metadata": {}
  },
  {
   "cell_type": "code",
   "execution_count": 10,
   "source": [
    "#3\r\n",
    "'''\r\n",
    "A good program will make sure that the data its users enter is valid. Write a program that\r\n",
    "asks the user for a weight and converts it from kilograms to pounds. Whenever the user\r\n",
    "enters a weight below 0, the program should tell them that their entry is invalid and then ask\r\n",
    "them again to enter a weight. [Hint: Use a while loop, not an if statement].\r\n",
    "'''\r\n",
    "weight = eval(input('Input a weight in kilograms: '))\r\n",
    "while weight < 0:\r\n",
    "    print('The weight inputed is invalid.')\r\n",
    "    weight = eval(input('Input a weight in kilograms: '))\r\n",
    "print(f'{weight} kilograms is equal to {weight*2.205} pounds.')"
   ],
   "outputs": [
    {
     "output_type": "stream",
     "name": "stdout",
     "text": [
      "The weight inputed is invalid.\n",
      "The weight inputed is invalid.\n",
      "45.35147392290249 kilograms is equal to 100.0 pounds.\n"
     ]
    }
   ],
   "metadata": {}
  },
  {
   "cell_type": "code",
   "execution_count": 12,
   "source": [
    "#4\r\n",
    "'''\r\n",
    "Write a program that asks the user to enter a password. If the user enters the right password,\r\n",
    "the program should tell them they are logged in to the system. Otherwise, the program\r\n",
    "should ask them to reenter the password. The user should only get five tries to enter the\r\n",
    "password, after which point the program should tell them that they are kicked off of the\r\n",
    "system.\r\n",
    "'''\r\n",
    "#password is Password_32\r\n",
    "password = input('Input a password: ')\r\n",
    "i = 1\r\n",
    "while i < 5 and password != 'Password_32':\r\n",
    "    password = input(f'Password is invalid. Input a password({5-i} tries left): ')\r\n",
    "    i += 1\r\n",
    "if i != 5:\r\n",
    "    print('Successful login.')\r\n",
    "else:\r\n",
    "    print('You have been kicked off of the system.')"
   ],
   "outputs": [
    {
     "output_type": "stream",
     "name": "stdout",
     "text": [
      "Successful login.\n"
     ]
    }
   ],
   "metadata": {}
  },
  {
   "cell_type": "code",
   "execution_count": 14,
   "source": [
    "#5\r\n",
    "'''\r\n",
    "Write a program that allows the user to enter any number of test scores. The user indicates\r\n",
    "they are done by entering in a negative number. Print how many of the scores are A’s (90 or\r\n",
    "above). Also print out the average.\r\n",
    "'''\r\n",
    "testScores = list()\r\n",
    "while True:\r\n",
    "    score = eval(input('Input a score(Input a negative number if done): '))\r\n",
    "    if score < 0:\r\n",
    "        break\r\n",
    "    testScores.append(score)\r\n",
    "A = len([i for i in testScores if i >= 90])\r\n",
    "average = sum(testScores)/len(testScores)\r\n",
    "print(f'There are {A} A\\'s.\\nThe average of the scores is {average}.')"
   ],
   "outputs": [
    {
     "output_type": "stream",
     "name": "stdout",
     "text": [
      "There are 2 A's.\n",
      "The average of the scores is 60.0.\n"
     ]
    }
   ],
   "metadata": {}
  },
  {
   "cell_type": "code",
   "execution_count": 2,
   "source": [
    "#6\r\n",
    "'''\r\n",
    "Modify the higher/lower program so that when there is only one guess left, it says 1 guess,\r\n",
    "not 1 guesses.\r\n",
    "'''\r\n",
    "from random import randint\r\n",
    "\r\n",
    "secret_num = randint(1,100)\r\n",
    "for num_guesses in range(5):\r\n",
    "    guess = eval(input('Enter your guess (1-100): '))\r\n",
    "    num_guesses += 1\r\n",
    "    if guess < secret_num and num_guesses < 4:\r\n",
    "        print('HIGHER.', 5-num_guesses, 'guesses left.')\r\n",
    "    elif guess > secret_num and num_guesses < 4:\r\n",
    "        print('LOWER.', 5-num_guesses, 'guesses left.')\r\n",
    "    elif guess < secret_num and num_guesses >= 4:\r\n",
    "        print('HIGHER.', 5-num_guesses, 'guess left.')\r\n",
    "    elif guess < secret_num and num_guesses >= 4:\r\n",
    "        print('LOWER', 5-num_guesses, 'guess left.')\r\n",
    "    else:\r\n",
    "        print('You got it!')\r\n",
    "        break\r\n",
    "else:\r\n",
    "    print('You lose. The correct number is', secret_num)"
   ],
   "outputs": [
    {
     "output_type": "stream",
     "name": "stdout",
     "text": [
      "LOWER. 4 guesses left.\n",
      "LOWER. 3 guesses left.\n",
      "LOWER. 2 guesses left.\n",
      "You got it!\n"
     ]
    }
   ],
   "metadata": {}
  },
  {
   "cell_type": "code",
   "execution_count": 34,
   "source": [
    "#7(a)\r\n",
    "'''\r\n",
    "Recall that, given a string s, s.index('x') returns the index of the first x in s and an error\r\n",
    "if there is no x.\r\n",
    "(a) Write a program that asks the user for a string and a letter. Using a while loop, the\r\n",
    "program should print the index of the first occurrence of that letter and a message if the\r\n",
    "string does not contain the letter.\r\n",
    "(b) Write the above program using a for/break loop instead of a while loop\r\n",
    "'''\r\n",
    "string = input('Input a string: ')\r\n",
    "x = input('Input a letter: ')\r\n",
    "i = 0\r\n",
    "while i < len(string):\r\n",
    "    if string[i] != x:\r\n",
    "        i += 1\r\n",
    "    else:\r\n",
    "        print(f'The index of the first occurence of \"{x}\" in \"{string}\" is {i}.')\r\n",
    "        break\r\n",
    "else:\r\n",
    "    print('The string does not contain the letter.')\r\n"
   ],
   "outputs": [
    {
     "output_type": "stream",
     "name": "stdout",
     "text": [
      "The string does not contain the letter.\n"
     ]
    }
   ],
   "metadata": {}
  },
  {
   "cell_type": "code",
   "execution_count": 15,
   "source": [
    "#7(b)\r\n",
    "'''\r\n",
    "Recall that, given a string s, s.index('x') returns the index of the first x in s and an error\r\n",
    "if there is no x.\r\n",
    "(a) Write a program that asks the user for a string and a letter. Using a while loop, the\r\n",
    "program should print the index of the first occurrence of that letter and a message if the\r\n",
    "string does not contain the letter.\r\n",
    "(b) Write the above program using a for/break loop instead of a while loop\r\n",
    "'''\r\n",
    "string = input('Input a string: ')\r\n",
    "x = input('Input a letter: ')\r\n",
    "for i in range(len(string)):\r\n",
    "    if string[i] != x:\r\n",
    "        continue\r\n",
    "    else:\r\n",
    "        print(f'The index of the first occurence of \"{x}\" in \"{string}\" is {i}.')\r\n",
    "        break\r\n",
    "else:\r\n",
    "    print('The string does not contain the letter.')\r\n"
   ],
   "outputs": [
    {
     "output_type": "stream",
     "name": "stdout",
     "text": [
      "The index of the first occurence of \"e\" in \"sleep\" is 2.\n"
     ]
    }
   ],
   "metadata": {}
  },
  {
   "cell_type": "code",
   "execution_count": 45,
   "source": [
    "#8\r\n",
    "'''\r\n",
    "The GCD (greatest common divisor) of two numbers is the largest number that both are divisible by. For instance, gcd(18, 42) is 6 because the largest number that both 18 and 42 are\r\n",
    "divisible by is 6. Write a program that asks the user for two numbers and computes their gcd.\r\n",
    "Shown below is a way to compute the GCD, called Euclid’s Algorithm.\r\n",
    "• First compute the remainder of dividing the larger number by the smaller number\r\n",
    "• Next, replace the larger number with the smaller number and the smaller number with\r\n",
    "the remainder.\r\n",
    "• Repeat this process until the smaller number is 0. The GCD is the last value of the larger\r\n",
    "number.\r\n",
    "'''\r\n",
    "numbers = [eval(input(f'Input number {i+1}: ')) for i in range(2)]\r\n",
    "numbers.sort()\r\n",
    "smallerNumber = numbers[0]\r\n",
    "largerNumber = numbers[1]\r\n",
    "rem = None\r\n",
    "while rem != 0:\r\n",
    "    rem = largerNumber%smallerNumber\r\n",
    "    largerNumber = smallerNumber\r\n",
    "    smallerNumber = rem\r\n",
    "else:\r\n",
    "    print(f'The GCD of {numbers[0]} and {numbers[1]} is {largerNumber}.')"
   ],
   "outputs": [
    {
     "output_type": "stream",
     "name": "stdout",
     "text": [
      "The GCD of 12 and 32 is 4.\n"
     ]
    }
   ],
   "metadata": {}
  },
  {
   "cell_type": "code",
   "execution_count": 36,
   "source": [
    "#9\r\n",
    "'''\r\n",
    "A 4000-year old method to compute the square root of 5 is as follows: Start with an initial\r\n",
    "guess, say 1. Then compute\r\n",
    "(1 + (5/1))/2 = 3.\r\n",
    "Next, take that 3 and replace the 1’s in the previous formula with 3’s . This gives\r\n",
    "(3 + (5/3))/2 = 7/3 ≈ 2.33.\r\n",
    "Next replace the 3 in the previous formula with 7/3. This gives\r\n",
    "((7/3) + 5/(7/3))/2 = 47/21 ≈ 2.24.\r\n",
    "If you keep doing this process of computing the formula, getting a result, and plugging it back\r\n",
    "in, the values will eventually get closer and closer to p\r\n",
    "5. This method works for numbers\r\n",
    "other than 5. Write a program that asks the user for a number and uses this method to estimate\r\n",
    "the square root of the number correct to within 10^−10. The estimate will be correct to within\r\n",
    "10^−10 when the absolute value of the difference between consecutive values is less than 10^−10.\r\n",
    "'''\r\n",
    "\r\n",
    "num = eval(input('Input a number: '))\r\n",
    "x = 1\r\n",
    "while True:\r\n",
    "    c = (x + (num/x))/2\r\n",
    "    if abs(c - x) < 10**(-10):\r\n",
    "        break\r\n",
    "    else:\r\n",
    "        x = c\r\n",
    "print(f'The estimated square root of {num} is {c}.')"
   ],
   "outputs": [
    {
     "output_type": "stream",
     "name": "stdout",
     "text": [
      "The estimated square root of 45 is 6.708203932499369.\n"
     ]
    }
   ],
   "metadata": {}
  },
  {
   "cell_type": "code",
   "execution_count": 2,
   "source": [
    "#10\r\n",
    "'''\r\n",
    "Write a program that has a list of ten words, some of which have repeated letters and some\r\n",
    "which don’t. Write a program that picks a random word from the list that does not have any\r\n",
    "repeated letters.\r\n",
    "'''\r\n",
    "from random import choice\r\n",
    "wordList = ['apple', 'battle', 'carve', 'daddy', 'edit', 'frame', 'growth', 'happy', 'igloo', 'jug']\r\n",
    "flag = 0\r\n",
    "while flag != 1:\r\n",
    "    word = choice(wordList)\r\n",
    "    for i in range(len(word) -1):\r\n",
    "        if word[i] in word[i+1:]:\r\n",
    "            break\r\n",
    "    else:\r\n",
    "        flag = 1\r\n",
    "        \r\n",
    "print(word)\r\n"
   ],
   "outputs": [
    {
     "output_type": "stream",
     "name": "stdout",
     "text": [
      "jug\n"
     ]
    }
   ],
   "metadata": {}
  },
  {
   "cell_type": "code",
   "execution_count": 45,
   "source": [
    "#11\r\n",
    "'''\r\n",
    "Write a program that starts with an 5 × 5 list of zeroes and randomly changes exactly ten of\r\n",
    "those zeroes to ones.\r\n",
    "'''\r\n",
    "from pprint import pprint\r\n",
    "from random import randint\r\n",
    "zeroesList = [[0 for col in range(5)] for row in range(5)]\r\n",
    "#pprint(zeroesList)\r\n",
    "while True:\r\n",
    "    zeroesList[randint(0,4)][randint(0,4)] = 1\r\n",
    "    if sum([1 for row in zeroesList for i in range(len(zeroesList)) if row[i] == 1]) == 10:\r\n",
    "        break\r\n",
    "pprint(zeroesList)\r\n"
   ],
   "outputs": [
    {
     "output_type": "stream",
     "name": "stdout",
     "text": [
      "[[0, 0, 1, 0, 1],\n",
      " [1, 1, 1, 1, 0],\n",
      " [0, 0, 1, 0, 0],\n",
      " [0, 0, 0, 1, 0],\n",
      " [0, 1, 1, 0, 0]]\n"
     ]
    }
   ],
   "metadata": {}
  },
  {
   "cell_type": "code",
   "execution_count": 52,
   "source": [
    "#12\r\n",
    "'''\r\n",
    "Write a program in which you have a list that contains seven integers that can be 0 or 1. Find\r\n",
    "the first nonzero entry in the list and change it to a 1. If there are no nonzero entries, print a\r\n",
    "message saying so.\r\n",
    "'''\r\n",
    "from random import randint\r\n",
    "theList = [int(input(f'Input integer {i+1}')) for i in range(7)]\r\n",
    "for i in range(len(theList)):\r\n",
    "    if theList[i] != 0:\r\n",
    "        theList[i] = 1\r\n",
    "        print(theList)\r\n",
    "        break\r\n",
    "else:\r\n",
    "    print('The list does not contain any nonzero entries.')    "
   ],
   "outputs": [
    {
     "output_type": "stream",
     "name": "stdout",
     "text": [
      "The list does not contain any nonzero entries.\n"
     ]
    }
   ],
   "metadata": {}
  },
  {
   "cell_type": "code",
   "execution_count": null,
   "source": [
    "#13\r\n",
    "'''\r\n",
    "In Chapter 4 there was a problem that asked you to write a program that lets the user play\r\n",
    "Rock-Paper-Scissors against the computer. In that program there were exactly five rounds.\r\n",
    "Rewrite the program so that it is a best 3 out of 5. That is, the first player to win three times is\r\n",
    "the winner.\r\n",
    "'''\r\n",
    "\r\n",
    "from random import randint\r\n",
    "print('ROCK, PAPER, SCISSORS\\ngame of five best of three.')\r\n",
    "#rock = 1, paper = 2, scissors = 3\r\n",
    "name = input('Input your name: ')\r\n",
    "\r\n",
    "if name == '':\r\n",
    "    name = 'User'\r\n",
    "\r\n",
    "user_score = 0\r\n",
    "computer_score = 0\r\n",
    "\r\n",
    "for i in range(5):\r\n",
    "    user_action = int(input('\\nRock(1), Paper(2), Scissors(3): '))\r\n",
    "    computer_action = randint(1,3)\r\n",
    "\r\n",
    "    if user_action == 1 and computer_action == 1:\r\n",
    "        print(f'\\n{name}: Rock || Computer: Rock. \\nIt\\'s a tie.')\r\n",
    "        user_score = user_score + 1\r\n",
    "        computer_score = computer_score + 1\r\n",
    "    if user_action == 1 and computer_action == 2:\r\n",
    "        print(f'\\n{name}: Rock || Computer: Paper. \\nPaper covers rock. The computer wins.')\r\n",
    "        user_score = user_score + 0\r\n",
    "        computer_score = computer_score + 1\r\n",
    "    if user_action ==1 and computer_action == 3:\r\n",
    "        print(f'\\n{name}: Rock || Computer: Scissors. \\nRock smashes scissors. {name} wins.')\r\n",
    "        user_score = user_score + 1\r\n",
    "        computer_score = computer_score + 0\r\n",
    "    if user_action == 2 and computer_action == 2:\r\n",
    "        print(f'\\n{name}: Paper || Computer: Paper. \\nIt\\'s a tie.')\r\n",
    "        user_score = user_score + 1\r\n",
    "        computer_score = computer_score + 1\r\n",
    "    if user_action == 2 and computer_action == 1:\r\n",
    "        print(f'\\n{name}: Paper || Computer: Rock. \\nPaper covers rock. {name} wins.')\r\n",
    "        user_score = user_score + 1\r\n",
    "        computer_score = computer_score + 0\r\n",
    "    if user_action == 2 and computer_action == 3:\r\n",
    "        print(f'\\n{name}: Paper || Computer: Scissors. \\nScissors cuts paper. The computer wins.')\r\n",
    "        user_score = user_score + 0\r\n",
    "        computer_score = computer_score + 1\r\n",
    "    if user_action == 3 and computer_action == 3:\r\n",
    "        print(f'\\n{name}: Scissors || Computer: Scissors. \\nIt\\'s a tie.')\r\n",
    "        user_score = user_score + 1\r\n",
    "        computer_score = computer_score + 1\r\n",
    "    if user_action == 3 and computer_action == 1:\r\n",
    "        print(f'\\n{name}: Scissors || Computer: Rock. \\nRock smashes scissors. The computer wins.')\r\n",
    "        user_score = user_score + 0\r\n",
    "        computer_score = computer_score + 1\r\n",
    "    if user_action == 3 and computer_action == 2:\r\n",
    "        print(f'\\n{name}: Scissors || Computer: Paper. \\nScissors cuts paper. {name} wins.')\r\n",
    "        user_score = user_score + 1\r\n",
    "        computer_score = computer_score + 0\r\n",
    "    if user_score - computer_score == 3 or computer_score - user_score == 3:\r\n",
    "        break\r\n",
    "\r\n",
    "if user_score > computer_score:\r\n",
    "    print(f'\\n\\n{name}\\'s score: {user_score} points || Computer\\'s score: {computer_score} points. \\n{name} wins the game.')\r\n",
    "if user_score < computer_score:\r\n",
    "    print(f'\\n\\n{name}\\'s score: {user_score} points || Computer\\'s score: {computer_score} points. \\nComputer wins the game.')\r\n",
    "if user_score == computer_score:\r\n",
    "    print(f'\\n\\n{name}\\'s score: {user_score} points || Computer\\'s score: {computer_score} points. \\nThe game ends in a tie.')"
   ],
   "outputs": [],
   "metadata": {}
  },
  {
   "cell_type": "code",
   "execution_count": null,
   "source": [
    "#14\r\n",
    "'''\r\n",
    "Write a program to play the following simple game. The player starts with $100. On each\r\n",
    "turn a coin is flipped and the player has to guess heads or tails. The player wins $9 for each\r\n",
    "correct guess and loses $10 for each incorrect guess. The game ends either when the player\r\n",
    "runs out of money or gets to $200.\r\n",
    "'''\r\n",
    "from random import randint\r\n",
    "#1 => heads, 2 => tails\r\n",
    "money = 100\r\n",
    "coin = ['Heads', 'Tails']\r\n",
    "print('HEADS OR TAILS.')\r\n",
    "while True:\r\n",
    "    option = input('1. Start Game.\\n2. How to play.\\n#: Exit\\nEnter option: ')\r\n",
    "    if option == '1':\r\n",
    "        while True:\r\n",
    "            coinToss = randint(1,2)\r\n",
    "            try:\r\n",
    "                guess = int(input('Heads(1) or Tails(2): '))\r\n",
    "                if guess == 1000:\r\n",
    "                    break\r\n",
    "            except:\r\n",
    "                print('Invalid input.')\r\n",
    "                continue\r\n",
    "            \r\n",
    "            if guess > 2 or guess == 0:\r\n",
    "                print('Invalid input.')\r\n",
    "                continue\r\n",
    "\r\n",
    "            elif guess == coinToss:\r\n",
    "                money += 9\r\n",
    "                print(f'COIN TOSS: {coin[coinToss - 1]} || USER\\'S GUESS: {coin[guess - 1]}\\nYou guessed correctly.' +\r\n",
    "                    '\\nYou gain $9' + f'\\nCurrent amount: ${money}.')\r\n",
    "\r\n",
    "            elif guess != coinToss:\r\n",
    "                money -= 10\r\n",
    "                print(f'COIN TOSS: {coin[coinToss-1]} || USER\\'S GUESS: {coin[guess-1]}\\nYou guessed wrongly.' + \r\n",
    "                '\\nYou lose $10 ' + f'\\nCurrent amount: ${money}')\r\n",
    "\r\n",
    "            if money == 200:\r\n",
    "                print(f'You win.\\nCurrent amount: ${money}')\r\n",
    "                break\r\n",
    "            elif money <= 0:\r\n",
    "                print(f'You have ran out of money.\\nYou lose.')\r\n",
    "                break\r\n",
    "\r\n",
    "    elif option == '2':\r\n",
    "        print('''HOW TO PLAY\r\n",
    "The player starts with $100. On each turn a coin is flipped and the player has to guess heads or tails. The player wins $9\r\n",
    "for each correct guess and loses $10 for each incorrect guess. The game ends either when the player runs out of money or \r\n",
    "gets to $200.''')\r\n",
    "    elif option == '#':\r\n",
    "        break\r\n",
    "    else:\r\n",
    "        print('Invalid input.')\r\n",
    "        continue"
   ],
   "outputs": [],
   "metadata": {}
  },
  {
   "cell_type": "code",
   "execution_count": 4,
   "source": [
    "#15\r\n",
    "'''\r\n",
    "Write a program to play the following game. There is a list of several country names and the\r\n",
    "program randomly picks one. The player then has to guess letters in the word one at a time.\r\n",
    "Before each guess the country name is displayed with correctly guessed letters filled in and\r\n",
    "the rest of the letters represented with dashes. For instance, if the country is Canada and the\r\n",
    "player has correctly guessed a, d, and n, the program would display -ana-da. The program\r\n",
    "should continue until the player either guesses all of the letters of the word or gets five letters\r\n",
    "wrong.\r\n",
    "'''\r\n",
    "from random import choice\r\n",
    "countries = ['australia', 'poland', 'switzerland', 'canada', 'brazil', 'chile', 'nigeria', 'turkey', 'spain', 'algeria',\r\n",
    "             'austria', 'belgium', 'germany', 'angola', 'argentina', 'cameroon', 'france', 'china', 'denmark', 'azerbaijan',\r\n",
    "             'albania', 'chad', 'greece', 'colombia', 'cambodia', 'armenia', 'cuba', 'belarus', 'senegal', 'gabon', 'ghana']\r\n",
    "country = choice(countries)\r\n",
    "countryLettersList = list(country)\r\n",
    "userLettersList = ['-' for i in range(len(country))]\r\n",
    "wrong = 0\r\n",
    "while userLettersList != countryLettersList:\r\n",
    "    print(f\"COUNTRY: {''.join(userLettersList)}\")\r\n",
    "    letterGuess = input('Guess a letter in the country\\s name: ')\r\n",
    "    if letterGuess in countryLettersList:\r\n",
    "        for i in range(len(countryLettersList)):\r\n",
    "            if letterGuess == countryLettersList[i]:\r\n",
    "                userLettersList[i] = letterGuess\r\n",
    "    else:\r\n",
    "        wrong += 1\r\n",
    "        print(f'The country\\'s name does not contain the letter {letterGuess}\\n{5-wrong} trials left.')\r\n",
    "\r\n",
    "    if wrong == 5:\r\n",
    "        print(f'Game Over. You got five letters wrong.\\nThe country is {country}')\r\n",
    "        break\r\n",
    "else:\r\n",
    "    print(f\"CORRECT! The country is {''.join(userLettersList).title()}\")      \r\n"
   ],
   "outputs": [
    {
     "output_type": "stream",
     "name": "stdout",
     "text": [
      "COUNTRY: ------\n",
      "COUNTRY: a----a\n",
      "The country's name does not contain the letter u\n",
      "4 trials left.\n",
      "COUNTRY: a----a\n",
      "COUNTRY: a---la\n",
      "COUNTRY: an--la\n",
      "COUNTRY: ang-la\n",
      "CORRECT! The country is Angola\n"
     ]
    }
   ],
   "metadata": {}
  },
  {
   "cell_type": "code",
   "execution_count": null,
   "source": [
    "#16\r\n",
    "'''\r\n",
    "Write a text-based version of the game Memory. The game should generate a 5 × 5 board (see\r\n",
    "the exercise from Chapter 8). Initially the program should display the board as a 5 × 5 grid of\r\n",
    "asterisks. The user then enters the coordinates of a cell. The program should display the grid\r\n",
    "with the character at those coordinates now displayed. The user then enters coordinates of\r\n",
    "another cell. The program should now display the grid with the previous character and the\r\n",
    "new character displayed. If the two characters match, then they should permanently replace\r\n",
    "the asterisks in those locations. Otherwise, when the user enters the next set of coordinates,\r\n",
    "those characters should be replaced by asterisks. The game continues this way until the player\r\n",
    "matches everything or runs out of turns. You can decide how many turns they player gets.\r\n",
    "'''\r\n",
    "from random import *\r\n",
    "from pprint import pprint\r\n",
    "charactersList = 'abcdefghijklmnopqrstuvwxyz1234567890-+_)(*&^%$#@!~`[]|'\r\n",
    "characters = sample(charactersList, 18)*2\r\n",
    "shuffle(characters)\r\n",
    "grid = ['row', 'column']\r\n",
    "charBoard = [[characters[i*6 + j] for j in range(6)] for i in range(6)]\r\n",
    "astBoard = [['*' for row in range(6)]for col in range(6)]\r\n",
    "count = 0\r\n",
    "pprint(charBoard)\r\n",
    "while astBoard != charBoard:\r\n",
    "    print()\r\n",
    "    for row in astBoard:\r\n",
    "        for item in row:\r\n",
    "            print(item, end=' ')\r\n",
    "        print()\r\n",
    "    coordinates1 = []\r\n",
    "    coordinates1 = [int(input(f'Input grid {grid[i]}: ')) for i in range(2)]\r\n",
    "    if astBoard[coordinates1[0]-1][coordinates1[1]-1] != '*':\r\n",
    "        continue\r\n",
    "    astBoard[coordinates1[0]-1][coordinates1[1]-1] = charBoard[coordinates1[0]-1][coordinates1[1]-1]\r\n",
    "    print()\r\n",
    "    for row in astBoard:\r\n",
    "        for item in row:\r\n",
    "            print(item, end=' ')\r\n",
    "        print()\r\n",
    "    coordinates2 = []\r\n",
    "    coordinates2 = [int(input(f'Input grid {grid[i]}: ')) for i in range(2)]\r\n",
    "    if astBoard[coordinates2[0]-1][coordinates2[1]-1] != '*':\r\n",
    "        continue\r\n",
    "    astBoard[coordinates2[0]-1][coordinates2[1]-1] = charBoard[coordinates2[0]-1][coordinates2[1]-1]\r\n",
    "    print()\r\n",
    "    for row in astBoard:\r\n",
    "        for item in row:\r\n",
    "            print(item, end=' ')\r\n",
    "        print()\r\n",
    "    if astBoard[coordinates1[0]-1][coordinates1[1]-1] != astBoard[coordinates2[0]-1][coordinates2[1]-1]:\r\n",
    "        astBoard[coordinates1[0]-1][coordinates1[1]-1] = '*'\r\n",
    "        astBoard[coordinates2[0]-1][coordinates2[1]-1] = '*'\r\n",
    "    count += 1\r\n",
    "    if count == 50:\r\n",
    "        print('Game over.')\r\n",
    "        break\r\n",
    "else:\r\n",
    "    print('You win.')"
   ],
   "outputs": [],
   "metadata": {}
  },
  {
   "cell_type": "code",
   "execution_count": null,
   "source": [
    "#17\r\n",
    "'''\r\n",
    "Ask the user to enter the numerator and denominator of a fraction, and the digit they want to\r\n",
    "know. For instance, if the user enters a numerator of 1 and a denominator of 7 and wants to\r\n",
    "know the 4th digit, your program should print out 8, because 1\r\n",
    "7 = .142856... and 8 is the 4th\r\n",
    "digit. One way to do this is to mimic the long division process you may have learned in grade\r\n",
    "school. It can be done in about five lines using the // operator at one point in the program.\r\n",
    "'''\r\n",
    "num = int(input('Input the numerator: '))\r\n",
    "den = int(input('Input the denominator: '))\r\n",
    "dig = int(input('Input the digit you want to know: '))\r\n",
    "i = 0\r\n",
    "while i < dig+1:\r\n",
    "    x = num // den\r\n",
    "    num = (num - (den*x))*10\r\n",
    "    i += 1\r\n",
    "print(x)"
   ],
   "outputs": [],
   "metadata": {}
  },
  {
   "cell_type": "code",
   "execution_count": 1,
   "source": [
    "#18\r\n",
    "'''\r\n",
    "Randomly generate a 6 × 6 list that has exactly 12 ones placed in random locations in the list.\r\n",
    "The rest of the entries should be zeroes.\r\n",
    "'''\r\n",
    "from random import sample\r\n",
    "from pprint import pprint\r\n",
    "theList = [[0 for c in range(6)] for r in range(6)]\r\n",
    "locations = [[r, c] for c in range(6) for r in range(6)]\r\n",
    "radomOnes = sample(locations, 12)\r\n",
    "#print(radomOnes)\r\n",
    "for r, c in radomOnes:\r\n",
    "    theList[r][c] = 1\r\n",
    "pprint(theList)"
   ],
   "outputs": [
    {
     "output_type": "stream",
     "name": "stdout",
     "text": [
      "[[0, 1, 1, 0, 1, 1],\n",
      " [0, 0, 0, 1, 0, 0],\n",
      " [1, 0, 0, 1, 1, 0],\n",
      " [1, 0, 0, 0, 1, 0],\n",
      " [1, 0, 0, 0, 0, 0],\n",
      " [0, 0, 1, 0, 0, 0]]\n"
     ]
    }
   ],
   "metadata": {}
  },
  {
   "cell_type": "code",
   "execution_count": 8,
   "source": [
    "#19\r\n",
    "'''\r\n",
    "Randomly generate a 9 × 9 list where the entries are integers between 1 and 9 with no repeat\r\n",
    "entries in any row or in any column.\r\n",
    "'''\r\n",
    "import random\r\n",
    "import pprint\r\n",
    "#nums = [[i for i in range(1,10)]for r in range(1,10)]\r\n",
    "#pprint.pprint(nums)\r\n",
    "cond = True\r\n",
    "while cond:\r\n",
    "    nums = [[i for i in range(1,10)]for r in range(1,10)]\r\n",
    "    ansList = list()\r\n",
    "    rep = []\r\n",
    "    for row in nums:\r\n",
    "        random.shuffle(row)\r\n",
    "        ansList.append(row)\r\n",
    "    for c in range(9):\r\n",
    "        rep = []\r\n",
    "        for r in range(9):\r\n",
    "            rep.append(ansList[r][c])\r\n",
    "        rep.sort()   \r\n",
    "        if rep != [i for i in range(1, 10)]:\r\n",
    "            cond = True\r\n",
    "            break\r\n",
    "    else:\r\n",
    "        cond = False\r\n",
    "pprint.pprint(ansList)"
   ],
   "outputs": [
    {
     "output_type": "error",
     "ename": "KeyboardInterrupt",
     "evalue": "",
     "traceback": [
      "\u001b[1;31m---------------------------------------------------------------------------\u001b[0m",
      "\u001b[1;31mKeyboardInterrupt\u001b[0m                         Traceback (most recent call last)",
      "\u001b[1;32m~\\AppData\\Local\\Temp/ipykernel_240/1704011582.py\u001b[0m in \u001b[0;36m<module>\u001b[1;34m\u001b[0m\n\u001b[0;32m     14\u001b[0m     \u001b[0mrep\u001b[0m \u001b[1;33m=\u001b[0m \u001b[1;33m[\u001b[0m\u001b[1;33m]\u001b[0m\u001b[1;33m\u001b[0m\u001b[1;33m\u001b[0m\u001b[0m\n\u001b[0;32m     15\u001b[0m     \u001b[1;32mfor\u001b[0m \u001b[0mrow\u001b[0m \u001b[1;32min\u001b[0m \u001b[0mnums\u001b[0m\u001b[1;33m:\u001b[0m\u001b[1;33m\u001b[0m\u001b[1;33m\u001b[0m\u001b[0m\n\u001b[1;32m---> 16\u001b[1;33m         \u001b[0mrandom\u001b[0m\u001b[1;33m.\u001b[0m\u001b[0mshuffle\u001b[0m\u001b[1;33m(\u001b[0m\u001b[0mrow\u001b[0m\u001b[1;33m)\u001b[0m\u001b[1;33m\u001b[0m\u001b[1;33m\u001b[0m\u001b[0m\n\u001b[0m\u001b[0;32m     17\u001b[0m         \u001b[0mansList\u001b[0m\u001b[1;33m.\u001b[0m\u001b[0mappend\u001b[0m\u001b[1;33m(\u001b[0m\u001b[0mrow\u001b[0m\u001b[1;33m)\u001b[0m\u001b[1;33m\u001b[0m\u001b[1;33m\u001b[0m\u001b[0m\n\u001b[0;32m     18\u001b[0m     \u001b[1;32mfor\u001b[0m \u001b[0mc\u001b[0m \u001b[1;32min\u001b[0m \u001b[0mrange\u001b[0m\u001b[1;33m(\u001b[0m\u001b[1;36m9\u001b[0m\u001b[1;33m)\u001b[0m\u001b[1;33m:\u001b[0m\u001b[1;33m\u001b[0m\u001b[1;33m\u001b[0m\u001b[0m\n",
      "\u001b[1;31mKeyboardInterrupt\u001b[0m: "
     ]
    }
   ],
   "metadata": {}
  }
 ],
 "metadata": {
  "interpreter": {
   "hash": "ac59ebe37160ed0dfa835113d9b8498d9f09ceb179beaac4002f036b9467c963"
  },
  "kernelspec": {
   "name": "python3",
   "display_name": "Python 3.9.6 64-bit"
  },
  "language_info": {
   "codemirror_mode": {
    "name": "ipython",
    "version": 3
   },
   "file_extension": ".py",
   "mimetype": "text/x-python",
   "name": "python",
   "nbconvert_exporter": "python",
   "pygments_lexer": "ipython3",
   "version": "3.9.6"
  }
 },
 "nbformat": 4,
 "nbformat_minor": 5
}