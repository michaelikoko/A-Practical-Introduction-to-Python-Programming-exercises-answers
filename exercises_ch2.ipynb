{
 "cells": [
  {
   "cell_type": "code",
   "execution_count": null,
   "source": [
    "#1\r\n",
    "name = input('Enter your name: ')\r\n",
    "for i in range(100):\r\n",
    "    print(name)"
   ],
   "outputs": [],
   "metadata": {}
  },
  {
   "cell_type": "code",
   "execution_count": null,
   "source": [
    "#2\r\n",
    "name = input('Enter your name: ')\r\n",
    "for i in range(999):\r\n",
    "    print(name, '',end='')"
   ],
   "outputs": [],
   "metadata": {}
  },
  {
   "cell_type": "code",
   "execution_count": null,
   "source": [
    "#3\r\n",
    "name = input('Enter your name: ')\r\n",
    "for i in range(100):\r\n",
    "    print(i+1, name)"
   ],
   "outputs": [],
   "metadata": {}
  },
  {
   "cell_type": "code",
   "execution_count": 1,
   "source": [
    "#4\r\n",
    "for i in range(1,21):\r\n",
    "    print(i, i**2, sep=\"---\")"
   ],
   "outputs": [
    {
     "output_type": "stream",
     "name": "stdout",
     "text": [
      "1---1\n",
      "2---4\n",
      "3---9\n",
      "4---16\n",
      "5---25\n",
      "6---36\n",
      "7---49\n",
      "8---64\n",
      "9---81\n",
      "10---100\n",
      "11---121\n",
      "12---144\n",
      "13---169\n",
      "14---196\n",
      "15---225\n",
      "16---256\n",
      "17---289\n",
      "18---324\n",
      "19---361\n",
      "20---400\n"
     ]
    }
   ],
   "metadata": {}
  },
  {
   "cell_type": "code",
   "execution_count": null,
   "source": [
    "#5\r\n",
    "for i in range(8,90,3):\r\n",
    "    print(i, ',', end='')"
   ],
   "outputs": [],
   "metadata": {}
  },
  {
   "cell_type": "code",
   "execution_count": null,
   "source": [
    "#6\r\n",
    "for i in range(100,1,-2):\r\n",
    "    print(i, ',', end='')"
   ],
   "outputs": [],
   "metadata": {}
  },
  {
   "cell_type": "code",
   "execution_count": null,
   "source": [
    "#7\r\n",
    "for i in range(10):\r\n",
    "    print('A', end='')\r\n",
    "for i in range(7):\r\n",
    "    print('B', end='')\r\n",
    "for i in range(4):\r\n",
    "    print('CD', end='')\r\n",
    "print('E', end='')\r\n",
    "for i in range(6):\r\n",
    "    print('F', end='')\r\n",
    "print('G', end='')"
   ],
   "outputs": [],
   "metadata": {}
  },
  {
   "cell_type": "code",
   "execution_count": null,
   "source": [
    "#8\r\n",
    "name = input('Enter your name: ')\r\n",
    "num = eval(input('Number of times you want it repeated: '))\r\n",
    "for i in range(num):\r\n",
    "    print(i+1, '.', name, '.', sep='')"
   ],
   "outputs": [],
   "metadata": {}
  },
  {
   "cell_type": "code",
   "execution_count": 10,
   "source": [
    "#9 I\r\n",
    "n = int(input('Input the number of terms: '))\r\n",
    "a = 1\r\n",
    "b = 1\r\n",
    "c = a + b\r\n",
    "print( a, end=' ')\r\n",
    "print( b, end=' ')\r\n",
    "print( c, end=' ')\r\n",
    "for i in range(4, n+1):\r\n",
    "    b = a\r\n",
    "    a = c\r\n",
    "    c = a + b\r\n",
    "    print(c, end=' ')"
   ],
   "outputs": [
    {
     "output_type": "stream",
     "name": "stdout",
     "text": [
      "1 1 2 3 5 8 13 21 34 55 "
     ]
    }
   ],
   "metadata": {}
  },
  {
   "cell_type": "code",
   "execution_count": 9,
   "source": [
    "#9 II\r\n",
    "n = int(input('Input the number of terms: '))\r\n",
    "a = 0\r\n",
    "b = 1\r\n",
    "print(a + b, end=' ')\r\n",
    "for i in range(n-1):\r\n",
    "    print(a + b, end=' ')\r\n",
    "    a,b=(b,a+b)\r\n"
   ],
   "outputs": [
    {
     "output_type": "stream",
     "name": "stdout",
     "text": [
      "1 1 2 3 5 8 13 21 34 55 "
     ]
    }
   ],
   "metadata": {}
  },
  {
   "cell_type": "code",
   "execution_count": 3,
   "source": [
    "#10 I\r\n",
    "height = int(input('Box height: '))\r\n",
    "width = int(input('Box width: '))\r\n",
    "for i in range(height):\r\n",
    "    print(' * '*width)"
   ],
   "outputs": [
    {
     "output_type": "stream",
     "name": "stdout",
     "text": [
      " *  *  *  *  *  *  *  *  *  * \n",
      " *  *  *  *  *  *  *  *  *  * \n",
      " *  *  *  *  *  *  *  *  *  * \n",
      " *  *  *  *  *  *  *  *  *  * \n",
      " *  *  *  *  *  *  *  *  *  * \n",
      " *  *  *  *  *  *  *  *  *  * \n",
      " *  *  *  *  *  *  *  *  *  * \n",
      " *  *  *  *  *  *  *  *  *  * \n",
      " *  *  *  *  *  *  *  *  *  * \n",
      " *  *  *  *  *  *  *  *  *  * \n"
     ]
    }
   ],
   "metadata": {}
  },
  {
   "cell_type": "code",
   "execution_count": 2,
   "source": [
    "#10 II\r\n",
    "width = int(input('Input width:'))\r\n",
    "height = int(input('Input height:'))\r\n",
    "for i in range(height):\r\n",
    "    for j in range(width):\r\n",
    "        print('* ', end='')\r\n",
    "    print()"
   ],
   "outputs": [
    {
     "output_type": "stream",
     "name": "stdout",
     "text": [
      "* * * \n",
      "* * * \n",
      "* * * \n",
      "* * * \n",
      "* * * \n"
     ]
    }
   ],
   "metadata": {}
  },
  {
   "cell_type": "code",
   "execution_count": 21,
   "source": [
    "#11\r\n",
    "height = int(input('Input box height: '))\r\n",
    "width = int(input('Input box width: '))\r\n",
    "print('* '*width)\r\n",
    "for i in range(height-2):\r\n",
    "    print('* ', ' '*(2*width-4), '*', sep='')\r\n",
    "print('* '*width)"
   ],
   "outputs": [
    {
     "output_type": "stream",
     "name": "stdout",
     "text": [
      "* * * * * * * * * * * * * * * \n",
      "*                           *\n",
      "*                           *\n",
      "*                           *\n",
      "* * * * * * * * * * * * * * * \n"
     ]
    }
   ],
   "metadata": {}
  },
  {
   "cell_type": "code",
   "execution_count": 1,
   "source": [
    "#12\r\n",
    "height = int(input('Input triangle height: '))\r\n",
    "for i in range(height):\r\n",
    "    print('* '*(i+1))"
   ],
   "outputs": [
    {
     "output_type": "stream",
     "name": "stdout",
     "text": [
      "* \n",
      "* * \n",
      "* * * \n",
      "* * * * \n",
      "* * * * * \n",
      "* * * * * * \n",
      "* * * * * * * \n"
     ]
    }
   ],
   "metadata": {}
  },
  {
   "cell_type": "code",
   "execution_count": 34,
   "source": [
    "#13\r\n",
    "height = int(input('Input triangle height: '))\r\n",
    "for i in range(height):\r\n",
    "    print('* '*(height - i))"
   ],
   "outputs": [
    {
     "output_type": "stream",
     "name": "stdout",
     "text": [
      "* * * * * * * \n",
      "* * * * * * \n",
      "* * * * * \n",
      "* * * * \n",
      "* * * \n",
      "* * \n",
      "* \n"
     ]
    }
   ],
   "metadata": {}
  },
  {
   "cell_type": "code",
   "execution_count": 1,
   "source": [
    "#14\r\n",
    "height = int(input('Input diamond height: '))\r\n",
    "a = (height + 1)//2 #height of the top triangle\r\n",
    "b = a-1 #height of the bottom triangle\r\n",
    "ast = '* '\r\n",
    "space = ' '\r\n",
    "for i in range(a):\r\n",
    "    print(space*((2*(a-1))-(2*i)), ast*i, ast*(i+1),sep='')\r\n",
    "for i in range(b):\r\n",
    "    print(space*2, space*(2*i), ast*(b-1-i), ast*(b - i), sep='')"
   ],
   "outputs": [
    {
     "output_type": "stream",
     "name": "stdout",
     "text": [
      "    * \n",
      "  * * * \n",
      "* * * * * \n",
      "  * * * \n",
      "    * \n"
     ]
    }
   ],
   "metadata": {}
  }
 ],
 "metadata": {
  "kernelspec": {
   "name": "python3",
   "display_name": "Python 3.9.6 64-bit"
  },
  "language_info": {
   "codemirror_mode": {
    "name": "ipython",
    "version": 3
   },
   "file_extension": ".py",
   "mimetype": "text/x-python",
   "name": "python",
   "nbconvert_exporter": "python",
   "pygments_lexer": "ipython3",
   "version": "3.9.6"
  },
  "interpreter": {
   "hash": "ac59ebe37160ed0dfa835113d9b8498d9f09ceb179beaac4002f036b9467c963"
  }
 },
 "nbformat": 4,
 "nbformat_minor": 5
}